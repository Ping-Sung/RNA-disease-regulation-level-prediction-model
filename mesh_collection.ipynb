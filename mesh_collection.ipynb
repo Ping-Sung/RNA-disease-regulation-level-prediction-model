{
  "nbformat": 4,
  "nbformat_minor": 0,
  "metadata": {
    "colab": {
      "provenance": []
    },
    "kernelspec": {
      "name": "python3",
      "display_name": "Python 3"
    },
    "language_info": {
      "name": "python"
    }
  },
  "cells": [
    {
      "cell_type": "code",
      "source": [
        "import pandas as pd"
      ],
      "metadata": {
        "id": "Sq-eg-zgauvd"
      },
      "execution_count": null,
      "outputs": []
    },
    {
      "cell_type": "code",
      "execution_count": null,
      "metadata": {
        "colab": {
          "base_uri": "https://localhost:8080/",
          "height": 424
        },
        "id": "x762osqhaq0C",
        "outputId": "22d207ed-45bc-496b-bca0-b8b49e4b6d32"
      },
      "outputs": [
        {
          "output_type": "execute_result",
          "data": {
            "text/plain": [
              "             Mature_name                       seq             mir result  \\\n",
              "0        hsa-miR-125a-5p  UCCCUGAGACCCUUUAACCUGUGA    hsa-mir-125a   down   \n",
              "1        hsa-miR-125a-3p    ACAGGUGAGGUUCUUGGGAGCC    hsa-mir-125a   down   \n",
              "2        hsa-miR-125b-5p    UCCCUGAGACCCUAACUUGUGA  hsa-mir-125b-1   down   \n",
              "3      hsa-miR-125b-1-3p    ACGGGUUAGGCUCUUGGGAGCU  hsa-mir-125b-1   down   \n",
              "4        hsa-miR-125b-5p    UCCCUGAGACCCUAACUUGUGA  hsa-mir-125b-2   down   \n",
              "...                  ...                       ...             ...    ...   \n",
              "20814     hsa-miR-27b-3p     UUCACAGUGGCUAAGUUCUGC     hsa-mir-27b   down   \n",
              "20815     hsa-miR-140-5p    CAGUGGUUUUACCCUAUGGUAG     hsa-mir-140   down   \n",
              "20816     hsa-miR-140-3p     UACCACAGGGUAGAACCACGG     hsa-mir-140   down   \n",
              "20817     hsa-miR-410-5p     AGGUUGUCUGUGAUGAGUUCG     hsa-mir-410   down   \n",
              "20818     hsa-miR-410-3p     AAUAUAACACAGAUGGCCUGU     hsa-mir-410   down   \n",
              "\n",
              "                                disease  result_soft  \n",
              "0                      Breast Neoplasms    -1.000000  \n",
              "1                      Breast Neoplasms    -1.000000  \n",
              "2                      Breast Neoplasms    -0.333333  \n",
              "3                      Breast Neoplasms    -0.333333  \n",
              "4                      Breast Neoplasms    -0.250000  \n",
              "...                                 ...          ...  \n",
              "20814               Atrial Fibrillation    -1.000000  \n",
              "20815  Intervertebral Disc Degeneration    -1.000000  \n",
              "20816  Intervertebral Disc Degeneration    -1.000000  \n",
              "20817         Carcinoma, Hepatocellular    -1.000000  \n",
              "20818         Carcinoma, Hepatocellular    -1.000000  \n",
              "\n",
              "[20819 rows x 6 columns]"
            ],
            "text/html": [
              "\n",
              "  <div id=\"df-bb53fa8e-54c5-4c2e-94b1-51cabe40c730\">\n",
              "    <div class=\"colab-df-container\">\n",
              "      <div>\n",
              "<style scoped>\n",
              "    .dataframe tbody tr th:only-of-type {\n",
              "        vertical-align: middle;\n",
              "    }\n",
              "\n",
              "    .dataframe tbody tr th {\n",
              "        vertical-align: top;\n",
              "    }\n",
              "\n",
              "    .dataframe thead th {\n",
              "        text-align: right;\n",
              "    }\n",
              "</style>\n",
              "<table border=\"1\" class=\"dataframe\">\n",
              "  <thead>\n",
              "    <tr style=\"text-align: right;\">\n",
              "      <th></th>\n",
              "      <th>Mature_name</th>\n",
              "      <th>seq</th>\n",
              "      <th>mir</th>\n",
              "      <th>result</th>\n",
              "      <th>disease</th>\n",
              "      <th>result_soft</th>\n",
              "    </tr>\n",
              "  </thead>\n",
              "  <tbody>\n",
              "    <tr>\n",
              "      <th>0</th>\n",
              "      <td>hsa-miR-125a-5p</td>\n",
              "      <td>UCCCUGAGACCCUUUAACCUGUGA</td>\n",
              "      <td>hsa-mir-125a</td>\n",
              "      <td>down</td>\n",
              "      <td>Breast Neoplasms</td>\n",
              "      <td>-1.000000</td>\n",
              "    </tr>\n",
              "    <tr>\n",
              "      <th>1</th>\n",
              "      <td>hsa-miR-125a-3p</td>\n",
              "      <td>ACAGGUGAGGUUCUUGGGAGCC</td>\n",
              "      <td>hsa-mir-125a</td>\n",
              "      <td>down</td>\n",
              "      <td>Breast Neoplasms</td>\n",
              "      <td>-1.000000</td>\n",
              "    </tr>\n",
              "    <tr>\n",
              "      <th>2</th>\n",
              "      <td>hsa-miR-125b-5p</td>\n",
              "      <td>UCCCUGAGACCCUAACUUGUGA</td>\n",
              "      <td>hsa-mir-125b-1</td>\n",
              "      <td>down</td>\n",
              "      <td>Breast Neoplasms</td>\n",
              "      <td>-0.333333</td>\n",
              "    </tr>\n",
              "    <tr>\n",
              "      <th>3</th>\n",
              "      <td>hsa-miR-125b-1-3p</td>\n",
              "      <td>ACGGGUUAGGCUCUUGGGAGCU</td>\n",
              "      <td>hsa-mir-125b-1</td>\n",
              "      <td>down</td>\n",
              "      <td>Breast Neoplasms</td>\n",
              "      <td>-0.333333</td>\n",
              "    </tr>\n",
              "    <tr>\n",
              "      <th>4</th>\n",
              "      <td>hsa-miR-125b-5p</td>\n",
              "      <td>UCCCUGAGACCCUAACUUGUGA</td>\n",
              "      <td>hsa-mir-125b-2</td>\n",
              "      <td>down</td>\n",
              "      <td>Breast Neoplasms</td>\n",
              "      <td>-0.250000</td>\n",
              "    </tr>\n",
              "    <tr>\n",
              "      <th>...</th>\n",
              "      <td>...</td>\n",
              "      <td>...</td>\n",
              "      <td>...</td>\n",
              "      <td>...</td>\n",
              "      <td>...</td>\n",
              "      <td>...</td>\n",
              "    </tr>\n",
              "    <tr>\n",
              "      <th>20814</th>\n",
              "      <td>hsa-miR-27b-3p</td>\n",
              "      <td>UUCACAGUGGCUAAGUUCUGC</td>\n",
              "      <td>hsa-mir-27b</td>\n",
              "      <td>down</td>\n",
              "      <td>Atrial Fibrillation</td>\n",
              "      <td>-1.000000</td>\n",
              "    </tr>\n",
              "    <tr>\n",
              "      <th>20815</th>\n",
              "      <td>hsa-miR-140-5p</td>\n",
              "      <td>CAGUGGUUUUACCCUAUGGUAG</td>\n",
              "      <td>hsa-mir-140</td>\n",
              "      <td>down</td>\n",
              "      <td>Intervertebral Disc Degeneration</td>\n",
              "      <td>-1.000000</td>\n",
              "    </tr>\n",
              "    <tr>\n",
              "      <th>20816</th>\n",
              "      <td>hsa-miR-140-3p</td>\n",
              "      <td>UACCACAGGGUAGAACCACGG</td>\n",
              "      <td>hsa-mir-140</td>\n",
              "      <td>down</td>\n",
              "      <td>Intervertebral Disc Degeneration</td>\n",
              "      <td>-1.000000</td>\n",
              "    </tr>\n",
              "    <tr>\n",
              "      <th>20817</th>\n",
              "      <td>hsa-miR-410-5p</td>\n",
              "      <td>AGGUUGUCUGUGAUGAGUUCG</td>\n",
              "      <td>hsa-mir-410</td>\n",
              "      <td>down</td>\n",
              "      <td>Carcinoma, Hepatocellular</td>\n",
              "      <td>-1.000000</td>\n",
              "    </tr>\n",
              "    <tr>\n",
              "      <th>20818</th>\n",
              "      <td>hsa-miR-410-3p</td>\n",
              "      <td>AAUAUAACACAGAUGGCCUGU</td>\n",
              "      <td>hsa-mir-410</td>\n",
              "      <td>down</td>\n",
              "      <td>Carcinoma, Hepatocellular</td>\n",
              "      <td>-1.000000</td>\n",
              "    </tr>\n",
              "  </tbody>\n",
              "</table>\n",
              "<p>20819 rows × 6 columns</p>\n",
              "</div>\n",
              "      <button class=\"colab-df-convert\" onclick=\"convertToInteractive('df-bb53fa8e-54c5-4c2e-94b1-51cabe40c730')\"\n",
              "              title=\"Convert this dataframe to an interactive table.\"\n",
              "              style=\"display:none;\">\n",
              "        \n",
              "  <svg xmlns=\"http://www.w3.org/2000/svg\" height=\"24px\"viewBox=\"0 0 24 24\"\n",
              "       width=\"24px\">\n",
              "    <path d=\"M0 0h24v24H0V0z\" fill=\"none\"/>\n",
              "    <path d=\"M18.56 5.44l.94 2.06.94-2.06 2.06-.94-2.06-.94-.94-2.06-.94 2.06-2.06.94zm-11 1L8.5 8.5l.94-2.06 2.06-.94-2.06-.94L8.5 2.5l-.94 2.06-2.06.94zm10 10l.94 2.06.94-2.06 2.06-.94-2.06-.94-.94-2.06-.94 2.06-2.06.94z\"/><path d=\"M17.41 7.96l-1.37-1.37c-.4-.4-.92-.59-1.43-.59-.52 0-1.04.2-1.43.59L10.3 9.45l-7.72 7.72c-.78.78-.78 2.05 0 2.83L4 21.41c.39.39.9.59 1.41.59.51 0 1.02-.2 1.41-.59l7.78-7.78 2.81-2.81c.8-.78.8-2.07 0-2.86zM5.41 20L4 18.59l7.72-7.72 1.47 1.35L5.41 20z\"/>\n",
              "  </svg>\n",
              "      </button>\n",
              "      \n",
              "  <style>\n",
              "    .colab-df-container {\n",
              "      display:flex;\n",
              "      flex-wrap:wrap;\n",
              "      gap: 12px;\n",
              "    }\n",
              "\n",
              "    .colab-df-convert {\n",
              "      background-color: #E8F0FE;\n",
              "      border: none;\n",
              "      border-radius: 50%;\n",
              "      cursor: pointer;\n",
              "      display: none;\n",
              "      fill: #1967D2;\n",
              "      height: 32px;\n",
              "      padding: 0 0 0 0;\n",
              "      width: 32px;\n",
              "    }\n",
              "\n",
              "    .colab-df-convert:hover {\n",
              "      background-color: #E2EBFA;\n",
              "      box-shadow: 0px 1px 2px rgba(60, 64, 67, 0.3), 0px 1px 3px 1px rgba(60, 64, 67, 0.15);\n",
              "      fill: #174EA6;\n",
              "    }\n",
              "\n",
              "    [theme=dark] .colab-df-convert {\n",
              "      background-color: #3B4455;\n",
              "      fill: #D2E3FC;\n",
              "    }\n",
              "\n",
              "    [theme=dark] .colab-df-convert:hover {\n",
              "      background-color: #434B5C;\n",
              "      box-shadow: 0px 1px 3px 1px rgba(0, 0, 0, 0.15);\n",
              "      filter: drop-shadow(0px 1px 2px rgba(0, 0, 0, 0.3));\n",
              "      fill: #FFFFFF;\n",
              "    }\n",
              "  </style>\n",
              "\n",
              "      <script>\n",
              "        const buttonEl =\n",
              "          document.querySelector('#df-bb53fa8e-54c5-4c2e-94b1-51cabe40c730 button.colab-df-convert');\n",
              "        buttonEl.style.display =\n",
              "          google.colab.kernel.accessAllowed ? 'block' : 'none';\n",
              "\n",
              "        async function convertToInteractive(key) {\n",
              "          const element = document.querySelector('#df-bb53fa8e-54c5-4c2e-94b1-51cabe40c730');\n",
              "          const dataTable =\n",
              "            await google.colab.kernel.invokeFunction('convertToInteractive',\n",
              "                                                     [key], {});\n",
              "          if (!dataTable) return;\n",
              "\n",
              "          const docLinkHtml = 'Like what you see? Visit the ' +\n",
              "            '<a target=\"_blank\" href=https://colab.research.google.com/notebooks/data_table.ipynb>data table notebook</a>'\n",
              "            + ' to learn more about interactive tables.';\n",
              "          element.innerHTML = '';\n",
              "          dataTable['output_type'] = 'display_data';\n",
              "          await google.colab.output.renderOutput(dataTable, element);\n",
              "          const docLink = document.createElement('div');\n",
              "          docLink.innerHTML = docLinkHtml;\n",
              "          element.appendChild(docLink);\n",
              "        }\n",
              "      </script>\n",
              "    </div>\n",
              "  </div>\n",
              "  "
            ]
          },
          "metadata": {},
          "execution_count": 2
        }
      ],
      "source": [
        "path = r\"/content/drive/MyDrive/miRNA/last_data/raw_all.csv\"\n",
        "df_cir_full = pd.read_csv(path)\n",
        "df_cir_full"
      ]
    },
    {
      "cell_type": "code",
      "source": [
        "disease_name = []\n",
        "for i in range(len(df_cir_full)):\n",
        "  if df_cir_full.iloc[i]['disease'] not in disease_name: disease_name.append(df_cir_full.iloc[i]['disease'])\n",
        "disease_name"
      ],
      "metadata": {
        "id": "hkHO9P6gavmM",
        "colab": {
          "base_uri": "https://localhost:8080/"
        },
        "outputId": "542c38f0-807f-4a9f-96df-6e7c74d27ad4"
      },
      "execution_count": null,
      "outputs": [
        {
          "output_type": "execute_result",
          "data": {
            "text/plain": [
              "['Breast Neoplasms',\n",
              " 'Carcinoma, Hepatocellular',\n",
              " 'Hepatitis C Virus Infection',\n",
              " 'Lung Neoplasms',\n",
              " 'Vascular Hypertrophy',\n",
              " 'Neoplasms [unspecific]',\n",
              " 'Prostate Neoplasms',\n",
              " 'Cardiomyopathy, Hypertrophic',\n",
              " 'Adenocarcinoma, Pancreatic Ductal',\n",
              " 'Schizophrenia',\n",
              " 'Autoimmune Diseases [unspecific]',\n",
              " 'Leukemia, Lymphocytic, Chronic, B-Cell',\n",
              " 'Carcinoma, Thyroid, Anaplastic',\n",
              " 'Heart Failure',\n",
              " 'Atopic Dermatitis',\n",
              " 'Psoriasis',\n",
              " 'Ovarian Neoplasms',\n",
              " 'Musculoskeletal Abnormalities [unspecific]',\n",
              " 'Retinitis Pigmentosa',\n",
              " 'Carcinoma, Rectal',\n",
              " 'Alzheimer Disease',\n",
              " 'Retinal Neovascularization',\n",
              " 'Urinary Bladder Cancer',\n",
              " 'Carcinoma, Pancreatic',\n",
              " 'Head And Neck Neoplasms',\n",
              " 'Lymphoma, Burkitt',\n",
              " 'Medulloblastoma',\n",
              " 'Endometriosis',\n",
              " 'Adenocarcinoma, Endometrial',\n",
              " 'Gastric Neoplasms',\n",
              " 'Digestive System Neoplasms',\n",
              " 'Astrocytoma',\n",
              " 'Hepatitis B Virus Infection',\n",
              " 'Carcinoma, Renal Cell',\n",
              " 'Kaposi Sarcoma',\n",
              " 'Lymphoma, Primary Effusion',\n",
              " 'Endotoxemia',\n",
              " 'Colorectal Carcinoma',\n",
              " 'Primary Biliary Cirrhosis',\n",
              " 'Leukemia-Lymphoma, Precursor T-Cell Lymphoblastic',\n",
              " 'Salivary Gland Neoplasms',\n",
              " 'Carcinoma, Adrenocortical',\n",
              " 'Liver Diseases [unspecific]',\n",
              " 'Bladder Neoplasms',\n",
              " 'Essential Thrombocythemia',\n",
              " 'Gastrointestinal Neoplasms',\n",
              " 'Adrenal Cortex Neoplasms',\n",
              " 'Fatty Liver [unspecific]',\n",
              " 'Melanoma',\n",
              " 'Pancreatic Neoplasms',\n",
              " 'Lymphoma',\n",
              " 'Hepatoblastoma',\n",
              " 'Osteoarthritis',\n",
              " 'Squamous Cell Carcinoma',\n",
              " 'Glioblastoma',\n",
              " 'Colon Neoplasms',\n",
              " 'Liver Neoplasms',\n",
              " 'Testicular Neoplasms',\n",
              " 'Interstitial Cystitis',\n",
              " 'Endometrial Neoplasms',\n",
              " 'Myocardial Infarction',\n",
              " 'Squamous Cell Carcinoma, Head and Neck',\n",
              " 'Cardiovascular Diseases [unspecific]',\n",
              " 'Polycythemia Vera',\n",
              " 'Carcinoma, Oral',\n",
              " 'Choriocarcinoma',\n",
              " 'Carcinoma, Lung, Non-Small-Cell',\n",
              " 'Colorectal Adenocarcinoma',\n",
              " 'Cervical Neoplasms',\n",
              " 'Lymphoma, T-Cell',\n",
              " 'Squamous Cell Carcinoma, Lung',\n",
              " 'Adenovirus Infection',\n",
              " 'Multiple Sclerosis',\n",
              " 'Laryngeal Neoplasms',\n",
              " 'Spinal Cord Injuries',\n",
              " 'Aortic Insufficiency',\n",
              " 'Aortic Stenosis',\n",
              " 'Chronic Heart Failure',\n",
              " 'Neuroma',\n",
              " 'Fatty Liver, Non-Alcoholic',\n",
              " 'Myotonic Muscular Dystrophy',\n",
              " 'Myelodysplastic Syndromes',\n",
              " 'Esophageal Neoplasms',\n",
              " 'Squamous Cell Carcinoma, Oral',\n",
              " 'Learned Helplessness',\n",
              " 'Carcinoma, Cervical',\n",
              " 'Mesothelioma',\n",
              " 'Nasopharyngeal Neoplasms',\n",
              " 'Systemic Lupus Erythematosus',\n",
              " 'Hypertrophy',\n",
              " 'Barrett Esophagus',\n",
              " 'Thyroid Neoplasms',\n",
              " 'Colitis, Ulcerative',\n",
              " 'Parkinson Disease',\n",
              " 'Osteosarcoma',\n",
              " 'Carcinoma, Lung, Small-Cell',\n",
              " 'Cholangiocarcinoma',\n",
              " 'Diabetes Mellitus',\n",
              " 'Asthma',\n",
              " 'Asthenozoospermia',\n",
              " 'Lichen Planus',\n",
              " 'Mycosis Fungoides',\n",
              " 'Neuroblastoma',\n",
              " 'Aortic Aneurysm, Thoracic',\n",
              " 'Cardiomyopathy, Dilated',\n",
              " 'Ependymoma',\n",
              " 'Glioma',\n",
              " 'Allergic Rhinitis,Perennial',\n",
              " 'Acquired Immunodeficiency Syndrome',\n",
              " 'Diabetic Nephropathy',\n",
              " 'Inflammation',\n",
              " 'Burns',\n",
              " 'Carcinoma, Basal Cell',\n",
              " 'Scleroderma, Systemic',\n",
              " 'Human Immunodeficiency Virus Infection',\n",
              " 'Prolactinoma',\n",
              " 'Leukemia, Myeloid, Chronic',\n",
              " 'Coronary Artery Disease',\n",
              " 'Squamous Cell Carcinoma, Sinonasal',\n",
              " 'Meningioma',\n",
              " 'Chronic Obstructive Pulmonary Disease',\n",
              " 'Preeclampsia',\n",
              " 'Interstitial Lung Disease',\n",
              " 'Behcet Disease',\n",
              " 'Sepsis',\n",
              " 'Retinoblastoma',\n",
              " 'Tuberculosis, Pulmonary',\n",
              " 'Atrial Fibrillation',\n",
              " 'Tuberculosis',\n",
              " 'Prion Diseases',\n",
              " 'Squamous Cell Carcinoma, Esophageal',\n",
              " 'Leukemia, Promyelocytic, Acute',\n",
              " 'Squamous Cell Carcinoma, Skin or Unspecific',\n",
              " 'Pulmonary Hypertension',\n",
              " 'Leukemia',\n",
              " 'Waldenstrom Macroglobulinemia',\n",
              " 'Chronic Hepatitis C',\n",
              " 'Adenocarcinoma, Gastric',\n",
              " 'Ischemia-Reperfusion Injury',\n",
              " 'Allergic Rhinitis',\n",
              " 'Hereditary Hemorrhagic Telangiectasia',\n",
              " 'Carcinoma, Colon',\n",
              " 'Carcinoma, Renal Cell, Clear-Cell',\n",
              " 'Carcinoma, Bladder',\n",
              " 'Carcinoma, Esophageal',\n",
              " 'Squamous Cell Carcinoma, Laryngeal or Hypopharyngeal',\n",
              " 'Carcinoma, Gastric',\n",
              " 'Leukemia, Myeloid, Acute',\n",
              " 'Intervertebral Disc Degeneration',\n",
              " 'Ischemic Heart Disease',\n",
              " 'Muscular Dystrophy, Facioscapulohumeral',\n",
              " 'Pleural Mesothelioma',\n",
              " 'Cytomegalovirus Retinitis',\n",
              " 'Carcinoma, Nasopharyngeal',\n",
              " 'Early-Stage Cervical Squamous Cell Carcinoma',\n",
              " 'Lymphoma, Non-Hodgkin',\n",
              " 'Ewing Sarcoma',\n",
              " 'Diabetic Cardiomyopathies',\n",
              " 'Pituitary Adenoma',\n",
              " 'Carcinoma, Laryngeal',\n",
              " 'Arteriosclerosis Obliterans',\n",
              " 'Leukemia, Lymphoblastic, Acute, T-Cell',\n",
              " 'Spinal Muscular Atrophy',\n",
              " 'Myositis',\n",
              " 'Uveal Melanoma',\n",
              " 'Osteogenesis Imperfecta',\n",
              " 'Squamous Cell Carcinoma, Cerevial',\n",
              " 'Carcinoma, Breast, Triple Negative',\n",
              " 'Myeloma',\n",
              " 'Hirschsprung Disease',\n",
              " 'Ectopic Pregnancy',\n",
              " 'Kawasaki Syndrome',\n",
              " 'Acute Respiratory Distress Syndrome',\n",
              " 'Multiple Myeloma',\n",
              " 'Kidney Neoplasms',\n",
              " 'Inflammatory Bowel Diseases',\n",
              " 'Carcinoma, Ovarian, Clear Cell',\n",
              " 'Carcinoma, Ovarian',\n",
              " 'Chondrosarcoma',\n",
              " 'Glomerulonephritis',\n",
              " 'Leukemia, Lymphoblastic',\n",
              " 'Carcinoma, Merkel Cell',\n",
              " 'Polycystic Ovarian Syndrome',\n",
              " 'Carcinoma, Prostate',\n",
              " 'Lung Fibrosis',\n",
              " 'Adenocarcinoma, Esophageal',\n",
              " 'Malignant Neoplasms [unspecific]',\n",
              " 'Fibromyalgia',\n",
              " 'Crohn Disease',\n",
              " 'Kidney Diseases [unspecific]',\n",
              " 'Respiratory Syncytial Virus Pneumonia',\n",
              " 'Bronchiolitis Obliterans Syndrome',\n",
              " 'Carcinoma, Gastric, Signet Ring Cell',\n",
              " 'Obesity',\n",
              " 'Acute Myocardial Infarction',\n",
              " 'Huntington Disease',\n",
              " 'Liver Cirrhosis',\n",
              " 'Atherosclerosis',\n",
              " 'Diabetes Mellitus, Type 1',\n",
              " 'Chronic Hepatitis B',\n",
              " 'Cardiac Fibrosis',\n",
              " 'Carcinoma, Thyroid, Papillary',\n",
              " 'Muscular Dystrophy',\n",
              " 'Epstein-Barr Virus Infection',\n",
              " 'Periodontal Diseases',\n",
              " 'Cardiomyopathy',\n",
              " 'Lymphoma, B-Cell',\n",
              " 'Spinal Stenosis',\n",
              " 'Nervous System Diseases [unspecific]',\n",
              " 'Cardiomegaly',\n",
              " 'Lymphoma, Large B-Cell, Diffuse',\n",
              " 'Viral Infectious Disease',\n",
              " 'Chronic Kidney Disease',\n",
              " 'Cutaneous Melanoma',\n",
              " 'Colitis',\n",
              " 'Neurodegenerative Diseases [unspecific]',\n",
              " 'Cardiotoxicity',\n",
              " 'Sarcoma [unspecific]',\n",
              " 'Habitual Abortion',\n",
              " 'Sjogren Syndrome',\n",
              " 'Adenocarcinoma, Lung',\n",
              " 'Vitiligo',\n",
              " 'Periodontitis',\n",
              " 'Oral Lichen Planus',\n",
              " 'Hypertension',\n",
              " 'Carcinoma, Lung',\n",
              " 'Leiomyoma',\n",
              " 'Carcinoma, Breast',\n",
              " 'Kideny Transplant Rejection',\n",
              " 'Mitochondrial Metabolism Disease',\n",
              " 'Osteoporosis',\n",
              " 'Diabetes Mellitus, Type 2',\n",
              " 'Autism Spectrum Disorder',\n",
              " 'Chronic Inflammation',\n",
              " 'Adenocarcinoma, Colon',\n",
              " 'Human Papilloma Virus Infection',\n",
              " 'Vascular Disease [unspecific]',\n",
              " 'Cerebral Cavernous Malformations',\n",
              " 'Carcinoma, Adenoid Cystic',\n",
              " 'Nephrotic Syndrome',\n",
              " 'Endocrine Gland Neoplasms',\n",
              " 'Ischemia',\n",
              " 'Fibromatosis, Aggressive',\n",
              " 'Pituitary Neoplasms',\n",
              " 'Stroke',\n",
              " 'Vasomotor Rhinitis',\n",
              " 'Alcoholic Cardiomyopathy',\n",
              " 'Ovarian Germ Cell Cancer',\n",
              " 'NUT Midline Carcinoma',\n",
              " 'Infection [unspecific]',\n",
              " 'Carcinoma, Endometrioid Endometrial',\n",
              " 'Carcinoma, Hepatocellular, HBV-Related',\n",
              " 'Urinary System Cancer',\n",
              " 'Myasthenia Gravis',\n",
              " 'Oligodendroglioma',\n",
              " 'Uterine Leiomyoma',\n",
              " 'Irritable Bowel Syndrome',\n",
              " 'Carcinosarcoma',\n",
              " 'Endometrial Stromal Sarcoma',\n",
              " 'Leiomyosarcoma',\n",
              " 'Amyotrophic Lateral Sclerosis',\n",
              " 'Infertility',\n",
              " 'Idiopathic Pulmonary Fibrosis',\n",
              " 'Human Cytomegalovirus Infection',\n",
              " 'Rhinosinusitis',\n",
              " 'Carcinoma, Embryonal',\n",
              " 'Autistic Disorder',\n",
              " 'Brain Neoplasms',\n",
              " 'Azoospermia',\n",
              " 'Leukemia, Myelogenous, Chronic, BCR-ABL Positive',\n",
              " 'Breast Adenocarcinoma',\n",
              " 'Immune System Disease [unspecific]',\n",
              " 'Bone Disease [unspecific]',\n",
              " 'Nevus',\n",
              " 'Cerebral Malaria',\n",
              " 'Frontotemporal Lobar Degeneration',\n",
              " 'Rheumatoid Arthritis',\n",
              " 'Lupus Nephritis',\n",
              " 'Shock, Septic',\n",
              " 'Carcinoma, Thyroid, Medullary',\n",
              " 'Mesial Temporal Lobe Epilepsy',\n",
              " 'Myeloproliferative Neoplasms',\n",
              " 'Viral Myocarditis',\n",
              " 'Carcinoma, Skin',\n",
              " 'Lymphoma, Large B-Cell',\n",
              " 'Chordoma',\n",
              " 'Carcinoma, Ovarian, Serous',\n",
              " 'Wounds and Injuries [unspecific]',\n",
              " 'Pterygium',\n",
              " 'Oral Leukoplakia',\n",
              " 'Down Syndrome',\n",
              " 'Traumatic Brain Injury',\n",
              " 'Psychiatric Disorders',\n",
              " 'Bronchopulmonary Dysplasia',\n",
              " 'Thyroid Lymphoma',\n",
              " 'Carcinoma, Endometrial',\n",
              " 'Liposarcoma',\n",
              " 'Carcinoma, Thyroid',\n",
              " 'Mycobacterium Avium Complex Disease',\n",
              " 'Polycystic Kidney Disease',\n",
              " 'Neuroendocrine Tumors',\n",
              " 'Autoimmune Thyroiditis',\n",
              " 'Carcinoma, Periampullary',\n",
              " 'Early-Stage Gastric Carcinoma',\n",
              " 'Diabetes Mellitus, Gestational',\n",
              " 'Carcinoma, Thyroid, Follicular',\n",
              " 'Stroke, Hemorrhagic',\n",
              " 'Carcinoma, Supraglottic',\n",
              " 'Recurrent Spontaneous Abortion',\n",
              " 'Uterine Corpus Serous Adenocarcinoma',\n",
              " 'Varicella',\n",
              " 'Post-Traumatic Stress Disorder',\n",
              " 'Keloid',\n",
              " 'Perlman Syndrome',\n",
              " 'Muscle Atrophy',\n",
              " 'Acute Liver Failure',\n",
              " 'Pallister-Killian Syndrome',\n",
              " 'Multiple System Atrophy',\n",
              " 'Digeorge Syndrome',\n",
              " 'Lymphoproliferative Disorders',\n",
              " 'Male Infertility',\n",
              " 'Heart Transplant Rejection',\n",
              " 'Adenocarcinoma, Cervical',\n",
              " 'Intracranial Aneurysm',\n",
              " 'Adenocarcinoma, Gastric-Esophageal Junction',\n",
              " 'Ovarian Disease',\n",
              " 'Colorectal Adenoma',\n",
              " 'Squamous Cell Carcinoma, Tongue',\n",
              " 'Small Cell Carcinoma, Esophageal',\n",
              " 'Muscle Diseases [unspecific]',\n",
              " 'Head And Neck Adenoid Cystic Carcinoma',\n",
              " 'Medulloepithelioma',\n",
              " 'Spinal Chordoma',\n",
              " 'Non-Traumatic Osteonecrosis',\n",
              " 'Intrahepatic Cholangiocarcinoma',\n",
              " 'Chronic Pancreatitis',\n",
              " 'Rectal Neoplasms',\n",
              " 'Carcinoma, Renal Cell, Chromophobe',\n",
              " 'Necrotizing Enterocolitis',\n",
              " 'Uterine Corpus Myxoid Leiomyosarcoma',\n",
              " 'Carcinoma, Urothelial, Upper Tract',\n",
              " 'Hypertrophic Scar',\n",
              " 'Pulmonary Sarcoidosis',\n",
              " 'Neuroepithelial Tumors',\n",
              " 'Diabetic Foot',\n",
              " 'Myocardial Ischemic-Reperfusion Injury',\n",
              " 'Gastric Cardia Adenocarcinoma',\n",
              " 'Vogt-Koyanagi-Harada Disease',\n",
              " 'Silicosis',\n",
              " 'Oral Neoplasms',\n",
              " 'Balkan Nephropathy',\n",
              " 'Soft Tissue Sarcoma',\n",
              " 'Rectum Adenocarcinoma',\n",
              " 'Liver Injury',\n",
              " 'Chronic Brucellosis',\n",
              " 'Borna Disease',\n",
              " 'Ischemic Diseases [unspecific]',\n",
              " 'Carcinoma, Urothelial',\n",
              " 'Polyangiitis',\n",
              " 'Reproductive System Disease',\n",
              " 'Epilepsy',\n",
              " 'Cerebral Aneurysm',\n",
              " 'Guillain-Barre Syndrome',\n",
              " 'Peritoneal Dialysis Failure',\n",
              " 'Stroke, Ischemic',\n",
              " 'Aortic Aneurysm',\n",
              " 'Porphyromonas Gingivalis',\n",
              " 'Lyme Disease',\n",
              " 'Adenocarcinoma, Sebaceous',\n",
              " 'Penis Carcinoma',\n",
              " 'Endomyocardial Fibrosis',\n",
              " 'Gestational Trophoblastic Disease',\n",
              " 'Toxoplasma gondii Infection',\n",
              " 'Thymoma',\n",
              " 'Carcinoma, Tounge',\n",
              " 'Sertoli Cell-Only Syndrome',\n",
              " 'Mastitis',\n",
              " 'Pancreatic Adenocarcinoma',\n",
              " 'Skin Hemangioma',\n",
              " 'African Swine Fever',\n",
              " 'Carcinoma, Mucoepidermoid',\n",
              " 'Vulvar Squamous Tumor',\n",
              " 'Mitral Valve Disease',\n",
              " 'Acute Peritonitis',\n",
              " 'Peritoneal Neoplasms',\n",
              " 'Diabetic Peripheral Neuropathy',\n",
              " 'Parathyroid Carcinoma',\n",
              " 'Uterine Corpus Endometrial Carcinoma',\n",
              " 'Germ Cell Tumor',\n",
              " 'Pediatric Ependymoma',\n",
              " 'Hearing Disorders',\n",
              " 'Liver Fibrosis',\n",
              " 'Ganglioglioma',\n",
              " 'Glaucoma',\n",
              " 'Renal Oncocytoma',\n",
              " 'Smoke Inhalation Injury',\n",
              " 'Tetralogy Of Fallot',\n",
              " 'Carcinoma, Head And Neck',\n",
              " 'Cardiac Myxoma',\n",
              " 'Pancreatic Endocrine Carcinoma',\n",
              " 'Prader-Willi Syndrome',\n",
              " 'X-linked Alport Syndrome',\n",
              " 'Lymphoma, Hodgkin',\n",
              " 'Leukemia, B-Cell',\n",
              " 'Leukemia-Lymphoma, Precursor B-Cell Lymphoblastic',\n",
              " 'Breast Ductal Carcinoma',\n",
              " 'Eclampsia',\n",
              " 'Cholesteatoma',\n",
              " 'Hematologic Neoplasms',\n",
              " 'Nephrosclerosis',\n",
              " 'Retinal Degeneration',\n",
              " 'Leukemia, Biphenotypic, Acute',\n",
              " 'Rhabdomyosarcoma',\n",
              " 'Niemann-Pick Disease, Type C',\n",
              " 'Neurilemmoma',\n",
              " 'Synovial Sarcoma',\n",
              " 'Sezary Disease',\n",
              " 'Liver Failure',\n",
              " 'Renal Fibrosis',\n",
              " 'Leukemia, Myeloid',\n",
              " 'Biliary Tract Neoplasms',\n",
              " 'Carcinoma, Ehrlich Tumor',\n",
              " 'Alopecia',\n",
              " 'Creutzfeldt-Jakob Disease',\n",
              " 'Gerstmann-Straussler-Scheinker Syndrome',\n",
              " 'Pheochromocytoma',\n",
              " 'Graft-Versus-Host Disease',\n",
              " 'Multiple Endocrine Neoplasia Type 1',\n",
              " 'Demyelinating Diseases',\n",
              " 'Liver Diseases, Alcoholic',\n",
              " 'Eosinophilic Esophagitis',\n",
              " 'Carcinoma, Neuroendocrine',\n",
              " 'Acute Lung Injury',\n",
              " 'Seminoma',\n",
              " 'Esophagitis',\n",
              " 'Aortic Aneurysm, Abdominal',\n",
              " 'Ankylosing Spondylitis',\n",
              " 'Intestinal Schistosomiasis',\n",
              " 'Pediatric Osteosarcoma',\n",
              " 'Salmonellosis',\n",
              " 'Pancreatic Intraductal Papillary Mucinous Neoplasms',\n",
              " 'Acute Kidney Failure',\n",
              " 'Knee Osteoarthritis',\n",
              " 'Early-Stage Breast Carcinoma',\n",
              " 'Macular Degeneration',\n",
              " 'Chronic Hepatitis',\n",
              " 'HIV-Associated Lipodystrophy',\n",
              " 'Carcinoma, Gingival',\n",
              " 'Osteonecrosis',\n",
              " 'Gastroduodenal Ulcer',\n",
              " 'Hyperglycemia',\n",
              " 'Follicular Atresia',\n",
              " 'Cataract',\n",
              " 'Sebaceous Carcinoma',\n",
              " 'Leukemia-Lymphoma, Adult T-Cell',\n",
              " 'Gaucher Disease',\n",
              " 'Vulvar Squamous Cell Carcinoma',\n",
              " 'Scleroderma, Localized',\n",
              " 'Toxic Encephalopathy',\n",
              " 'Aneurysmal Subarachnoid Hemorrhage',\n",
              " 'Lymphoma, Mantle-Cell',\n",
              " 'Chronic Alcohol-Induced Alveolar Macrophage Dysfunction',\n",
              " 'Helicobacter pylori Infection',\n",
              " 'Hypoxic-Ischemic Encephalopathy',\n",
              " 'Alcoholic Hepatitis',\n",
              " 'Acute Pancreatitis',\n",
              " 'Shock, Hemorrhagic',\n",
              " 'Proliferative Vitreoretinal Disease',\n",
              " 'Cerebral Ischemia',\n",
              " 'Otitis Media',\n",
              " 'Seizures',\n",
              " 'Carcinoma, Gastrooesophageal',\n",
              " 'Chorioamnionitis',\n",
              " 'Adenosquamous Pancreas Carcinoma',\n",
              " 'Congenital Heart Diseases',\n",
              " 'Non Specific Chronic Endometritis',\n",
              " 'Adenocarcinoma, Ampullary',\n",
              " 'Fragile X Syndrome',\n",
              " 'Lupus Vulgaris',\n",
              " 'Leukemia, Myeloid, Chronic-Phase',\n",
              " 'Marek Disease',\n",
              " 'Child Development Disorders, Pervasive',\n",
              " 'Lymphoma, Large-Cell, Anaplastic',\n",
              " 'Hemangioma',\n",
              " 'Graves Disease',\n",
              " 'Methylmalonic Acidemia',\n",
              " 'Acute Cerebral Infarction',\n",
              " 'Premature Ovarian Failure',\n",
              " 'Arrhythmia',\n",
              " 'Plasmodium vivax Infection',\n",
              " 'Dengue Virus Infection',\n",
              " 'Acute Heart Failure',\n",
              " 'Spondylarthritis',\n",
              " 'Leukemia, Myeloid, Acute, Pediatric',\n",
              " 'Anxiety Disorders',\n",
              " 'Carotid Artery Diseases',\n",
              " 'Acute Ischemic Stroke',\n",
              " 'Aortic Valve Disease',\n",
              " 'Leukemia, Lymphoblastic, Acute, Childhood',\n",
              " 'Leukemia, Lymphoblastic, Acute',\n",
              " 'Frontotemporal Dementia',\n",
              " 'Familial Mediterranean Fever',\n",
              " 'Arthritis',\n",
              " 'Anemia',\n",
              " 'Hyperactivity Disorder',\n",
              " 'Heart Diseases [unspecific]',\n",
              " 'Metabolic Syndrome',\n",
              " 'Leukemia, Acute',\n",
              " 'Muscular Dystrophy, Duchenne',\n",
              " 'Acute Cerebral Ischemia',\n",
              " 'Giant Cell Tumor of Bone',\n",
              " 'Lung Disease [unspecific]',\n",
              " 'Machado-Joseph Disease',\n",
              " 'Ovary Mixed Epithelial Carcinoma',\n",
              " 'Peripheral Vascular Disease',\n",
              " 'Hereditary Breast Carcinoma',\n",
              " 'HELLP Syndrome',\n",
              " 'Mild Cognitive Impairment',\n",
              " 'Immune Thrombocytopenic Purpura',\n",
              " 'Early-Stage Non-Small-Cell Lung Carcinoma',\n",
              " 'Early-Stage Lung Carcinoma',\n",
              " 'Non-Neoplastic Diseases',\n",
              " 'Influenza',\n",
              " 'Focal Segmental Glomerulosclerosis',\n",
              " 'Proliferative Diabetic Retinopathy',\n",
              " 'Macroglobulinemia',\n",
              " 'Prediabetes',\n",
              " 'Unstable Angina',\n",
              " 'Carcinoma, Biliary Tract',\n",
              " 'Allergic Asthma',\n",
              " 'Acute Coronary Syndrome',\n",
              " 'Carcinoma, Gallbladder',\n",
              " 'Brain Disease [unspecific]',\n",
              " 'Vasculitis',\n",
              " 'Mycobacterium tuberculosis Infection',\n",
              " 'Coronary Atherosclerosis',\n",
              " 'Carcinoma, Hepatocellular, HCV-Related',\n",
              " 'Essential Hypertension',\n",
              " 'Angiosarcoma',\n",
              " 'Rheumatic Heart Diseases',\n",
              " 'Major Depressive Disorder',\n",
              " 'Inherited Hemoglobin Disease',\n",
              " 'Myotonic Dystrophy Type 1',\n",
              " 'Autoimmune Lymphoproliferative Syndrome',\n",
              " 'Idiopathic Asthenospermia',\n",
              " 'Aplastic Anemia',\n",
              " 'Age-Related Macular Degeneration',\n",
              " 'Lofgren Syndrome',\n",
              " 'Kidney Injury',\n",
              " 'Neuralgia, Postherpetic',\n",
              " 'Foot-and-Mouth Disease',\n",
              " 'Hyperhomocysteinemia',\n",
              " 'Hyperlipoproteinemia Type III',\n",
              " 'Peripheral Nervous System Diseases',\n",
              " 'Celiac Disease',\n",
              " 'Transitional Cell Carcinoma',\n",
              " 'Crohn Colitis',\n",
              " 'Bicuspid Aortic Valve Disease',\n",
              " 'Friedreich Ataxia',\n",
              " 'Dementia',\n",
              " 'Chagas Disease',\n",
              " 'Proliferative Glomerulonephritis',\n",
              " 'Diabetic Retinopathy',\n",
              " 'Uterine Cancer',\n",
              " 'Primary Sclerosing Cholangitis',\n",
              " 'Cystic Fibrosis',\n",
              " 'Hepatic Veno-Occlusive Disease',\n",
              " 'Frailty',\n",
              " 'Hepatitis [unspecific]',\n",
              " 'Testicular Germ Cell Tumor',\n",
              " 'Vascular Myelopathy',\n",
              " 'Focal Epithelial Hyperplasia',\n",
              " 'Eczema Herpeticum',\n",
              " 'Cerebellum Cancer',\n",
              " 'Tongue Neoplasms',\n",
              " 'Fatty Liver, Alcoholic',\n",
              " 'Pulmonary Embolism',\n",
              " 'Hyperlipidemia',\n",
              " 'Idiopathic Short Stature',\n",
              " 'Systemic Lupus Erythematosus, With Pericarditis',\n",
              " 'Moyamoya Disease',\n",
              " 'Cardiac Allograft Vasculopathy',\n",
              " 'Hypercholesterolaemia',\n",
              " 'Chronic Fatigue Syndrome',\n",
              " 'Depression Disorder',\n",
              " 'Hearing Loss',\n",
              " 'Migraine',\n",
              " 'Peripheral Nerve Injury',\n",
              " 'Glycogen Storage Disease II',\n",
              " 'Amyloidosis',\n",
              " 'Central Nervous System Embryonal Tumor',\n",
              " 'Pelvic Inflammatory Disease',\n",
              " 'Graves Ophthalmopathy',\n",
              " 'Intermittent Claudication',\n",
              " 'Toxic Epidermal Necrolysis',\n",
              " 'Autoimmune Hepatitis',\n",
              " 'Encephalitis',\n",
              " 'B-cell Childhood Acute Lymphoblastic Leukemia',\n",
              " 'Stevens-Johnson Syndrome',\n",
              " 'Plasmodium Falciparum Malaria',\n",
              " 'Progressive Supranuclear Palsy',\n",
              " 'Idiopathic Pulmonary Hypertension',\n",
              " 'Primary Immunodeficiency Disease',\n",
              " 'Hypogonadotropic Hypogonadism',\n",
              " 'Gout',\n",
              " 'Tourette Syndrome',\n",
              " 'Encephalomyelitis',\n",
              " 'Vascular Injuries',\n",
              " 'Listeriosis',\n",
              " 'Acute Erythroid Leukemia',\n",
              " 'Gastrointestinal Stromal Tumor',\n",
              " 'Sensorineural Hearing Loss',\n",
              " 'Fanconi Anemia',\n",
              " 'Juvenile Rheumatoid Arthritis',\n",
              " 'Cytotoxicity Tests, Immunologic',\n",
              " 'Neovascularization, Pathologic',\n",
              " 'Wound Healing',\n",
              " 'Neuropathic Pain',\n",
              " 'Congenital Diaphragmatic Hernia',\n",
              " 'Neuroinflammation',\n",
              " 'Lymphoma, T-Cell, Cutaneous',\n",
              " 'Hypoxia',\n",
              " 'Carcinoma, Salivary Adenoid Cystic',\n",
              " 'Chronic Pain',\n",
              " 'Lacrimal Adenoid Cystic Carcinoma',\n",
              " 'Invasive Bladder Transitional Cell Carcinoma',\n",
              " 'Granular Corneal Dystrophy',\n",
              " 'Allergy',\n",
              " 'Cardiomyopathy, Ischemic']"
            ]
          },
          "metadata": {},
          "execution_count": 3
        }
      ]
    },
    {
      "cell_type": "code",
      "source": [
        "len(disease_name)"
      ],
      "metadata": {
        "colab": {
          "base_uri": "https://localhost:8080/"
        },
        "id": "nJ9CwDr5m183",
        "outputId": "f58df142-c3f2-44f4-9da2-2bd66dedddb6"
      },
      "execution_count": null,
      "outputs": [
        {
          "output_type": "execute_result",
          "data": {
            "text/plain": [
              "629"
            ]
          },
          "metadata": {},
          "execution_count": 4
        }
      ]
    },
    {
      "cell_type": "code",
      "source": [
        "import requests\n",
        "from bs4 import BeautifulSoup\n",
        "from tqdm import tqdm"
      ],
      "metadata": {
        "id": "o4J-kjlyawqk"
      },
      "execution_count": null,
      "outputs": []
    },
    {
      "cell_type": "code",
      "source": [
        "def getMeshbyDisease(name, i):\n",
        "  # name = name.rstrip()\n",
        "  name = name.replace(' [unspecific]', '')\n",
        "  name = name.replace(',', '%2C')\n",
        "  name = name.replace(' ', '%20')\n",
        "  \n",
        "  \n",
        "  site = r'https://meshb.nlm.nih.gov/search?searchMethod=FullWord&searchInField=allTerms&sort=&size=20&searchType=exactMatch&q=' + name\n",
        "  response = requests.get(site)\n",
        "  soup = BeautifulSoup(response.text, \"html.parser\")\n",
        "  href = soup.find(id=\"searchResults\").a\n",
        "  if href != None:\n",
        "    href = href.get('href')\n",
        "\n",
        "    full_herf = r'https://meshb.nlm.nih.gov' + href\n",
        "    print(i, \": \", full_herf)\n",
        "    # print(full_herf)\n",
        "    return full_herf\n",
        "  else:\n",
        "    print(i, \": \", name)\n",
        "    return \"\"\n",
        "\n",
        "\n",
        "getMeshbyDisease(disease_name[1],1)"
      ],
      "metadata": {
        "colab": {
          "base_uri": "https://localhost:8080/",
          "height": 53
        },
        "id": "LLT0cX-Vakeg",
        "outputId": "dae0e4b3-b157-47a3-cd88-7c0404821863"
      },
      "execution_count": null,
      "outputs": [
        {
          "output_type": "stream",
          "name": "stdout",
          "text": [
            "1 :  https://meshb.nlm.nih.gov/record/ui?ui=D006528\n"
          ]
        },
        {
          "output_type": "execute_result",
          "data": {
            "text/plain": [
              "'https://meshb.nlm.nih.gov/record/ui?ui=D006528'"
            ],
            "application/vnd.google.colaboratory.intrinsic+json": {
              "type": "string"
            }
          },
          "metadata": {},
          "execution_count": 6
        }
      ]
    },
    {
      "cell_type": "code",
      "source": [
        "full_herf_list = []\n",
        "for i in tqdm(range(len(disease_name))):\n",
        "  name = disease_name[i]\n",
        "  full_herf_list.append(getMeshbyDisease(name, i))\n",
        "full_herf_list"
      ],
      "metadata": {
        "id": "V9DdsFgybOsi",
        "colab": {
          "base_uri": "https://localhost:8080/"
        },
        "outputId": "b7a766cb-4ced-4754-ab88-be6964439ab4"
      },
      "execution_count": null,
      "outputs": [
        {
          "output_type": "stream",
          "name": "stderr",
          "text": [
            "  0%|          | 1/629 [00:00<09:45,  1.07it/s]"
          ]
        },
        {
          "output_type": "stream",
          "name": "stdout",
          "text": [
            "0 :  https://meshb.nlm.nih.gov/record/ui?ui=D001943\n"
          ]
        },
        {
          "output_type": "stream",
          "name": "stderr",
          "text": [
            "\r  0%|          | 2/629 [00:01<09:44,  1.07it/s]"
          ]
        },
        {
          "output_type": "stream",
          "name": "stdout",
          "text": [
            "1 :  https://meshb.nlm.nih.gov/record/ui?ui=D006528\n"
          ]
        },
        {
          "output_type": "stream",
          "name": "stderr",
          "text": [
            "\r  0%|          | 3/629 [00:02<09:45,  1.07it/s]"
          ]
        },
        {
          "output_type": "stream",
          "name": "stdout",
          "text": [
            "2 :  Hepatitis%20C%20Virus%20Infection\n"
          ]
        },
        {
          "output_type": "stream",
          "name": "stderr",
          "text": [
            "\r  1%|          | 4/629 [00:03<09:44,  1.07it/s]"
          ]
        },
        {
          "output_type": "stream",
          "name": "stdout",
          "text": [
            "3 :  https://meshb.nlm.nih.gov/record/ui?ui=D008175\n"
          ]
        },
        {
          "output_type": "stream",
          "name": "stderr",
          "text": [
            "\r  1%|          | 5/629 [00:04<09:43,  1.07it/s]"
          ]
        },
        {
          "output_type": "stream",
          "name": "stdout",
          "text": [
            "4 :  Vascular%20Hypertrophy\n"
          ]
        },
        {
          "output_type": "stream",
          "name": "stderr",
          "text": [
            "\r  1%|          | 6/629 [00:05<09:42,  1.07it/s]"
          ]
        },
        {
          "output_type": "stream",
          "name": "stdout",
          "text": [
            "5 :  https://meshb.nlm.nih.gov/record/ui?ui=D009369\n"
          ]
        },
        {
          "output_type": "stream",
          "name": "stderr",
          "text": [
            "\r  1%|          | 7/629 [00:06<09:41,  1.07it/s]"
          ]
        },
        {
          "output_type": "stream",
          "name": "stdout",
          "text": [
            "6 :  https://meshb.nlm.nih.gov/record/ui?ui=D011471\n"
          ]
        },
        {
          "output_type": "stream",
          "name": "stderr",
          "text": [
            "\r  1%|▏         | 8/629 [00:07<09:39,  1.07it/s]"
          ]
        },
        {
          "output_type": "stream",
          "name": "stdout",
          "text": [
            "7 :  https://meshb.nlm.nih.gov/record/ui?ui=D002312\n"
          ]
        },
        {
          "output_type": "stream",
          "name": "stderr",
          "text": [
            "\r  1%|▏         | 9/629 [00:08<09:38,  1.07it/s]"
          ]
        },
        {
          "output_type": "stream",
          "name": "stdout",
          "text": [
            "8 :  Adenocarcinoma%2C%20Pancreatic%20Ductal\n"
          ]
        },
        {
          "output_type": "stream",
          "name": "stderr",
          "text": [
            "\r  2%|▏         | 10/629 [00:09<09:37,  1.07it/s]"
          ]
        },
        {
          "output_type": "stream",
          "name": "stdout",
          "text": [
            "9 :  https://meshb.nlm.nih.gov/record/ui?ui=D012559\n"
          ]
        },
        {
          "output_type": "stream",
          "name": "stderr",
          "text": [
            "\r  2%|▏         | 11/629 [00:10<09:36,  1.07it/s]"
          ]
        },
        {
          "output_type": "stream",
          "name": "stdout",
          "text": [
            "10 :  https://meshb.nlm.nih.gov/record/ui?ui=D001327\n"
          ]
        },
        {
          "output_type": "stream",
          "name": "stderr",
          "text": [
            "\r  2%|▏         | 12/629 [00:11<09:36,  1.07it/s]"
          ]
        },
        {
          "output_type": "stream",
          "name": "stdout",
          "text": [
            "11 :  https://meshb.nlm.nih.gov/record/ui?ui=D015451\n"
          ]
        },
        {
          "output_type": "stream",
          "name": "stderr",
          "text": [
            "\r  2%|▏         | 13/629 [00:12<09:35,  1.07it/s]"
          ]
        },
        {
          "output_type": "stream",
          "name": "stdout",
          "text": [
            "12 :  Carcinoma%2C%20Thyroid%2C%20Anaplastic\n"
          ]
        },
        {
          "output_type": "stream",
          "name": "stderr",
          "text": [
            "\r  2%|▏         | 14/629 [00:13<09:34,  1.07it/s]"
          ]
        },
        {
          "output_type": "stream",
          "name": "stdout",
          "text": [
            "13 :  https://meshb.nlm.nih.gov/record/ui?ui=D006333\n"
          ]
        },
        {
          "output_type": "stream",
          "name": "stderr",
          "text": [
            "\r  2%|▏         | 15/629 [00:14<09:32,  1.07it/s]"
          ]
        },
        {
          "output_type": "stream",
          "name": "stdout",
          "text": [
            "14 :  https://meshb.nlm.nih.gov/record/ui?ui=D003876\n"
          ]
        },
        {
          "output_type": "stream",
          "name": "stderr",
          "text": [
            "\r  3%|▎         | 16/629 [00:14<09:31,  1.07it/s]"
          ]
        },
        {
          "output_type": "stream",
          "name": "stdout",
          "text": [
            "15 :  https://meshb.nlm.nih.gov/record/ui?ui=D011565\n"
          ]
        },
        {
          "output_type": "stream",
          "name": "stderr",
          "text": [
            "\r  3%|▎         | 17/629 [00:15<09:31,  1.07it/s]"
          ]
        },
        {
          "output_type": "stream",
          "name": "stdout",
          "text": [
            "16 :  https://meshb.nlm.nih.gov/record/ui?ui=D010051\n"
          ]
        },
        {
          "output_type": "stream",
          "name": "stderr",
          "text": [
            "\r  3%|▎         | 18/629 [00:16<09:31,  1.07it/s]"
          ]
        },
        {
          "output_type": "stream",
          "name": "stdout",
          "text": [
            "17 :  https://meshb.nlm.nih.gov/record/ui?ui=D009139\n"
          ]
        },
        {
          "output_type": "stream",
          "name": "stderr",
          "text": [
            "\r  3%|▎         | 19/629 [00:17<09:30,  1.07it/s]"
          ]
        },
        {
          "output_type": "stream",
          "name": "stdout",
          "text": [
            "18 :  https://meshb.nlm.nih.gov/record/ui?ui=D012174\n"
          ]
        },
        {
          "output_type": "stream",
          "name": "stderr",
          "text": [
            "\r  3%|▎         | 20/629 [00:18<09:29,  1.07it/s]"
          ]
        },
        {
          "output_type": "stream",
          "name": "stdout",
          "text": [
            "19 :  Carcinoma%2C%20Rectal\n"
          ]
        },
        {
          "output_type": "stream",
          "name": "stderr",
          "text": [
            "\r  3%|▎         | 21/629 [00:19<09:28,  1.07it/s]"
          ]
        },
        {
          "output_type": "stream",
          "name": "stdout",
          "text": [
            "20 :  https://meshb.nlm.nih.gov/record/ui?ui=D000544\n"
          ]
        },
        {
          "output_type": "stream",
          "name": "stderr",
          "text": [
            "\r  3%|▎         | 22/629 [00:20<09:28,  1.07it/s]"
          ]
        },
        {
          "output_type": "stream",
          "name": "stdout",
          "text": [
            "21 :  https://meshb.nlm.nih.gov/record/ui?ui=D015861\n"
          ]
        },
        {
          "output_type": "stream",
          "name": "stderr",
          "text": [
            "\r  4%|▎         | 23/629 [00:21<09:26,  1.07it/s]"
          ]
        },
        {
          "output_type": "stream",
          "name": "stdout",
          "text": [
            "22 :  https://meshb.nlm.nih.gov/record/ui?ui=D001749\n"
          ]
        },
        {
          "output_type": "stream",
          "name": "stderr",
          "text": [
            "\r  4%|▍         | 24/629 [00:22<09:25,  1.07it/s]"
          ]
        },
        {
          "output_type": "stream",
          "name": "stdout",
          "text": [
            "23 :  Carcinoma%2C%20Pancreatic\n"
          ]
        },
        {
          "output_type": "stream",
          "name": "stderr",
          "text": [
            "\r  4%|▍         | 25/629 [00:23<09:24,  1.07it/s]"
          ]
        },
        {
          "output_type": "stream",
          "name": "stdout",
          "text": [
            "24 :  https://meshb.nlm.nih.gov/record/ui?ui=D006258\n"
          ]
        },
        {
          "output_type": "stream",
          "name": "stderr",
          "text": [
            "\r  4%|▍         | 26/629 [00:24<11:01,  1.10s/it]"
          ]
        },
        {
          "output_type": "stream",
          "name": "stdout",
          "text": [
            "25 :  https://meshb.nlm.nih.gov/record/ui?ui=D002051\n"
          ]
        },
        {
          "output_type": "stream",
          "name": "stderr",
          "text": [
            "\r  4%|▍         | 27/629 [00:25<10:31,  1.05s/it]"
          ]
        },
        {
          "output_type": "stream",
          "name": "stdout",
          "text": [
            "26 :  https://meshb.nlm.nih.gov/record/ui?ui=D008527\n"
          ]
        },
        {
          "output_type": "stream",
          "name": "stderr",
          "text": [
            "\r  4%|▍         | 28/629 [00:26<10:11,  1.02s/it]"
          ]
        },
        {
          "output_type": "stream",
          "name": "stdout",
          "text": [
            "27 :  https://meshb.nlm.nih.gov/record/ui?ui=D004715\n"
          ]
        },
        {
          "output_type": "stream",
          "name": "stderr",
          "text": [
            "\r  5%|▍         | 29/629 [00:27<09:54,  1.01it/s]"
          ]
        },
        {
          "output_type": "stream",
          "name": "stdout",
          "text": [
            "28 :  Adenocarcinoma%2C%20Endometrial\n"
          ]
        },
        {
          "output_type": "stream",
          "name": "stderr",
          "text": [
            "\r  5%|▍         | 30/629 [00:28<09:44,  1.03it/s]"
          ]
        },
        {
          "output_type": "stream",
          "name": "stdout",
          "text": [
            "29 :  https://meshb.nlm.nih.gov/record/ui?ui=D013274\n"
          ]
        },
        {
          "output_type": "stream",
          "name": "stderr",
          "text": [
            "\r  5%|▍         | 31/629 [00:29<09:37,  1.04it/s]"
          ]
        },
        {
          "output_type": "stream",
          "name": "stdout",
          "text": [
            "30 :  https://meshb.nlm.nih.gov/record/ui?ui=D004067\n"
          ]
        },
        {
          "output_type": "stream",
          "name": "stderr",
          "text": [
            "\r  5%|▌         | 32/629 [00:30<09:31,  1.04it/s]"
          ]
        },
        {
          "output_type": "stream",
          "name": "stdout",
          "text": [
            "31 :  https://meshb.nlm.nih.gov/record/ui?ui=D001254\n"
          ]
        },
        {
          "output_type": "stream",
          "name": "stderr",
          "text": [
            "\r  5%|▌         | 33/629 [00:31<09:25,  1.05it/s]"
          ]
        },
        {
          "output_type": "stream",
          "name": "stdout",
          "text": [
            "32 :  https://meshb.nlm.nih.gov/record/ui?ui=D006509\n"
          ]
        },
        {
          "output_type": "stream",
          "name": "stderr",
          "text": [
            "\r  5%|▌         | 34/629 [00:32<09:22,  1.06it/s]"
          ]
        },
        {
          "output_type": "stream",
          "name": "stdout",
          "text": [
            "33 :  https://meshb.nlm.nih.gov/record/ui?ui=D002292\n"
          ]
        },
        {
          "output_type": "stream",
          "name": "stderr",
          "text": [
            "\r  6%|▌         | 35/629 [00:33<09:19,  1.06it/s]"
          ]
        },
        {
          "output_type": "stream",
          "name": "stdout",
          "text": [
            "34 :  https://meshb.nlm.nih.gov/record/ui?ui=D012514\n"
          ]
        },
        {
          "output_type": "stream",
          "name": "stderr",
          "text": [
            "\r  6%|▌         | 36/629 [00:34<09:17,  1.06it/s]"
          ]
        },
        {
          "output_type": "stream",
          "name": "stdout",
          "text": [
            "35 :  https://meshb.nlm.nih.gov/record/ui?ui=D054685\n"
          ]
        },
        {
          "output_type": "stream",
          "name": "stderr",
          "text": [
            "\r  6%|▌         | 37/629 [00:35<09:16,  1.06it/s]"
          ]
        },
        {
          "output_type": "stream",
          "name": "stdout",
          "text": [
            "36 :  https://meshb.nlm.nih.gov/record/ui?ui=D019446\n"
          ]
        },
        {
          "output_type": "stream",
          "name": "stderr",
          "text": [
            "\r  6%|▌         | 38/629 [00:36<09:14,  1.07it/s]"
          ]
        },
        {
          "output_type": "stream",
          "name": "stdout",
          "text": [
            "37 :  https://meshb.nlm.nih.gov/record/ui?ui=D015179\n"
          ]
        },
        {
          "output_type": "stream",
          "name": "stderr",
          "text": [
            "\r  6%|▌         | 39/629 [00:37<09:14,  1.06it/s]"
          ]
        },
        {
          "output_type": "stream",
          "name": "stdout",
          "text": [
            "38 :  https://meshb.nlm.nih.gov/record/ui?ui=D008105\n"
          ]
        },
        {
          "output_type": "stream",
          "name": "stderr",
          "text": [
            "\r  6%|▋         | 40/629 [00:37<09:12,  1.07it/s]"
          ]
        },
        {
          "output_type": "stream",
          "name": "stdout",
          "text": [
            "39 :  Leukemia-Lymphoma%2C%20Precursor%20T-Cell%20Lymphoblastic\n"
          ]
        },
        {
          "output_type": "stream",
          "name": "stderr",
          "text": [
            "\r  7%|▋         | 41/629 [00:38<09:11,  1.07it/s]"
          ]
        },
        {
          "output_type": "stream",
          "name": "stdout",
          "text": [
            "40 :  https://meshb.nlm.nih.gov/record/ui?ui=D012468\n"
          ]
        },
        {
          "output_type": "stream",
          "name": "stderr",
          "text": [
            "\r  7%|▋         | 42/629 [00:39<09:10,  1.07it/s]"
          ]
        },
        {
          "output_type": "stream",
          "name": "stdout",
          "text": [
            "41 :  https://meshb.nlm.nih.gov/record/ui?ui=D018268\n"
          ]
        },
        {
          "output_type": "stream",
          "name": "stderr",
          "text": [
            "\r  7%|▋         | 43/629 [00:40<09:18,  1.05it/s]"
          ]
        },
        {
          "output_type": "stream",
          "name": "stdout",
          "text": [
            "42 :  https://meshb.nlm.nih.gov/record/ui?ui=D008107\n"
          ]
        },
        {
          "output_type": "stream",
          "name": "stderr",
          "text": [
            "\r  7%|▋         | 44/629 [00:41<09:29,  1.03it/s]"
          ]
        },
        {
          "output_type": "stream",
          "name": "stdout",
          "text": [
            "43 :  https://meshb.nlm.nih.gov/record/ui?ui=D001749\n"
          ]
        },
        {
          "output_type": "stream",
          "name": "stderr",
          "text": [
            "\r  7%|▋         | 45/629 [00:42<09:25,  1.03it/s]"
          ]
        },
        {
          "output_type": "stream",
          "name": "stdout",
          "text": [
            "44 :  https://meshb.nlm.nih.gov/record/ui?ui=D013920\n"
          ]
        },
        {
          "output_type": "stream",
          "name": "stderr",
          "text": [
            "\r  7%|▋         | 46/629 [00:43<09:18,  1.04it/s]"
          ]
        },
        {
          "output_type": "stream",
          "name": "stdout",
          "text": [
            "45 :  https://meshb.nlm.nih.gov/record/ui?ui=D005770\n"
          ]
        },
        {
          "output_type": "stream",
          "name": "stderr",
          "text": [
            "\r  7%|▋         | 47/629 [00:44<09:12,  1.05it/s]"
          ]
        },
        {
          "output_type": "stream",
          "name": "stdout",
          "text": [
            "46 :  https://meshb.nlm.nih.gov/record/ui?ui=D000306\n"
          ]
        },
        {
          "output_type": "stream",
          "name": "stderr",
          "text": [
            "\r  8%|▊         | 48/629 [00:45<09:09,  1.06it/s]"
          ]
        },
        {
          "output_type": "stream",
          "name": "stdout",
          "text": [
            "47 :  https://meshb.nlm.nih.gov/record/ui?ui=D005234\n"
          ]
        },
        {
          "output_type": "stream",
          "name": "stderr",
          "text": [
            "\r  8%|▊         | 49/629 [00:46<09:07,  1.06it/s]"
          ]
        },
        {
          "output_type": "stream",
          "name": "stdout",
          "text": [
            "48 :  https://meshb.nlm.nih.gov/record/ui?ui=D008545\n"
          ]
        },
        {
          "output_type": "stream",
          "name": "stderr",
          "text": [
            "\r  8%|▊         | 50/629 [00:47<09:14,  1.04it/s]"
          ]
        },
        {
          "output_type": "stream",
          "name": "stdout",
          "text": [
            "49 :  https://meshb.nlm.nih.gov/record/ui?ui=D010190\n"
          ]
        },
        {
          "output_type": "stream",
          "name": "stderr",
          "text": [
            "\r  8%|▊         | 51/629 [00:48<09:09,  1.05it/s]"
          ]
        },
        {
          "output_type": "stream",
          "name": "stdout",
          "text": [
            "50 :  https://meshb.nlm.nih.gov/record/ui?ui=D008223\n"
          ]
        },
        {
          "output_type": "stream",
          "name": "stderr",
          "text": [
            "\r  8%|▊         | 52/629 [00:49<09:05,  1.06it/s]"
          ]
        },
        {
          "output_type": "stream",
          "name": "stdout",
          "text": [
            "51 :  https://meshb.nlm.nih.gov/record/ui?ui=D018197\n"
          ]
        },
        {
          "output_type": "stream",
          "name": "stderr",
          "text": [
            "\r  8%|▊         | 53/629 [00:50<09:02,  1.06it/s]"
          ]
        },
        {
          "output_type": "stream",
          "name": "stdout",
          "text": [
            "52 :  https://meshb.nlm.nih.gov/record/ui?ui=D010003\n"
          ]
        },
        {
          "output_type": "stream",
          "name": "stderr",
          "text": [
            "\r  9%|▊         | 54/629 [00:51<09:00,  1.06it/s]"
          ]
        },
        {
          "output_type": "stream",
          "name": "stdout",
          "text": [
            "53 :  https://meshb.nlm.nih.gov/record/ui?ui=D002294\n"
          ]
        },
        {
          "output_type": "stream",
          "name": "stderr",
          "text": [
            "\r  9%|▊         | 55/629 [00:52<08:58,  1.07it/s]"
          ]
        },
        {
          "output_type": "stream",
          "name": "stdout",
          "text": [
            "54 :  https://meshb.nlm.nih.gov/record/ui?ui=D005909\n"
          ]
        },
        {
          "output_type": "stream",
          "name": "stderr",
          "text": [
            "\r  9%|▉         | 56/629 [00:53<08:57,  1.07it/s]"
          ]
        },
        {
          "output_type": "stream",
          "name": "stdout",
          "text": [
            "55 :  https://meshb.nlm.nih.gov/record/ui?ui=D003110\n"
          ]
        },
        {
          "output_type": "stream",
          "name": "stderr",
          "text": [
            "\r  9%|▉         | 57/629 [00:54<10:27,  1.10s/it]"
          ]
        },
        {
          "output_type": "stream",
          "name": "stdout",
          "text": [
            "56 :  https://meshb.nlm.nih.gov/record/ui?ui=D008113\n"
          ]
        },
        {
          "output_type": "stream",
          "name": "stderr",
          "text": [
            "\r  9%|▉         | 58/629 [00:55<09:59,  1.05s/it]"
          ]
        },
        {
          "output_type": "stream",
          "name": "stdout",
          "text": [
            "57 :  https://meshb.nlm.nih.gov/record/ui?ui=D013736\n"
          ]
        },
        {
          "output_type": "stream",
          "name": "stderr",
          "text": [
            "\r  9%|▉         | 59/629 [00:56<09:38,  1.02s/it]"
          ]
        },
        {
          "output_type": "stream",
          "name": "stdout",
          "text": [
            "58 :  https://meshb.nlm.nih.gov/record/ui?ui=D018856\n"
          ]
        },
        {
          "output_type": "stream",
          "name": "stderr",
          "text": [
            "\r 10%|▉         | 60/629 [00:57<09:24,  1.01it/s]"
          ]
        },
        {
          "output_type": "stream",
          "name": "stdout",
          "text": [
            "59 :  https://meshb.nlm.nih.gov/record/ui?ui=D016889\n"
          ]
        },
        {
          "output_type": "stream",
          "name": "stderr",
          "text": [
            "\r 10%|▉         | 61/629 [00:58<09:13,  1.03it/s]"
          ]
        },
        {
          "output_type": "stream",
          "name": "stdout",
          "text": [
            "60 :  https://meshb.nlm.nih.gov/record/ui?ui=D009203\n"
          ]
        },
        {
          "output_type": "stream",
          "name": "stderr",
          "text": [
            "\r 10%|▉         | 62/629 [00:59<09:06,  1.04it/s]"
          ]
        },
        {
          "output_type": "stream",
          "name": "stdout",
          "text": [
            "61 :  https://meshb.nlm.nih.gov/record/ui?ui=D000077195\n"
          ]
        },
        {
          "output_type": "stream",
          "name": "stderr",
          "text": [
            "\r 10%|█         | 63/629 [01:00<09:00,  1.05it/s]"
          ]
        },
        {
          "output_type": "stream",
          "name": "stdout",
          "text": [
            "62 :  https://meshb.nlm.nih.gov/record/ui?ui=D002318\n"
          ]
        },
        {
          "output_type": "stream",
          "name": "stderr",
          "text": [
            "\r 10%|█         | 64/629 [01:01<08:56,  1.05it/s]"
          ]
        },
        {
          "output_type": "stream",
          "name": "stdout",
          "text": [
            "63 :  https://meshb.nlm.nih.gov/record/ui?ui=D011087\n"
          ]
        },
        {
          "output_type": "stream",
          "name": "stderr",
          "text": [
            "\r 10%|█         | 65/629 [01:02<08:53,  1.06it/s]"
          ]
        },
        {
          "output_type": "stream",
          "name": "stdout",
          "text": [
            "64 :  Carcinoma%2C%20Oral\n"
          ]
        },
        {
          "output_type": "stream",
          "name": "stderr",
          "text": [
            "\r 10%|█         | 66/629 [01:03<08:51,  1.06it/s]"
          ]
        },
        {
          "output_type": "stream",
          "name": "stdout",
          "text": [
            "65 :  https://meshb.nlm.nih.gov/record/ui?ui=D002822\n"
          ]
        },
        {
          "output_type": "stream",
          "name": "stderr",
          "text": [
            "\r 11%|█         | 67/629 [01:03<08:49,  1.06it/s]"
          ]
        },
        {
          "output_type": "stream",
          "name": "stdout",
          "text": [
            "66 :  Carcinoma%2C%20Lung%2C%20Non-Small-Cell\n"
          ]
        },
        {
          "output_type": "stream",
          "name": "stderr",
          "text": [
            "\r 11%|█         | 68/629 [01:04<08:46,  1.06it/s]"
          ]
        },
        {
          "output_type": "stream",
          "name": "stdout",
          "text": [
            "67 :  Colorectal%20Adenocarcinoma\n"
          ]
        },
        {
          "output_type": "stream",
          "name": "stderr",
          "text": [
            "\r 11%|█         | 69/629 [01:05<08:44,  1.07it/s]"
          ]
        },
        {
          "output_type": "stream",
          "name": "stdout",
          "text": [
            "68 :  https://meshb.nlm.nih.gov/record/ui?ui=D002583\n"
          ]
        },
        {
          "output_type": "stream",
          "name": "stderr",
          "text": [
            "\r 11%|█         | 70/629 [01:06<08:43,  1.07it/s]"
          ]
        },
        {
          "output_type": "stream",
          "name": "stdout",
          "text": [
            "69 :  https://meshb.nlm.nih.gov/record/ui?ui=D016399\n"
          ]
        },
        {
          "output_type": "stream",
          "name": "stderr",
          "text": [
            "\r 11%|█▏        | 71/629 [01:07<08:41,  1.07it/s]"
          ]
        },
        {
          "output_type": "stream",
          "name": "stdout",
          "text": [
            "70 :  Squamous%20Cell%20Carcinoma%2C%20Lung\n"
          ]
        },
        {
          "output_type": "stream",
          "name": "stderr",
          "text": [
            "\r 11%|█▏        | 72/629 [01:08<08:41,  1.07it/s]"
          ]
        },
        {
          "output_type": "stream",
          "name": "stdout",
          "text": [
            "71 :  https://meshb.nlm.nih.gov/record/ui?ui=D000257\n"
          ]
        },
        {
          "output_type": "stream",
          "name": "stderr",
          "text": [
            "\r 12%|█▏        | 73/629 [01:09<08:39,  1.07it/s]"
          ]
        },
        {
          "output_type": "stream",
          "name": "stdout",
          "text": [
            "72 :  https://meshb.nlm.nih.gov/record/ui?ui=D009103\n"
          ]
        },
        {
          "output_type": "stream",
          "name": "stderr",
          "text": [
            "\r 12%|█▏        | 74/629 [01:10<08:38,  1.07it/s]"
          ]
        },
        {
          "output_type": "stream",
          "name": "stdout",
          "text": [
            "73 :  https://meshb.nlm.nih.gov/record/ui?ui=D007822\n"
          ]
        },
        {
          "output_type": "stream",
          "name": "stderr",
          "text": [
            "\r 12%|█▏        | 75/629 [01:11<08:37,  1.07it/s]"
          ]
        },
        {
          "output_type": "stream",
          "name": "stdout",
          "text": [
            "74 :  https://meshb.nlm.nih.gov/record/ui?ui=D013119\n"
          ]
        },
        {
          "output_type": "stream",
          "name": "stderr",
          "text": [
            "\r 12%|█▏        | 76/629 [01:12<08:36,  1.07it/s]"
          ]
        },
        {
          "output_type": "stream",
          "name": "stdout",
          "text": [
            "75 :  Aortic%20Insufficiency\n"
          ]
        },
        {
          "output_type": "stream",
          "name": "stderr",
          "text": [
            "\r 12%|█▏        | 77/629 [01:13<08:36,  1.07it/s]"
          ]
        },
        {
          "output_type": "stream",
          "name": "stdout",
          "text": [
            "76 :  https://meshb.nlm.nih.gov/record/ui?ui=D001024\n"
          ]
        },
        {
          "output_type": "stream",
          "name": "stderr",
          "text": [
            "\r 12%|█▏        | 78/629 [01:14<08:34,  1.07it/s]"
          ]
        },
        {
          "output_type": "stream",
          "name": "stdout",
          "text": [
            "77 :  Chronic%20Heart%20Failure\n"
          ]
        },
        {
          "output_type": "stream",
          "name": "stderr",
          "text": [
            "\r 13%|█▎        | 79/629 [01:15<08:33,  1.07it/s]"
          ]
        },
        {
          "output_type": "stream",
          "name": "stdout",
          "text": [
            "78 :  https://meshb.nlm.nih.gov/record/ui?ui=D009463\n"
          ]
        },
        {
          "output_type": "stream",
          "name": "stderr",
          "text": [
            "\r 13%|█▎        | 80/629 [01:16<08:32,  1.07it/s]"
          ]
        },
        {
          "output_type": "stream",
          "name": "stdout",
          "text": [
            "79 :  Fatty%20Liver%2C%20Non-Alcoholic\n"
          ]
        },
        {
          "output_type": "stream",
          "name": "stderr",
          "text": [
            "\r 13%|█▎        | 81/629 [01:17<08:31,  1.07it/s]"
          ]
        },
        {
          "output_type": "stream",
          "name": "stdout",
          "text": [
            "80 :  Myotonic%20Muscular%20Dystrophy\n"
          ]
        },
        {
          "output_type": "stream",
          "name": "stderr",
          "text": [
            "\r 13%|█▎        | 82/629 [01:17<08:31,  1.07it/s]"
          ]
        },
        {
          "output_type": "stream",
          "name": "stdout",
          "text": [
            "81 :  https://meshb.nlm.nih.gov/record/ui?ui=D009190\n"
          ]
        },
        {
          "output_type": "stream",
          "name": "stderr",
          "text": [
            "\r 13%|█▎        | 83/629 [01:18<08:30,  1.07it/s]"
          ]
        },
        {
          "output_type": "stream",
          "name": "stdout",
          "text": [
            "82 :  https://meshb.nlm.nih.gov/record/ui?ui=D004938\n"
          ]
        },
        {
          "output_type": "stream",
          "name": "stderr",
          "text": [
            "\r 13%|█▎        | 84/629 [01:19<08:28,  1.07it/s]"
          ]
        },
        {
          "output_type": "stream",
          "name": "stdout",
          "text": [
            "83 :  Squamous%20Cell%20Carcinoma%2C%20Oral\n"
          ]
        },
        {
          "output_type": "stream",
          "name": "stderr",
          "text": [
            "\r 14%|█▎        | 85/629 [01:20<08:28,  1.07it/s]"
          ]
        },
        {
          "output_type": "stream",
          "name": "stdout",
          "text": [
            "84 :  https://meshb.nlm.nih.gov/record/ui?ui=D006380\n"
          ]
        },
        {
          "output_type": "stream",
          "name": "stderr",
          "text": [
            "\r 14%|█▎        | 86/629 [01:21<08:27,  1.07it/s]"
          ]
        },
        {
          "output_type": "stream",
          "name": "stdout",
          "text": [
            "85 :  Carcinoma%2C%20Cervical\n"
          ]
        },
        {
          "output_type": "stream",
          "name": "stderr",
          "text": [
            "\r 14%|█▍        | 87/629 [01:22<08:26,  1.07it/s]"
          ]
        },
        {
          "output_type": "stream",
          "name": "stdout",
          "text": [
            "86 :  https://meshb.nlm.nih.gov/record/ui?ui=D008654\n"
          ]
        },
        {
          "output_type": "stream",
          "name": "stderr",
          "text": [
            "\r 14%|█▍        | 88/629 [01:23<08:26,  1.07it/s]"
          ]
        },
        {
          "output_type": "stream",
          "name": "stdout",
          "text": [
            "87 :  https://meshb.nlm.nih.gov/record/ui?ui=D009303\n"
          ]
        },
        {
          "output_type": "stream",
          "name": "stderr",
          "text": [
            "\r 14%|█▍        | 89/629 [01:25<10:01,  1.11s/it]"
          ]
        },
        {
          "output_type": "stream",
          "name": "stdout",
          "text": [
            "88 :  https://meshb.nlm.nih.gov/record/ui?ui=D008180\n"
          ]
        },
        {
          "output_type": "stream",
          "name": "stderr",
          "text": [
            "\r 14%|█▍        | 90/629 [01:26<09:31,  1.06s/it]"
          ]
        },
        {
          "output_type": "stream",
          "name": "stdout",
          "text": [
            "89 :  https://meshb.nlm.nih.gov/record/ui?ui=D006984\n"
          ]
        },
        {
          "output_type": "stream",
          "name": "stderr",
          "text": [
            "\r 14%|█▍        | 91/629 [01:26<09:10,  1.02s/it]"
          ]
        },
        {
          "output_type": "stream",
          "name": "stdout",
          "text": [
            "90 :  https://meshb.nlm.nih.gov/record/ui?ui=D001471\n"
          ]
        },
        {
          "output_type": "stream",
          "name": "stderr",
          "text": [
            "\r 15%|█▍        | 92/629 [01:27<08:54,  1.00it/s]"
          ]
        },
        {
          "output_type": "stream",
          "name": "stdout",
          "text": [
            "91 :  https://meshb.nlm.nih.gov/record/ui?ui=D013964\n"
          ]
        },
        {
          "output_type": "stream",
          "name": "stderr",
          "text": [
            "\r 15%|█▍        | 93/629 [01:28<08:43,  1.02it/s]"
          ]
        },
        {
          "output_type": "stream",
          "name": "stdout",
          "text": [
            "92 :  https://meshb.nlm.nih.gov/record/ui?ui=D003093\n"
          ]
        },
        {
          "output_type": "stream",
          "name": "stderr",
          "text": [
            "\r 15%|█▍        | 94/629 [01:29<08:36,  1.04it/s]"
          ]
        },
        {
          "output_type": "stream",
          "name": "stdout",
          "text": [
            "93 :  https://meshb.nlm.nih.gov/record/ui?ui=D010300\n"
          ]
        },
        {
          "output_type": "stream",
          "name": "stderr",
          "text": [
            "\r 15%|█▌        | 95/629 [01:30<08:30,  1.05it/s]"
          ]
        },
        {
          "output_type": "stream",
          "name": "stdout",
          "text": [
            "94 :  https://meshb.nlm.nih.gov/record/ui?ui=D012516\n"
          ]
        },
        {
          "output_type": "stream",
          "name": "stderr",
          "text": [
            "\r 15%|█▌        | 96/629 [01:31<08:26,  1.05it/s]"
          ]
        },
        {
          "output_type": "stream",
          "name": "stdout",
          "text": [
            "95 :  Carcinoma%2C%20Lung%2C%20Small-Cell\n"
          ]
        },
        {
          "output_type": "stream",
          "name": "stderr",
          "text": [
            "\r 15%|█▌        | 97/629 [01:32<08:21,  1.06it/s]"
          ]
        },
        {
          "output_type": "stream",
          "name": "stdout",
          "text": [
            "96 :  https://meshb.nlm.nih.gov/record/ui?ui=D018281\n"
          ]
        },
        {
          "output_type": "stream",
          "name": "stderr",
          "text": [
            "\r 16%|█▌        | 98/629 [01:33<08:20,  1.06it/s]"
          ]
        },
        {
          "output_type": "stream",
          "name": "stdout",
          "text": [
            "97 :  https://meshb.nlm.nih.gov/record/ui?ui=D003920\n"
          ]
        },
        {
          "output_type": "stream",
          "name": "stderr",
          "text": [
            "\r 16%|█▌        | 99/629 [01:34<08:18,  1.06it/s]"
          ]
        },
        {
          "output_type": "stream",
          "name": "stdout",
          "text": [
            "98 :  https://meshb.nlm.nih.gov/record/ui?ui=D001249\n"
          ]
        },
        {
          "output_type": "stream",
          "name": "stderr",
          "text": [
            "\r 16%|█▌        | 100/629 [01:35<08:17,  1.06it/s]"
          ]
        },
        {
          "output_type": "stream",
          "name": "stdout",
          "text": [
            "99 :  https://meshb.nlm.nih.gov/record/ui?ui=D053627\n"
          ]
        },
        {
          "output_type": "stream",
          "name": "stderr",
          "text": [
            "\r 16%|█▌        | 101/629 [01:36<08:15,  1.07it/s]"
          ]
        },
        {
          "output_type": "stream",
          "name": "stdout",
          "text": [
            "100 :  https://meshb.nlm.nih.gov/record/ui?ui=D008010\n"
          ]
        },
        {
          "output_type": "stream",
          "name": "stderr",
          "text": [
            "\r 16%|█▌        | 102/629 [01:37<08:13,  1.07it/s]"
          ]
        },
        {
          "output_type": "stream",
          "name": "stdout",
          "text": [
            "101 :  https://meshb.nlm.nih.gov/record/ui?ui=D009182\n"
          ]
        },
        {
          "output_type": "stream",
          "name": "stderr",
          "text": [
            "\r 16%|█▋        | 103/629 [01:38<08:12,  1.07it/s]"
          ]
        },
        {
          "output_type": "stream",
          "name": "stdout",
          "text": [
            "102 :  https://meshb.nlm.nih.gov/record/ui?ui=D009447\n"
          ]
        },
        {
          "output_type": "stream",
          "name": "stderr",
          "text": [
            "\r 17%|█▋        | 104/629 [01:39<08:10,  1.07it/s]"
          ]
        },
        {
          "output_type": "stream",
          "name": "stdout",
          "text": [
            "103 :  https://meshb.nlm.nih.gov/record/ui?ui=D017545\n"
          ]
        },
        {
          "output_type": "stream",
          "name": "stderr",
          "text": [
            "\r 17%|█▋        | 105/629 [01:40<08:09,  1.07it/s]"
          ]
        },
        {
          "output_type": "stream",
          "name": "stdout",
          "text": [
            "104 :  https://meshb.nlm.nih.gov/record/ui?ui=D002311\n"
          ]
        },
        {
          "output_type": "stream",
          "name": "stderr",
          "text": [
            "\r 17%|█▋        | 106/629 [01:41<08:08,  1.07it/s]"
          ]
        },
        {
          "output_type": "stream",
          "name": "stdout",
          "text": [
            "105 :  https://meshb.nlm.nih.gov/record/ui?ui=D004806\n"
          ]
        },
        {
          "output_type": "stream",
          "name": "stderr",
          "text": [
            "\r 17%|█▋        | 107/629 [01:41<08:07,  1.07it/s]"
          ]
        },
        {
          "output_type": "stream",
          "name": "stdout",
          "text": [
            "106 :  https://meshb.nlm.nih.gov/record/ui?ui=D005910\n"
          ]
        },
        {
          "output_type": "stream",
          "name": "stderr",
          "text": [
            "\r 17%|█▋        | 108/629 [01:42<08:06,  1.07it/s]"
          ]
        },
        {
          "output_type": "stream",
          "name": "stdout",
          "text": [
            "107 :  Allergic%20Rhinitis%2CPerennial\n"
          ]
        },
        {
          "output_type": "stream",
          "name": "stderr",
          "text": [
            "\r 17%|█▋        | 109/629 [01:43<08:05,  1.07it/s]"
          ]
        },
        {
          "output_type": "stream",
          "name": "stdout",
          "text": [
            "108 :  https://meshb.nlm.nih.gov/record/ui?ui=D000163\n"
          ]
        },
        {
          "output_type": "stream",
          "name": "stderr",
          "text": [
            "\r 17%|█▋        | 110/629 [01:44<08:03,  1.07it/s]"
          ]
        },
        {
          "output_type": "stream",
          "name": "stdout",
          "text": [
            "109 :  https://meshb.nlm.nih.gov/record/ui?ui=D003928\n"
          ]
        },
        {
          "output_type": "stream",
          "name": "stderr",
          "text": [
            "\r 18%|█▊        | 111/629 [01:45<08:01,  1.08it/s]"
          ]
        },
        {
          "output_type": "stream",
          "name": "stdout",
          "text": [
            "110 :  https://meshb.nlm.nih.gov/record/ui?ui=D007249\n"
          ]
        },
        {
          "output_type": "stream",
          "name": "stderr",
          "text": [
            "\r 18%|█▊        | 112/629 [01:46<08:01,  1.07it/s]"
          ]
        },
        {
          "output_type": "stream",
          "name": "stdout",
          "text": [
            "111 :  https://meshb.nlm.nih.gov/record/ui?ui=D002056\n"
          ]
        },
        {
          "output_type": "stream",
          "name": "stderr",
          "text": [
            "\r 18%|█▊        | 113/629 [01:47<08:00,  1.07it/s]"
          ]
        },
        {
          "output_type": "stream",
          "name": "stdout",
          "text": [
            "112 :  https://meshb.nlm.nih.gov/record/ui?ui=D002280\n"
          ]
        },
        {
          "output_type": "stream",
          "name": "stderr",
          "text": [
            "\r 18%|█▊        | 114/629 [01:48<07:59,  1.07it/s]"
          ]
        },
        {
          "output_type": "stream",
          "name": "stdout",
          "text": [
            "113 :  https://meshb.nlm.nih.gov/record/ui?ui=D012595\n"
          ]
        },
        {
          "output_type": "stream",
          "name": "stderr",
          "text": [
            "\r 18%|█▊        | 115/629 [01:49<07:59,  1.07it/s]"
          ]
        },
        {
          "output_type": "stream",
          "name": "stdout",
          "text": [
            "114 :  Human%20Immunodeficiency%20Virus%20Infection\n"
          ]
        },
        {
          "output_type": "stream",
          "name": "stderr",
          "text": [
            "\r 18%|█▊        | 116/629 [01:50<07:59,  1.07it/s]"
          ]
        },
        {
          "output_type": "stream",
          "name": "stdout",
          "text": [
            "115 :  https://meshb.nlm.nih.gov/record/ui?ui=D015175\n"
          ]
        },
        {
          "output_type": "stream",
          "name": "stderr",
          "text": [
            "\r 19%|█▊        | 117/629 [01:51<07:59,  1.07it/s]"
          ]
        },
        {
          "output_type": "stream",
          "name": "stdout",
          "text": [
            "116 :  https://meshb.nlm.nih.gov/record/ui?ui=D015464\n"
          ]
        },
        {
          "output_type": "stream",
          "name": "stderr",
          "text": [
            "\r 19%|█▉        | 118/629 [01:52<07:58,  1.07it/s]"
          ]
        },
        {
          "output_type": "stream",
          "name": "stdout",
          "text": [
            "117 :  https://meshb.nlm.nih.gov/record/ui?ui=D003324\n"
          ]
        },
        {
          "output_type": "stream",
          "name": "stderr",
          "text": [
            "\r 19%|█▉        | 119/629 [01:53<07:56,  1.07it/s]"
          ]
        },
        {
          "output_type": "stream",
          "name": "stdout",
          "text": [
            "118 :  Squamous%20Cell%20Carcinoma%2C%20Sinonasal\n"
          ]
        },
        {
          "output_type": "stream",
          "name": "stderr",
          "text": [
            "\r 19%|█▉        | 120/629 [01:54<07:56,  1.07it/s]"
          ]
        },
        {
          "output_type": "stream",
          "name": "stdout",
          "text": [
            "119 :  https://meshb.nlm.nih.gov/record/ui?ui=D008579\n"
          ]
        },
        {
          "output_type": "stream",
          "name": "stderr",
          "text": [
            "\r 19%|█▉        | 121/629 [01:55<08:22,  1.01it/s]"
          ]
        },
        {
          "output_type": "stream",
          "name": "stdout",
          "text": [
            "120 :  https://meshb.nlm.nih.gov/record/ui?ui=D029424\n"
          ]
        },
        {
          "output_type": "stream",
          "name": "stderr",
          "text": [
            "\r 19%|█▉        | 122/629 [01:56<08:12,  1.03it/s]"
          ]
        },
        {
          "output_type": "stream",
          "name": "stdout",
          "text": [
            "121 :  https://meshb.nlm.nih.gov/record/ui?ui=D011225\n"
          ]
        },
        {
          "output_type": "stream",
          "name": "stderr",
          "text": [
            "\r 20%|█▉        | 123/629 [01:57<08:06,  1.04it/s]"
          ]
        },
        {
          "output_type": "stream",
          "name": "stdout",
          "text": [
            "122 :  https://meshb.nlm.nih.gov/record/ui?ui=D017563\n"
          ]
        },
        {
          "output_type": "stream",
          "name": "stderr",
          "text": [
            "\r 20%|█▉        | 124/629 [01:57<08:02,  1.05it/s]"
          ]
        },
        {
          "output_type": "stream",
          "name": "stdout",
          "text": [
            "123 :  https://meshb.nlm.nih.gov/record/ui?ui=D001528\n"
          ]
        },
        {
          "output_type": "stream",
          "name": "stderr",
          "text": [
            "\r 20%|█▉        | 125/629 [01:58<07:59,  1.05it/s]"
          ]
        },
        {
          "output_type": "stream",
          "name": "stdout",
          "text": [
            "124 :  https://meshb.nlm.nih.gov/record/ui?ui=D018805\n"
          ]
        },
        {
          "output_type": "stream",
          "name": "stderr",
          "text": [
            "\r 20%|██        | 126/629 [01:59<07:55,  1.06it/s]"
          ]
        },
        {
          "output_type": "stream",
          "name": "stdout",
          "text": [
            "125 :  https://meshb.nlm.nih.gov/record/ui?ui=D012175\n"
          ]
        },
        {
          "output_type": "stream",
          "name": "stderr",
          "text": [
            "\r 20%|██        | 127/629 [02:00<07:52,  1.06it/s]"
          ]
        },
        {
          "output_type": "stream",
          "name": "stdout",
          "text": [
            "126 :  https://meshb.nlm.nih.gov/record/ui?ui=D014397\n"
          ]
        },
        {
          "output_type": "stream",
          "name": "stderr",
          "text": [
            "\r 20%|██        | 128/629 [02:01<07:49,  1.07it/s]"
          ]
        },
        {
          "output_type": "stream",
          "name": "stdout",
          "text": [
            "127 :  https://meshb.nlm.nih.gov/record/ui?ui=D001281\n"
          ]
        },
        {
          "output_type": "stream",
          "name": "stderr",
          "text": [
            "\r 21%|██        | 129/629 [02:02<07:49,  1.07it/s]"
          ]
        },
        {
          "output_type": "stream",
          "name": "stdout",
          "text": [
            "128 :  https://meshb.nlm.nih.gov/record/ui?ui=D014376\n"
          ]
        },
        {
          "output_type": "stream",
          "name": "stderr",
          "text": [
            "\r 21%|██        | 130/629 [02:03<07:50,  1.06it/s]"
          ]
        },
        {
          "output_type": "stream",
          "name": "stdout",
          "text": [
            "129 :  https://meshb.nlm.nih.gov/record/ui?ui=D017096\n"
          ]
        },
        {
          "output_type": "stream",
          "name": "stderr",
          "text": [
            "\r 21%|██        | 131/629 [02:04<07:48,  1.06it/s]"
          ]
        },
        {
          "output_type": "stream",
          "name": "stdout",
          "text": [
            "130 :  Squamous%20Cell%20Carcinoma%2C%20Esophageal\n"
          ]
        },
        {
          "output_type": "stream",
          "name": "stderr",
          "text": [
            "\r 21%|██        | 132/629 [02:05<07:46,  1.07it/s]"
          ]
        },
        {
          "output_type": "stream",
          "name": "stdout",
          "text": [
            "131 :  https://meshb.nlm.nih.gov/record/ui?ui=D015473\n"
          ]
        },
        {
          "output_type": "stream",
          "name": "stderr",
          "text": [
            "\r 21%|██        | 133/629 [02:06<07:45,  1.07it/s]"
          ]
        },
        {
          "output_type": "stream",
          "name": "stdout",
          "text": [
            "132 :  Squamous%20Cell%20Carcinoma%2C%20Skin%20or%20Unspecific\n"
          ]
        },
        {
          "output_type": "stream",
          "name": "stderr",
          "text": [
            "\r 21%|██▏       | 134/629 [02:07<07:42,  1.07it/s]"
          ]
        },
        {
          "output_type": "stream",
          "name": "stdout",
          "text": [
            "133 :  https://meshb.nlm.nih.gov/record/ui?ui=D006976\n"
          ]
        },
        {
          "output_type": "stream",
          "name": "stderr",
          "text": [
            "\r 21%|██▏       | 135/629 [02:08<07:41,  1.07it/s]"
          ]
        },
        {
          "output_type": "stream",
          "name": "stdout",
          "text": [
            "134 :  https://meshb.nlm.nih.gov/record/ui?ui=D007938\n"
          ]
        },
        {
          "output_type": "stream",
          "name": "stderr",
          "text": [
            "\r 22%|██▏       | 136/629 [02:09<07:41,  1.07it/s]"
          ]
        },
        {
          "output_type": "stream",
          "name": "stdout",
          "text": [
            "135 :  https://meshb.nlm.nih.gov/record/ui?ui=D008258\n"
          ]
        },
        {
          "output_type": "stream",
          "name": "stderr",
          "text": [
            "\r 22%|██▏       | 137/629 [02:10<07:41,  1.07it/s]"
          ]
        },
        {
          "output_type": "stream",
          "name": "stdout",
          "text": [
            "136 :  https://meshb.nlm.nih.gov/record/ui?ui=D019698\n"
          ]
        },
        {
          "output_type": "stream",
          "name": "stderr",
          "text": [
            "\r 22%|██▏       | 138/629 [02:11<07:39,  1.07it/s]"
          ]
        },
        {
          "output_type": "stream",
          "name": "stdout",
          "text": [
            "137 :  Adenocarcinoma%2C%20Gastric\n"
          ]
        },
        {
          "output_type": "stream",
          "name": "stderr",
          "text": [
            "\r 22%|██▏       | 139/629 [02:12<07:37,  1.07it/s]"
          ]
        },
        {
          "output_type": "stream",
          "name": "stdout",
          "text": [
            "138 :  https://meshb.nlm.nih.gov/record/ui?ui=D015427\n"
          ]
        },
        {
          "output_type": "stream",
          "name": "stderr",
          "text": [
            "\r 22%|██▏       | 140/629 [02:12<07:36,  1.07it/s]"
          ]
        },
        {
          "output_type": "stream",
          "name": "stdout",
          "text": [
            "139 :  https://meshb.nlm.nih.gov/record/ui?ui=D065631\n"
          ]
        },
        {
          "output_type": "stream",
          "name": "stderr",
          "text": [
            "\r 22%|██▏       | 141/629 [02:13<07:36,  1.07it/s]"
          ]
        },
        {
          "output_type": "stream",
          "name": "stdout",
          "text": [
            "140 :  https://meshb.nlm.nih.gov/record/ui?ui=D013683\n"
          ]
        },
        {
          "output_type": "stream",
          "name": "stderr",
          "text": [
            "\r 23%|██▎       | 142/629 [02:14<07:35,  1.07it/s]"
          ]
        },
        {
          "output_type": "stream",
          "name": "stdout",
          "text": [
            "141 :  Carcinoma%2C%20Colon\n"
          ]
        },
        {
          "output_type": "stream",
          "name": "stderr",
          "text": [
            "\r 23%|██▎       | 143/629 [02:15<07:33,  1.07it/s]"
          ]
        },
        {
          "output_type": "stream",
          "name": "stdout",
          "text": [
            "142 :  Carcinoma%2C%20Renal%20Cell%2C%20Clear-Cell\n"
          ]
        },
        {
          "output_type": "stream",
          "name": "stderr",
          "text": [
            "\r 23%|██▎       | 144/629 [02:16<07:33,  1.07it/s]"
          ]
        },
        {
          "output_type": "stream",
          "name": "stdout",
          "text": [
            "143 :  Carcinoma%2C%20Bladder\n"
          ]
        },
        {
          "output_type": "stream",
          "name": "stderr",
          "text": [
            "\r 23%|██▎       | 145/629 [02:17<07:31,  1.07it/s]"
          ]
        },
        {
          "output_type": "stream",
          "name": "stdout",
          "text": [
            "144 :  Carcinoma%2C%20Esophageal\n"
          ]
        },
        {
          "output_type": "stream",
          "name": "stderr",
          "text": [
            "\r 23%|██▎       | 146/629 [02:18<07:31,  1.07it/s]"
          ]
        },
        {
          "output_type": "stream",
          "name": "stdout",
          "text": [
            "145 :  Squamous%20Cell%20Carcinoma%2C%20Laryngeal%20or%20Hypopharyngeal\n"
          ]
        },
        {
          "output_type": "stream",
          "name": "stderr",
          "text": [
            "\r 23%|██▎       | 147/629 [02:19<07:31,  1.07it/s]"
          ]
        },
        {
          "output_type": "stream",
          "name": "stdout",
          "text": [
            "146 :  Carcinoma%2C%20Gastric\n"
          ]
        },
        {
          "output_type": "stream",
          "name": "stderr",
          "text": [
            "\r 24%|██▎       | 148/629 [02:20<07:29,  1.07it/s]"
          ]
        },
        {
          "output_type": "stream",
          "name": "stdout",
          "text": [
            "147 :  https://meshb.nlm.nih.gov/record/ui?ui=D015470\n"
          ]
        },
        {
          "output_type": "stream",
          "name": "stderr",
          "text": [
            "\r 24%|██▎       | 149/629 [02:21<07:29,  1.07it/s]"
          ]
        },
        {
          "output_type": "stream",
          "name": "stdout",
          "text": [
            "148 :  https://meshb.nlm.nih.gov/record/ui?ui=D055959\n"
          ]
        },
        {
          "output_type": "stream",
          "name": "stderr",
          "text": [
            "\r 24%|██▍       | 150/629 [02:22<07:28,  1.07it/s]"
          ]
        },
        {
          "output_type": "stream",
          "name": "stdout",
          "text": [
            "149 :  https://meshb.nlm.nih.gov/record/ui?ui=D017202\n"
          ]
        },
        {
          "output_type": "stream",
          "name": "stderr",
          "text": [
            "\r 24%|██▍       | 151/629 [02:23<07:27,  1.07it/s]"
          ]
        },
        {
          "output_type": "stream",
          "name": "stdout",
          "text": [
            "150 :  https://meshb.nlm.nih.gov/record/ui?ui=D020391\n"
          ]
        },
        {
          "output_type": "stream",
          "name": "stderr",
          "text": [
            "\r 24%|██▍       | 152/629 [02:24<07:27,  1.06it/s]"
          ]
        },
        {
          "output_type": "stream",
          "name": "stdout",
          "text": [
            "151 :  Pleural%20Mesothelioma\n"
          ]
        },
        {
          "output_type": "stream",
          "name": "stderr",
          "text": [
            "\r 24%|██▍       | 153/629 [02:25<07:52,  1.01it/s]"
          ]
        },
        {
          "output_type": "stream",
          "name": "stdout",
          "text": [
            "152 :  https://meshb.nlm.nih.gov/record/ui?ui=D017726\n"
          ]
        },
        {
          "output_type": "stream",
          "name": "stderr",
          "text": [
            "\r 24%|██▍       | 154/629 [02:26<07:43,  1.03it/s]"
          ]
        },
        {
          "output_type": "stream",
          "name": "stdout",
          "text": [
            "153 :  https://meshb.nlm.nih.gov/record/ui?ui=D000077274\n"
          ]
        },
        {
          "output_type": "stream",
          "name": "stderr",
          "text": [
            "\r 25%|██▍       | 155/629 [02:27<07:37,  1.04it/s]"
          ]
        },
        {
          "output_type": "stream",
          "name": "stdout",
          "text": [
            "154 :  Early-Stage%20Cervical%20Squamous%20Cell%20Carcinoma\n"
          ]
        },
        {
          "output_type": "stream",
          "name": "stderr",
          "text": [
            "\r 25%|██▍       | 156/629 [02:28<07:32,  1.05it/s]"
          ]
        },
        {
          "output_type": "stream",
          "name": "stdout",
          "text": [
            "155 :  https://meshb.nlm.nih.gov/record/ui?ui=D008228\n"
          ]
        },
        {
          "output_type": "stream",
          "name": "stderr",
          "text": [
            "\r 25%|██▍       | 157/629 [02:29<07:28,  1.05it/s]"
          ]
        },
        {
          "output_type": "stream",
          "name": "stdout",
          "text": [
            "156 :  https://meshb.nlm.nih.gov/record/ui?ui=D012512\n"
          ]
        },
        {
          "output_type": "stream",
          "name": "stderr",
          "text": [
            "\r 25%|██▌       | 158/629 [02:30<07:36,  1.03it/s]"
          ]
        },
        {
          "output_type": "stream",
          "name": "stdout",
          "text": [
            "157 :  https://meshb.nlm.nih.gov/record/ui?ui=D058065\n"
          ]
        },
        {
          "output_type": "stream",
          "name": "stderr",
          "text": [
            "\r 25%|██▌       | 159/629 [02:31<07:31,  1.04it/s]"
          ]
        },
        {
          "output_type": "stream",
          "name": "stdout",
          "text": [
            "158 :  https://meshb.nlm.nih.gov/record/ui?ui=D010911\n"
          ]
        },
        {
          "output_type": "stream",
          "name": "stderr",
          "text": [
            "\r 25%|██▌       | 160/629 [02:31<07:26,  1.05it/s]"
          ]
        },
        {
          "output_type": "stream",
          "name": "stdout",
          "text": [
            "159 :  Carcinoma%2C%20Laryngeal\n"
          ]
        },
        {
          "output_type": "stream",
          "name": "stderr",
          "text": [
            "\r 26%|██▌       | 161/629 [02:32<07:23,  1.06it/s]"
          ]
        },
        {
          "output_type": "stream",
          "name": "stdout",
          "text": [
            "160 :  https://meshb.nlm.nih.gov/record/ui?ui=D001162\n"
          ]
        },
        {
          "output_type": "stream",
          "name": "stderr",
          "text": [
            "\r 26%|██▌       | 162/629 [02:33<07:20,  1.06it/s]"
          ]
        },
        {
          "output_type": "stream",
          "name": "stdout",
          "text": [
            "161 :  https://meshb.nlm.nih.gov/record/ui?ui=D054218\n"
          ]
        },
        {
          "output_type": "stream",
          "name": "stderr",
          "text": [
            "\r 26%|██▌       | 163/629 [02:34<07:18,  1.06it/s]"
          ]
        },
        {
          "output_type": "stream",
          "name": "stdout",
          "text": [
            "162 :  https://meshb.nlm.nih.gov/record/ui?ui=D009134\n"
          ]
        },
        {
          "output_type": "stream",
          "name": "stderr",
          "text": [
            "\r 26%|██▌       | 164/629 [02:35<07:16,  1.06it/s]"
          ]
        },
        {
          "output_type": "stream",
          "name": "stdout",
          "text": [
            "163 :  https://meshb.nlm.nih.gov/record/ui?ui=D009220\n"
          ]
        },
        {
          "output_type": "stream",
          "name": "stderr",
          "text": [
            "\r 26%|██▌       | 165/629 [02:36<07:16,  1.06it/s]"
          ]
        },
        {
          "output_type": "stream",
          "name": "stdout",
          "text": [
            "164 :  https://meshb.nlm.nih.gov/record/ui?ui=C536494\n"
          ]
        },
        {
          "output_type": "stream",
          "name": "stderr",
          "text": [
            "\r 26%|██▋       | 166/629 [02:37<07:15,  1.06it/s]"
          ]
        },
        {
          "output_type": "stream",
          "name": "stdout",
          "text": [
            "165 :  https://meshb.nlm.nih.gov/record/ui?ui=D010013\n"
          ]
        },
        {
          "output_type": "stream",
          "name": "stderr",
          "text": [
            "\r 27%|██▋       | 167/629 [02:38<07:13,  1.07it/s]"
          ]
        },
        {
          "output_type": "stream",
          "name": "stdout",
          "text": [
            "166 :  Squamous%20Cell%20Carcinoma%2C%20Cerevial\n"
          ]
        },
        {
          "output_type": "stream",
          "name": "stderr",
          "text": [
            "\r 27%|██▋       | 168/629 [02:39<07:11,  1.07it/s]"
          ]
        },
        {
          "output_type": "stream",
          "name": "stdout",
          "text": [
            "167 :  Carcinoma%2C%20Breast%2C%20Triple%20Negative\n"
          ]
        },
        {
          "output_type": "stream",
          "name": "stderr",
          "text": [
            "\r 27%|██▋       | 169/629 [02:40<07:10,  1.07it/s]"
          ]
        },
        {
          "output_type": "stream",
          "name": "stdout",
          "text": [
            "168 :  Myeloma\n"
          ]
        },
        {
          "output_type": "stream",
          "name": "stderr",
          "text": [
            "\r 27%|██▋       | 170/629 [02:41<07:12,  1.06it/s]"
          ]
        },
        {
          "output_type": "stream",
          "name": "stdout",
          "text": [
            "169 :  https://meshb.nlm.nih.gov/record/ui?ui=D006627\n"
          ]
        },
        {
          "output_type": "stream",
          "name": "stderr",
          "text": [
            "\r 27%|██▋       | 171/629 [02:42<07:10,  1.06it/s]"
          ]
        },
        {
          "output_type": "stream",
          "name": "stdout",
          "text": [
            "170 :  https://meshb.nlm.nih.gov/record/ui?ui=D011271\n"
          ]
        },
        {
          "output_type": "stream",
          "name": "stderr",
          "text": [
            "\r 27%|██▋       | 172/629 [02:43<07:12,  1.06it/s]"
          ]
        },
        {
          "output_type": "stream",
          "name": "stdout",
          "text": [
            "171 :  https://meshb.nlm.nih.gov/record/ui?ui=D009080\n"
          ]
        },
        {
          "output_type": "stream",
          "name": "stderr",
          "text": [
            "\r 28%|██▊       | 173/629 [02:44<07:10,  1.06it/s]"
          ]
        },
        {
          "output_type": "stream",
          "name": "stdout",
          "text": [
            "172 :  https://meshb.nlm.nih.gov/record/ui?ui=D012128\n"
          ]
        },
        {
          "output_type": "stream",
          "name": "stderr",
          "text": [
            "\r 28%|██▊       | 174/629 [02:45<07:08,  1.06it/s]"
          ]
        },
        {
          "output_type": "stream",
          "name": "stdout",
          "text": [
            "173 :  https://meshb.nlm.nih.gov/record/ui?ui=D009101\n"
          ]
        },
        {
          "output_type": "stream",
          "name": "stderr",
          "text": [
            "\r 28%|██▊       | 175/629 [02:46<07:06,  1.06it/s]"
          ]
        },
        {
          "output_type": "stream",
          "name": "stdout",
          "text": [
            "174 :  https://meshb.nlm.nih.gov/record/ui?ui=D007680\n"
          ]
        },
        {
          "output_type": "stream",
          "name": "stderr",
          "text": [
            "\r 28%|██▊       | 176/629 [02:46<07:05,  1.06it/s]"
          ]
        },
        {
          "output_type": "stream",
          "name": "stdout",
          "text": [
            "175 :  https://meshb.nlm.nih.gov/record/ui?ui=D015212\n"
          ]
        },
        {
          "output_type": "stream",
          "name": "stderr",
          "text": [
            "\r 28%|██▊       | 177/629 [02:47<07:03,  1.07it/s]"
          ]
        },
        {
          "output_type": "stream",
          "name": "stdout",
          "text": [
            "176 :  Carcinoma%2C%20Ovarian%2C%20Clear%20Cell\n"
          ]
        },
        {
          "output_type": "stream",
          "name": "stderr",
          "text": [
            "\r 28%|██▊       | 178/629 [02:48<07:02,  1.07it/s]"
          ]
        },
        {
          "output_type": "stream",
          "name": "stdout",
          "text": [
            "177 :  Carcinoma%2C%20Ovarian\n"
          ]
        },
        {
          "output_type": "stream",
          "name": "stderr",
          "text": [
            "\r 28%|██▊       | 179/629 [02:49<07:01,  1.07it/s]"
          ]
        },
        {
          "output_type": "stream",
          "name": "stdout",
          "text": [
            "178 :  https://meshb.nlm.nih.gov/record/ui?ui=D002813\n"
          ]
        },
        {
          "output_type": "stream",
          "name": "stderr",
          "text": [
            "\r 29%|██▊       | 180/629 [02:50<07:00,  1.07it/s]"
          ]
        },
        {
          "output_type": "stream",
          "name": "stdout",
          "text": [
            "179 :  https://meshb.nlm.nih.gov/record/ui?ui=D005921\n"
          ]
        },
        {
          "output_type": "stream",
          "name": "stderr",
          "text": [
            "\r 29%|██▉       | 181/629 [02:51<06:59,  1.07it/s]"
          ]
        },
        {
          "output_type": "stream",
          "name": "stdout",
          "text": [
            "180 :  https://meshb.nlm.nih.gov/record/ui?ui=D054198\n"
          ]
        },
        {
          "output_type": "stream",
          "name": "stderr",
          "text": [
            "\r 29%|██▉       | 182/629 [02:52<06:58,  1.07it/s]"
          ]
        },
        {
          "output_type": "stream",
          "name": "stdout",
          "text": [
            "181 :  https://meshb.nlm.nih.gov/record/ui?ui=D015266\n"
          ]
        },
        {
          "output_type": "stream",
          "name": "stderr",
          "text": [
            "\r 29%|██▉       | 183/629 [02:53<06:57,  1.07it/s]"
          ]
        },
        {
          "output_type": "stream",
          "name": "stdout",
          "text": [
            "182 :  https://meshb.nlm.nih.gov/record/ui?ui=D011085\n"
          ]
        },
        {
          "output_type": "stream",
          "name": "stderr",
          "text": [
            "\r 29%|██▉       | 184/629 [02:54<06:56,  1.07it/s]"
          ]
        },
        {
          "output_type": "stream",
          "name": "stdout",
          "text": [
            "183 :  Carcinoma%2C%20Prostate\n"
          ]
        },
        {
          "output_type": "stream",
          "name": "stderr",
          "text": [
            "\r 29%|██▉       | 185/629 [02:55<07:19,  1.01it/s]"
          ]
        },
        {
          "output_type": "stream",
          "name": "stdout",
          "text": [
            "184 :  Lung%20Fibrosis\n"
          ]
        },
        {
          "output_type": "stream",
          "name": "stderr",
          "text": [
            "\r 30%|██▉       | 186/629 [02:56<07:11,  1.03it/s]"
          ]
        },
        {
          "output_type": "stream",
          "name": "stdout",
          "text": [
            "185 :  Adenocarcinoma%2C%20Esophageal\n"
          ]
        },
        {
          "output_type": "stream",
          "name": "stderr",
          "text": [
            "\r 30%|██▉       | 187/629 [02:57<07:05,  1.04it/s]"
          ]
        },
        {
          "output_type": "stream",
          "name": "stdout",
          "text": [
            "186 :  https://meshb.nlm.nih.gov/record/ui?ui=D009369\n"
          ]
        },
        {
          "output_type": "stream",
          "name": "stderr",
          "text": [
            "\r 30%|██▉       | 188/629 [02:58<07:01,  1.05it/s]"
          ]
        },
        {
          "output_type": "stream",
          "name": "stdout",
          "text": [
            "187 :  https://meshb.nlm.nih.gov/record/ui?ui=D005356\n"
          ]
        },
        {
          "output_type": "stream",
          "name": "stderr",
          "text": [
            "\r 30%|███       | 189/629 [02:59<06:58,  1.05it/s]"
          ]
        },
        {
          "output_type": "stream",
          "name": "stdout",
          "text": [
            "188 :  https://meshb.nlm.nih.gov/record/ui?ui=D003424\n"
          ]
        },
        {
          "output_type": "stream",
          "name": "stderr",
          "text": [
            "\r 30%|███       | 190/629 [03:00<06:56,  1.05it/s]"
          ]
        },
        {
          "output_type": "stream",
          "name": "stdout",
          "text": [
            "189 :  https://meshb.nlm.nih.gov/record/ui?ui=D007674\n"
          ]
        },
        {
          "output_type": "stream",
          "name": "stderr",
          "text": [
            "\r 30%|███       | 191/629 [03:01<06:54,  1.06it/s]"
          ]
        },
        {
          "output_type": "stream",
          "name": "stdout",
          "text": [
            "190 :  Respiratory%20Syncytial%20Virus%20Pneumonia\n"
          ]
        },
        {
          "output_type": "stream",
          "name": "stderr",
          "text": [
            "\r 31%|███       | 192/629 [03:02<06:52,  1.06it/s]"
          ]
        },
        {
          "output_type": "stream",
          "name": "stdout",
          "text": [
            "191 :  Bronchiolitis%20Obliterans%20Syndrome\n"
          ]
        },
        {
          "output_type": "stream",
          "name": "stderr",
          "text": [
            "\r 31%|███       | 193/629 [03:03<06:50,  1.06it/s]"
          ]
        },
        {
          "output_type": "stream",
          "name": "stdout",
          "text": [
            "192 :  Carcinoma%2C%20Gastric%2C%20Signet%20Ring%20Cell\n"
          ]
        },
        {
          "output_type": "stream",
          "name": "stderr",
          "text": [
            "\r 31%|███       | 194/629 [03:04<06:49,  1.06it/s]"
          ]
        },
        {
          "output_type": "stream",
          "name": "stdout",
          "text": [
            "193 :  https://meshb.nlm.nih.gov/record/ui?ui=D009765\n"
          ]
        },
        {
          "output_type": "stream",
          "name": "stderr",
          "text": [
            "\r 31%|███       | 195/629 [03:04<06:47,  1.07it/s]"
          ]
        },
        {
          "output_type": "stream",
          "name": "stdout",
          "text": [
            "194 :  Acute%20Myocardial%20Infarction\n"
          ]
        },
        {
          "output_type": "stream",
          "name": "stderr",
          "text": [
            "\r 31%|███       | 196/629 [03:05<06:47,  1.06it/s]"
          ]
        },
        {
          "output_type": "stream",
          "name": "stdout",
          "text": [
            "195 :  https://meshb.nlm.nih.gov/record/ui?ui=D006816\n"
          ]
        },
        {
          "output_type": "stream",
          "name": "stderr",
          "text": [
            "\r 31%|███▏      | 197/629 [03:06<06:46,  1.06it/s]"
          ]
        },
        {
          "output_type": "stream",
          "name": "stdout",
          "text": [
            "196 :  https://meshb.nlm.nih.gov/record/ui?ui=D008103\n"
          ]
        },
        {
          "output_type": "stream",
          "name": "stderr",
          "text": [
            "\r 31%|███▏      | 198/629 [03:07<06:45,  1.06it/s]"
          ]
        },
        {
          "output_type": "stream",
          "name": "stdout",
          "text": [
            "197 :  https://meshb.nlm.nih.gov/record/ui?ui=D050197\n"
          ]
        },
        {
          "output_type": "stream",
          "name": "stderr",
          "text": [
            "\r 32%|███▏      | 199/629 [03:08<06:43,  1.07it/s]"
          ]
        },
        {
          "output_type": "stream",
          "name": "stdout",
          "text": [
            "198 :  https://meshb.nlm.nih.gov/record/ui?ui=D003922\n"
          ]
        },
        {
          "output_type": "stream",
          "name": "stderr",
          "text": [
            "\r 32%|███▏      | 200/629 [03:09<06:41,  1.07it/s]"
          ]
        },
        {
          "output_type": "stream",
          "name": "stdout",
          "text": [
            "199 :  https://meshb.nlm.nih.gov/record/ui?ui=D019694\n"
          ]
        },
        {
          "output_type": "stream",
          "name": "stderr",
          "text": [
            "\r 32%|███▏      | 201/629 [03:10<06:40,  1.07it/s]"
          ]
        },
        {
          "output_type": "stream",
          "name": "stdout",
          "text": [
            "200 :  Cardiac%20Fibrosis\n"
          ]
        },
        {
          "output_type": "stream",
          "name": "stderr",
          "text": [
            "\r 32%|███▏      | 202/629 [03:11<06:38,  1.07it/s]"
          ]
        },
        {
          "output_type": "stream",
          "name": "stdout",
          "text": [
            "201 :  Carcinoma%2C%20Thyroid%2C%20Papillary\n"
          ]
        },
        {
          "output_type": "stream",
          "name": "stderr",
          "text": [
            "\r 32%|███▏      | 203/629 [03:12<06:38,  1.07it/s]"
          ]
        },
        {
          "output_type": "stream",
          "name": "stdout",
          "text": [
            "202 :  https://meshb.nlm.nih.gov/record/ui?ui=D009136\n"
          ]
        },
        {
          "output_type": "stream",
          "name": "stderr",
          "text": [
            "\r 32%|███▏      | 204/629 [03:13<06:37,  1.07it/s]"
          ]
        },
        {
          "output_type": "stream",
          "name": "stdout",
          "text": [
            "203 :  https://meshb.nlm.nih.gov/record/ui?ui=D020031\n"
          ]
        },
        {
          "output_type": "stream",
          "name": "stderr",
          "text": [
            "\r 33%|███▎      | 205/629 [03:14<06:36,  1.07it/s]"
          ]
        },
        {
          "output_type": "stream",
          "name": "stdout",
          "text": [
            "204 :  https://meshb.nlm.nih.gov/record/ui?ui=D010510\n"
          ]
        },
        {
          "output_type": "stream",
          "name": "stderr",
          "text": [
            "\r 33%|███▎      | 206/629 [03:15<06:36,  1.07it/s]"
          ]
        },
        {
          "output_type": "stream",
          "name": "stdout",
          "text": [
            "205 :  https://meshb.nlm.nih.gov/record/ui?ui=D009202\n"
          ]
        },
        {
          "output_type": "stream",
          "name": "stderr",
          "text": [
            "\r 33%|███▎      | 207/629 [03:16<06:34,  1.07it/s]"
          ]
        },
        {
          "output_type": "stream",
          "name": "stdout",
          "text": [
            "206 :  https://meshb.nlm.nih.gov/record/ui?ui=D016393\n"
          ]
        },
        {
          "output_type": "stream",
          "name": "stderr",
          "text": [
            "\r 33%|███▎      | 208/629 [03:17<06:33,  1.07it/s]"
          ]
        },
        {
          "output_type": "stream",
          "name": "stdout",
          "text": [
            "207 :  https://meshb.nlm.nih.gov/record/ui?ui=D013130\n"
          ]
        },
        {
          "output_type": "stream",
          "name": "stderr",
          "text": [
            "\r 33%|███▎      | 209/629 [03:18<06:32,  1.07it/s]"
          ]
        },
        {
          "output_type": "stream",
          "name": "stdout",
          "text": [
            "208 :  https://meshb.nlm.nih.gov/record/ui?ui=D009422\n"
          ]
        },
        {
          "output_type": "stream",
          "name": "stderr",
          "text": [
            "\r 33%|███▎      | 210/629 [03:19<06:30,  1.07it/s]"
          ]
        },
        {
          "output_type": "stream",
          "name": "stdout",
          "text": [
            "209 :  https://meshb.nlm.nih.gov/record/ui?ui=D006332\n"
          ]
        },
        {
          "output_type": "stream",
          "name": "stderr",
          "text": [
            "\r 34%|███▎      | 211/629 [03:19<06:30,  1.07it/s]"
          ]
        },
        {
          "output_type": "stream",
          "name": "stdout",
          "text": [
            "210 :  https://meshb.nlm.nih.gov/record/ui?ui=D016403\n"
          ]
        },
        {
          "output_type": "stream",
          "name": "stderr",
          "text": [
            "\r 34%|███▎      | 212/629 [03:20<06:29,  1.07it/s]"
          ]
        },
        {
          "output_type": "stream",
          "name": "stdout",
          "text": [
            "211 :  Viral%20Infectious%20Disease\n"
          ]
        },
        {
          "output_type": "stream",
          "name": "stderr",
          "text": [
            "\r 34%|███▍      | 213/629 [03:21<06:28,  1.07it/s]"
          ]
        },
        {
          "output_type": "stream",
          "name": "stdout",
          "text": [
            "212 :  https://meshb.nlm.nih.gov/record/ui?ui=D051436\n"
          ]
        },
        {
          "output_type": "stream",
          "name": "stderr",
          "text": [
            "\r 34%|███▍      | 214/629 [03:22<06:27,  1.07it/s]"
          ]
        },
        {
          "output_type": "stream",
          "name": "stdout",
          "text": [
            "213 :  Cutaneous%20Melanoma\n"
          ]
        },
        {
          "output_type": "stream",
          "name": "stderr",
          "text": [
            "\r 34%|███▍      | 215/629 [03:23<06:26,  1.07it/s]"
          ]
        },
        {
          "output_type": "stream",
          "name": "stdout",
          "text": [
            "214 :  https://meshb.nlm.nih.gov/record/ui?ui=D003092\n"
          ]
        },
        {
          "output_type": "stream",
          "name": "stderr",
          "text": [
            "\r 34%|███▍      | 216/629 [03:24<06:25,  1.07it/s]"
          ]
        },
        {
          "output_type": "stream",
          "name": "stdout",
          "text": [
            "215 :  https://meshb.nlm.nih.gov/record/ui?ui=D019636\n"
          ]
        },
        {
          "output_type": "stream",
          "name": "stderr",
          "text": [
            "\r 34%|███▍      | 217/629 [03:25<06:47,  1.01it/s]"
          ]
        },
        {
          "output_type": "stream",
          "name": "stdout",
          "text": [
            "216 :  https://meshb.nlm.nih.gov/record/ui?ui=D066126\n"
          ]
        },
        {
          "output_type": "stream",
          "name": "stderr",
          "text": [
            "\r 35%|███▍      | 218/629 [03:26<06:39,  1.03it/s]"
          ]
        },
        {
          "output_type": "stream",
          "name": "stdout",
          "text": [
            "217 :  https://meshb.nlm.nih.gov/record/ui?ui=D012509\n"
          ]
        },
        {
          "output_type": "stream",
          "name": "stderr",
          "text": [
            "\r 35%|███▍      | 219/629 [03:27<06:33,  1.04it/s]"
          ]
        },
        {
          "output_type": "stream",
          "name": "stdout",
          "text": [
            "218 :  https://meshb.nlm.nih.gov/record/ui?ui=D000026\n"
          ]
        },
        {
          "output_type": "stream",
          "name": "stderr",
          "text": [
            "\r 35%|███▍      | 220/629 [03:28<06:29,  1.05it/s]"
          ]
        },
        {
          "output_type": "stream",
          "name": "stdout",
          "text": [
            "219 :  https://meshb.nlm.nih.gov/record/ui?ui=D012859\n"
          ]
        },
        {
          "output_type": "stream",
          "name": "stderr",
          "text": [
            "\r 35%|███▌      | 221/629 [03:29<06:25,  1.06it/s]"
          ]
        },
        {
          "output_type": "stream",
          "name": "stdout",
          "text": [
            "220 :  https://meshb.nlm.nih.gov/record/ui?ui=D000077192\n"
          ]
        },
        {
          "output_type": "stream",
          "name": "stderr",
          "text": [
            "\r 35%|███▌      | 222/629 [03:30<06:23,  1.06it/s]"
          ]
        },
        {
          "output_type": "stream",
          "name": "stdout",
          "text": [
            "221 :  https://meshb.nlm.nih.gov/record/ui?ui=D014820\n"
          ]
        },
        {
          "output_type": "stream",
          "name": "stderr",
          "text": [
            "\r 35%|███▌      | 223/629 [03:31<06:22,  1.06it/s]"
          ]
        },
        {
          "output_type": "stream",
          "name": "stdout",
          "text": [
            "222 :  https://meshb.nlm.nih.gov/record/ui?ui=D010518\n"
          ]
        },
        {
          "output_type": "stream",
          "name": "stderr",
          "text": [
            "\r 36%|███▌      | 224/629 [03:32<06:19,  1.07it/s]"
          ]
        },
        {
          "output_type": "stream",
          "name": "stdout",
          "text": [
            "223 :  https://meshb.nlm.nih.gov/record/ui?ui=D017676\n"
          ]
        },
        {
          "output_type": "stream",
          "name": "stderr",
          "text": [
            "\r 36%|███▌      | 225/629 [03:33<06:18,  1.07it/s]"
          ]
        },
        {
          "output_type": "stream",
          "name": "stdout",
          "text": [
            "224 :  https://meshb.nlm.nih.gov/record/ui?ui=D006973\n"
          ]
        },
        {
          "output_type": "stream",
          "name": "stderr",
          "text": [
            "\r 36%|███▌      | 226/629 [03:34<06:16,  1.07it/s]"
          ]
        },
        {
          "output_type": "stream",
          "name": "stdout",
          "text": [
            "225 :  Carcinoma%2C%20Lung\n"
          ]
        },
        {
          "output_type": "stream",
          "name": "stderr",
          "text": [
            "\r 36%|███▌      | 227/629 [03:35<06:16,  1.07it/s]"
          ]
        },
        {
          "output_type": "stream",
          "name": "stdout",
          "text": [
            "226 :  https://meshb.nlm.nih.gov/record/ui?ui=D007889\n"
          ]
        },
        {
          "output_type": "stream",
          "name": "stderr",
          "text": [
            "\r 36%|███▌      | 228/629 [03:36<06:15,  1.07it/s]"
          ]
        },
        {
          "output_type": "stream",
          "name": "stdout",
          "text": [
            "227 :  https://meshb.nlm.nih.gov/record/ui?ui=D001943\n"
          ]
        },
        {
          "output_type": "stream",
          "name": "stderr",
          "text": [
            "\r 36%|███▋      | 229/629 [03:36<06:14,  1.07it/s]"
          ]
        },
        {
          "output_type": "stream",
          "name": "stdout",
          "text": [
            "228 :  Kideny%20Transplant%20Rejection\n"
          ]
        },
        {
          "output_type": "stream",
          "name": "stderr",
          "text": [
            "\r 37%|███▋      | 230/629 [03:37<06:13,  1.07it/s]"
          ]
        },
        {
          "output_type": "stream",
          "name": "stdout",
          "text": [
            "229 :  Mitochondrial%20Metabolism%20Disease\n"
          ]
        },
        {
          "output_type": "stream",
          "name": "stderr",
          "text": [
            "\r 37%|███▋      | 231/629 [03:38<06:12,  1.07it/s]"
          ]
        },
        {
          "output_type": "stream",
          "name": "stdout",
          "text": [
            "230 :  https://meshb.nlm.nih.gov/record/ui?ui=D010024\n"
          ]
        },
        {
          "output_type": "stream",
          "name": "stderr",
          "text": [
            "\r 37%|███▋      | 232/629 [03:39<06:11,  1.07it/s]"
          ]
        },
        {
          "output_type": "stream",
          "name": "stdout",
          "text": [
            "231 :  https://meshb.nlm.nih.gov/record/ui?ui=D003924\n"
          ]
        },
        {
          "output_type": "stream",
          "name": "stderr",
          "text": [
            "\r 37%|███▋      | 233/629 [03:40<06:10,  1.07it/s]"
          ]
        },
        {
          "output_type": "stream",
          "name": "stdout",
          "text": [
            "232 :  https://meshb.nlm.nih.gov/record/ui?ui=D000067877\n"
          ]
        },
        {
          "output_type": "stream",
          "name": "stderr",
          "text": [
            "\r 37%|███▋      | 234/629 [03:41<06:09,  1.07it/s]"
          ]
        },
        {
          "output_type": "stream",
          "name": "stdout",
          "text": [
            "233 :  Chronic%20Inflammation\n"
          ]
        },
        {
          "output_type": "stream",
          "name": "stderr",
          "text": [
            "\r 37%|███▋      | 235/629 [03:42<06:09,  1.07it/s]"
          ]
        },
        {
          "output_type": "stream",
          "name": "stdout",
          "text": [
            "234 :  https://meshb.nlm.nih.gov/record/ui?ui=D003110\n"
          ]
        },
        {
          "output_type": "stream",
          "name": "stderr",
          "text": [
            "\r 38%|███▊      | 236/629 [03:43<06:08,  1.07it/s]"
          ]
        },
        {
          "output_type": "stream",
          "name": "stdout",
          "text": [
            "235 :  Human%20Papilloma%20Virus%20Infection\n"
          ]
        },
        {
          "output_type": "stream",
          "name": "stderr",
          "text": [
            "\r 38%|███▊      | 237/629 [03:44<06:07,  1.07it/s]"
          ]
        },
        {
          "output_type": "stream",
          "name": "stdout",
          "text": [
            "236 :  https://meshb.nlm.nih.gov/record/ui?ui=D014652\n"
          ]
        },
        {
          "output_type": "stream",
          "name": "stderr",
          "text": [
            "\r 38%|███▊      | 238/629 [03:45<06:05,  1.07it/s]"
          ]
        },
        {
          "output_type": "stream",
          "name": "stdout",
          "text": [
            "237 :  https://meshb.nlm.nih.gov/record/ui?ui=D020786\n"
          ]
        },
        {
          "output_type": "stream",
          "name": "stderr",
          "text": [
            "\r 38%|███▊      | 239/629 [03:46<06:05,  1.07it/s]"
          ]
        },
        {
          "output_type": "stream",
          "name": "stdout",
          "text": [
            "238 :  https://meshb.nlm.nih.gov/record/ui?ui=D003528\n"
          ]
        },
        {
          "output_type": "stream",
          "name": "stderr",
          "text": [
            "\r 38%|███▊      | 240/629 [03:47<06:04,  1.07it/s]"
          ]
        },
        {
          "output_type": "stream",
          "name": "stdout",
          "text": [
            "239 :  https://meshb.nlm.nih.gov/record/ui?ui=D009404\n"
          ]
        },
        {
          "output_type": "stream",
          "name": "stderr",
          "text": [
            "\r 38%|███▊      | 241/629 [03:48<06:03,  1.07it/s]"
          ]
        },
        {
          "output_type": "stream",
          "name": "stdout",
          "text": [
            "240 :  https://meshb.nlm.nih.gov/record/ui?ui=D004701\n"
          ]
        },
        {
          "output_type": "stream",
          "name": "stderr",
          "text": [
            "\r 38%|███▊      | 242/629 [03:49<06:01,  1.07it/s]"
          ]
        },
        {
          "output_type": "stream",
          "name": "stdout",
          "text": [
            "241 :  https://meshb.nlm.nih.gov/record/ui?ui=D007511\n"
          ]
        },
        {
          "output_type": "stream",
          "name": "stderr",
          "text": [
            "\r 39%|███▊      | 243/629 [03:50<06:00,  1.07it/s]"
          ]
        },
        {
          "output_type": "stream",
          "name": "stdout",
          "text": [
            "242 :  https://meshb.nlm.nih.gov/record/ui?ui=D018222\n"
          ]
        },
        {
          "output_type": "stream",
          "name": "stderr",
          "text": [
            "\r 39%|███▉      | 244/629 [03:50<05:59,  1.07it/s]"
          ]
        },
        {
          "output_type": "stream",
          "name": "stdout",
          "text": [
            "243 :  https://meshb.nlm.nih.gov/record/ui?ui=D010911\n"
          ]
        },
        {
          "output_type": "stream",
          "name": "stderr",
          "text": [
            "\r 39%|███▉      | 245/629 [03:51<05:58,  1.07it/s]"
          ]
        },
        {
          "output_type": "stream",
          "name": "stdout",
          "text": [
            "244 :  https://meshb.nlm.nih.gov/record/ui?ui=D020521\n"
          ]
        },
        {
          "output_type": "stream",
          "name": "stderr",
          "text": [
            "\r 39%|███▉      | 246/629 [03:52<05:58,  1.07it/s]"
          ]
        },
        {
          "output_type": "stream",
          "name": "stdout",
          "text": [
            "245 :  https://meshb.nlm.nih.gov/record/ui?ui=D012223\n"
          ]
        },
        {
          "output_type": "stream",
          "name": "stderr",
          "text": [
            "\r 39%|███▉      | 247/629 [03:53<05:57,  1.07it/s]"
          ]
        },
        {
          "output_type": "stream",
          "name": "stdout",
          "text": [
            "246 :  https://meshb.nlm.nih.gov/record/ui?ui=D002310\n"
          ]
        },
        {
          "output_type": "stream",
          "name": "stderr",
          "text": [
            "\r 39%|███▉      | 248/629 [03:54<05:57,  1.07it/s]"
          ]
        },
        {
          "output_type": "stream",
          "name": "stdout",
          "text": [
            "247 :  https://meshb.nlm.nih.gov/record/ui?ui=C562841\n"
          ]
        },
        {
          "output_type": "stream",
          "name": "stderr",
          "text": [
            "\r 40%|███▉      | 249/629 [03:56<06:38,  1.05s/it]"
          ]
        },
        {
          "output_type": "stream",
          "name": "stdout",
          "text": [
            "248 :  NUT%20Midline%20Carcinoma\n"
          ]
        },
        {
          "output_type": "stream",
          "name": "stderr",
          "text": [
            "\r 40%|███▉      | 250/629 [03:56<06:24,  1.01s/it]"
          ]
        },
        {
          "output_type": "stream",
          "name": "stdout",
          "text": [
            "249 :  https://meshb.nlm.nih.gov/record/ui?ui=D007239\n"
          ]
        },
        {
          "output_type": "stream",
          "name": "stderr",
          "text": [
            "\r 40%|███▉      | 251/629 [03:57<06:14,  1.01it/s]"
          ]
        },
        {
          "output_type": "stream",
          "name": "stdout",
          "text": [
            "250 :  Carcinoma%2C%20Endometrioid%20Endometrial\n"
          ]
        },
        {
          "output_type": "stream",
          "name": "stderr",
          "text": [
            "\r 40%|████      | 252/629 [03:58<06:06,  1.03it/s]"
          ]
        },
        {
          "output_type": "stream",
          "name": "stdout",
          "text": [
            "251 :  Carcinoma%2C%20Hepatocellular%2C%20HBV-Related\n"
          ]
        },
        {
          "output_type": "stream",
          "name": "stderr",
          "text": [
            "\r 40%|████      | 253/629 [03:59<06:02,  1.04it/s]"
          ]
        },
        {
          "output_type": "stream",
          "name": "stdout",
          "text": [
            "252 :  Urinary%20System%20Cancer\n"
          ]
        },
        {
          "output_type": "stream",
          "name": "stderr",
          "text": [
            "\r 40%|████      | 254/629 [04:00<05:58,  1.05it/s]"
          ]
        },
        {
          "output_type": "stream",
          "name": "stdout",
          "text": [
            "253 :  https://meshb.nlm.nih.gov/record/ui?ui=D009157\n"
          ]
        },
        {
          "output_type": "stream",
          "name": "stderr",
          "text": [
            "\r 41%|████      | 255/629 [04:01<06:16,  1.01s/it]"
          ]
        },
        {
          "output_type": "stream",
          "name": "stdout",
          "text": [
            "254 :  https://meshb.nlm.nih.gov/record/ui?ui=D009837\n"
          ]
        },
        {
          "output_type": "stream",
          "name": "stderr",
          "text": [
            "\r 41%|████      | 256/629 [04:02<06:07,  1.02it/s]"
          ]
        },
        {
          "output_type": "stream",
          "name": "stdout",
          "text": [
            "255 :  Uterine%20Leiomyoma\n"
          ]
        },
        {
          "output_type": "stream",
          "name": "stderr",
          "text": [
            "\r 41%|████      | 257/629 [04:03<06:00,  1.03it/s]"
          ]
        },
        {
          "output_type": "stream",
          "name": "stdout",
          "text": [
            "256 :  https://meshb.nlm.nih.gov/record/ui?ui=D043183\n"
          ]
        },
        {
          "output_type": "stream",
          "name": "stderr",
          "text": [
            "\r 41%|████      | 258/629 [04:04<05:55,  1.04it/s]"
          ]
        },
        {
          "output_type": "stream",
          "name": "stdout",
          "text": [
            "257 :  https://meshb.nlm.nih.gov/record/ui?ui=D002296\n"
          ]
        },
        {
          "output_type": "stream",
          "name": "stderr",
          "text": [
            "\r 41%|████      | 259/629 [04:05<05:52,  1.05it/s]"
          ]
        },
        {
          "output_type": "stream",
          "name": "stdout",
          "text": [
            "258 :  https://meshb.nlm.nih.gov/record/ui?ui=D018203\n"
          ]
        },
        {
          "output_type": "stream",
          "name": "stderr",
          "text": [
            "\r 41%|████▏     | 260/629 [04:06<05:50,  1.05it/s]"
          ]
        },
        {
          "output_type": "stream",
          "name": "stdout",
          "text": [
            "259 :  https://meshb.nlm.nih.gov/record/ui?ui=D007890\n"
          ]
        },
        {
          "output_type": "stream",
          "name": "stderr",
          "text": [
            "\r 41%|████▏     | 261/629 [04:07<05:47,  1.06it/s]"
          ]
        },
        {
          "output_type": "stream",
          "name": "stdout",
          "text": [
            "260 :  https://meshb.nlm.nih.gov/record/ui?ui=D000690\n"
          ]
        },
        {
          "output_type": "stream",
          "name": "stderr",
          "text": [
            "\r 42%|████▏     | 262/629 [04:08<05:45,  1.06it/s]"
          ]
        },
        {
          "output_type": "stream",
          "name": "stdout",
          "text": [
            "261 :  https://meshb.nlm.nih.gov/record/ui?ui=D007246\n"
          ]
        },
        {
          "output_type": "stream",
          "name": "stderr",
          "text": [
            "\r 42%|████▏     | 263/629 [04:09<05:43,  1.07it/s]"
          ]
        },
        {
          "output_type": "stream",
          "name": "stdout",
          "text": [
            "262 :  https://meshb.nlm.nih.gov/record/ui?ui=D054990\n"
          ]
        },
        {
          "output_type": "stream",
          "name": "stderr",
          "text": [
            "\r 42%|████▏     | 264/629 [04:10<05:42,  1.07it/s]"
          ]
        },
        {
          "output_type": "stream",
          "name": "stdout",
          "text": [
            "263 :  Human%20Cytomegalovirus%20Infection\n"
          ]
        },
        {
          "output_type": "stream",
          "name": "stderr",
          "text": [
            "\r 42%|████▏     | 265/629 [04:11<05:41,  1.07it/s]"
          ]
        },
        {
          "output_type": "stream",
          "name": "stdout",
          "text": [
            "264 :  Rhinosinusitis\n"
          ]
        },
        {
          "output_type": "stream",
          "name": "stderr",
          "text": [
            "\r 42%|████▏     | 266/629 [04:12<05:40,  1.07it/s]"
          ]
        },
        {
          "output_type": "stream",
          "name": "stdout",
          "text": [
            "265 :  https://meshb.nlm.nih.gov/record/ui?ui=D018236\n"
          ]
        },
        {
          "output_type": "stream",
          "name": "stderr",
          "text": [
            "\r 42%|████▏     | 267/629 [04:13<05:39,  1.07it/s]"
          ]
        },
        {
          "output_type": "stream",
          "name": "stdout",
          "text": [
            "266 :  https://meshb.nlm.nih.gov/record/ui?ui=D001321\n"
          ]
        },
        {
          "output_type": "stream",
          "name": "stderr",
          "text": [
            "\r 43%|████▎     | 268/629 [04:14<05:38,  1.07it/s]"
          ]
        },
        {
          "output_type": "stream",
          "name": "stdout",
          "text": [
            "267 :  https://meshb.nlm.nih.gov/record/ui?ui=D001932\n"
          ]
        },
        {
          "output_type": "stream",
          "name": "stderr",
          "text": [
            "\r 43%|████▎     | 269/629 [04:14<05:36,  1.07it/s]"
          ]
        },
        {
          "output_type": "stream",
          "name": "stdout",
          "text": [
            "268 :  https://meshb.nlm.nih.gov/record/ui?ui=D053713\n"
          ]
        },
        {
          "output_type": "stream",
          "name": "stderr",
          "text": [
            "\r 43%|████▎     | 270/629 [04:15<05:35,  1.07it/s]"
          ]
        },
        {
          "output_type": "stream",
          "name": "stdout",
          "text": [
            "269 :  https://meshb.nlm.nih.gov/record/ui?ui=D015464\n"
          ]
        },
        {
          "output_type": "stream",
          "name": "stderr",
          "text": [
            "\r 43%|████▎     | 271/629 [04:16<05:35,  1.07it/s]"
          ]
        },
        {
          "output_type": "stream",
          "name": "stdout",
          "text": [
            "270 :  Breast%20Adenocarcinoma\n"
          ]
        },
        {
          "output_type": "stream",
          "name": "stderr",
          "text": [
            "\r 43%|████▎     | 272/629 [04:17<05:41,  1.04it/s]"
          ]
        },
        {
          "output_type": "stream",
          "name": "stdout",
          "text": [
            "271 :  https://meshb.nlm.nih.gov/record/ui?ui=D007154\n"
          ]
        },
        {
          "output_type": "stream",
          "name": "stderr",
          "text": [
            "\r 43%|████▎     | 273/629 [04:18<05:38,  1.05it/s]"
          ]
        },
        {
          "output_type": "stream",
          "name": "stdout",
          "text": [
            "272 :  https://meshb.nlm.nih.gov/record/ui?ui=D001847\n"
          ]
        },
        {
          "output_type": "stream",
          "name": "stderr",
          "text": [
            "\r 44%|████▎     | 274/629 [04:19<05:35,  1.06it/s]"
          ]
        },
        {
          "output_type": "stream",
          "name": "stdout",
          "text": [
            "273 :  https://meshb.nlm.nih.gov/record/ui?ui=D009506\n"
          ]
        },
        {
          "output_type": "stream",
          "name": "stderr",
          "text": [
            "\r 44%|████▎     | 275/629 [04:20<05:34,  1.06it/s]"
          ]
        },
        {
          "output_type": "stream",
          "name": "stdout",
          "text": [
            "274 :  https://meshb.nlm.nih.gov/record/ui?ui=D016779\n"
          ]
        },
        {
          "output_type": "stream",
          "name": "stderr",
          "text": [
            "\r 44%|████▍     | 276/629 [04:21<05:32,  1.06it/s]"
          ]
        },
        {
          "output_type": "stream",
          "name": "stdout",
          "text": [
            "275 :  https://meshb.nlm.nih.gov/record/ui?ui=D057174\n"
          ]
        },
        {
          "output_type": "stream",
          "name": "stderr",
          "text": [
            "\r 44%|████▍     | 277/629 [04:22<05:30,  1.06it/s]"
          ]
        },
        {
          "output_type": "stream",
          "name": "stdout",
          "text": [
            "276 :  https://meshb.nlm.nih.gov/record/ui?ui=D001172\n"
          ]
        },
        {
          "output_type": "stream",
          "name": "stderr",
          "text": [
            "\r 44%|████▍     | 278/629 [04:23<05:29,  1.06it/s]"
          ]
        },
        {
          "output_type": "stream",
          "name": "stdout",
          "text": [
            "277 :  https://meshb.nlm.nih.gov/record/ui?ui=D008181\n"
          ]
        },
        {
          "output_type": "stream",
          "name": "stderr",
          "text": [
            "\r 44%|████▍     | 279/629 [04:24<05:28,  1.06it/s]"
          ]
        },
        {
          "output_type": "stream",
          "name": "stdout",
          "text": [
            "278 :  https://meshb.nlm.nih.gov/record/ui?ui=D012772\n"
          ]
        },
        {
          "output_type": "stream",
          "name": "stderr",
          "text": [
            "\r 45%|████▍     | 280/629 [04:25<05:26,  1.07it/s]"
          ]
        },
        {
          "output_type": "stream",
          "name": "stdout",
          "text": [
            "279 :  Carcinoma%2C%20Thyroid%2C%20Medullary\n"
          ]
        },
        {
          "output_type": "stream",
          "name": "stderr",
          "text": [
            "\r 45%|████▍     | 281/629 [04:26<05:44,  1.01it/s]"
          ]
        },
        {
          "output_type": "stream",
          "name": "stdout",
          "text": [
            "280 :  Mesial%20Temporal%20Lobe%20Epilepsy\n"
          ]
        },
        {
          "output_type": "stream",
          "name": "stderr",
          "text": [
            "\r 45%|████▍     | 282/629 [04:27<05:37,  1.03it/s]"
          ]
        },
        {
          "output_type": "stream",
          "name": "stdout",
          "text": [
            "281 :  Myeloproliferative%20Neoplasms\n"
          ]
        },
        {
          "output_type": "stream",
          "name": "stderr",
          "text": [
            "\r 45%|████▍     | 283/629 [04:28<05:32,  1.04it/s]"
          ]
        },
        {
          "output_type": "stream",
          "name": "stdout",
          "text": [
            "282 :  Viral%20Myocarditis\n"
          ]
        },
        {
          "output_type": "stream",
          "name": "stderr",
          "text": [
            "\r 45%|████▌     | 284/629 [04:29<05:28,  1.05it/s]"
          ]
        },
        {
          "output_type": "stream",
          "name": "stdout",
          "text": [
            "283 :  Carcinoma%2C%20Skin\n"
          ]
        },
        {
          "output_type": "stream",
          "name": "stderr",
          "text": [
            "\r 45%|████▌     | 285/629 [04:30<05:25,  1.06it/s]"
          ]
        },
        {
          "output_type": "stream",
          "name": "stdout",
          "text": [
            "284 :  Lymphoma%2C%20Large%20B-Cell\n"
          ]
        },
        {
          "output_type": "stream",
          "name": "stderr",
          "text": [
            "\r 45%|████▌     | 286/629 [04:31<05:23,  1.06it/s]"
          ]
        },
        {
          "output_type": "stream",
          "name": "stdout",
          "text": [
            "285 :  https://meshb.nlm.nih.gov/record/ui?ui=D002817\n"
          ]
        },
        {
          "output_type": "stream",
          "name": "stderr",
          "text": [
            "\r 46%|████▌     | 287/629 [04:32<05:21,  1.06it/s]"
          ]
        },
        {
          "output_type": "stream",
          "name": "stdout",
          "text": [
            "286 :  Carcinoma%2C%20Ovarian%2C%20Serous\n"
          ]
        },
        {
          "output_type": "stream",
          "name": "stderr",
          "text": [
            "\r 46%|████▌     | 288/629 [04:32<05:19,  1.07it/s]"
          ]
        },
        {
          "output_type": "stream",
          "name": "stdout",
          "text": [
            "287 :  https://meshb.nlm.nih.gov/record/ui?ui=D014947\n"
          ]
        },
        {
          "output_type": "stream",
          "name": "stderr",
          "text": [
            "\r 46%|████▌     | 289/629 [04:33<05:19,  1.06it/s]"
          ]
        },
        {
          "output_type": "stream",
          "name": "stdout",
          "text": [
            "288 :  https://meshb.nlm.nih.gov/record/ui?ui=D011625\n"
          ]
        },
        {
          "output_type": "stream",
          "name": "stderr",
          "text": [
            "\r 46%|████▌     | 290/629 [04:34<05:18,  1.07it/s]"
          ]
        },
        {
          "output_type": "stream",
          "name": "stdout",
          "text": [
            "289 :  https://meshb.nlm.nih.gov/record/ui?ui=D007972\n"
          ]
        },
        {
          "output_type": "stream",
          "name": "stderr",
          "text": [
            "\r 46%|████▋     | 291/629 [04:35<05:16,  1.07it/s]"
          ]
        },
        {
          "output_type": "stream",
          "name": "stdout",
          "text": [
            "290 :  https://meshb.nlm.nih.gov/record/ui?ui=D004314\n"
          ]
        },
        {
          "output_type": "stream",
          "name": "stderr",
          "text": [
            "\r 46%|████▋     | 292/629 [04:36<05:15,  1.07it/s]"
          ]
        },
        {
          "output_type": "stream",
          "name": "stdout",
          "text": [
            "291 :  https://meshb.nlm.nih.gov/record/ui?ui=D000070642\n"
          ]
        },
        {
          "output_type": "stream",
          "name": "stderr",
          "text": [
            "\r 47%|████▋     | 293/629 [04:37<05:14,  1.07it/s]"
          ]
        },
        {
          "output_type": "stream",
          "name": "stdout",
          "text": [
            "292 :  https://meshb.nlm.nih.gov/record/ui?ui=D001523\n"
          ]
        },
        {
          "output_type": "stream",
          "name": "stderr",
          "text": [
            "\r 47%|████▋     | 294/629 [04:38<05:13,  1.07it/s]"
          ]
        },
        {
          "output_type": "stream",
          "name": "stdout",
          "text": [
            "293 :  https://meshb.nlm.nih.gov/record/ui?ui=D001997\n"
          ]
        },
        {
          "output_type": "stream",
          "name": "stderr",
          "text": [
            "\r 47%|████▋     | 295/629 [04:39<05:11,  1.07it/s]"
          ]
        },
        {
          "output_type": "stream",
          "name": "stdout",
          "text": [
            "294 :  Thyroid%20Lymphoma\n"
          ]
        },
        {
          "output_type": "stream",
          "name": "stderr",
          "text": [
            "\r 47%|████▋     | 296/629 [04:40<05:11,  1.07it/s]"
          ]
        },
        {
          "output_type": "stream",
          "name": "stdout",
          "text": [
            "295 :  https://meshb.nlm.nih.gov/record/ui?ui=D016889\n"
          ]
        },
        {
          "output_type": "stream",
          "name": "stderr",
          "text": [
            "\r 47%|████▋     | 297/629 [04:41<05:10,  1.07it/s]"
          ]
        },
        {
          "output_type": "stream",
          "name": "stdout",
          "text": [
            "296 :  https://meshb.nlm.nih.gov/record/ui?ui=D008080\n"
          ]
        },
        {
          "output_type": "stream",
          "name": "stderr",
          "text": [
            "\r 47%|████▋     | 298/629 [04:42<05:09,  1.07it/s]"
          ]
        },
        {
          "output_type": "stream",
          "name": "stdout",
          "text": [
            "297 :  https://meshb.nlm.nih.gov/record/ui?ui=D013964\n"
          ]
        },
        {
          "output_type": "stream",
          "name": "stderr",
          "text": [
            "\r 48%|████▊     | 299/629 [04:43<05:08,  1.07it/s]"
          ]
        },
        {
          "output_type": "stream",
          "name": "stdout",
          "text": [
            "298 :  Mycobacterium%20Avium%20Complex%20Disease\n"
          ]
        },
        {
          "output_type": "stream",
          "name": "stderr",
          "text": [
            "\r 48%|████▊     | 300/629 [04:44<05:07,  1.07it/s]"
          ]
        },
        {
          "output_type": "stream",
          "name": "stdout",
          "text": [
            "299 :  https://meshb.nlm.nih.gov/record/ui?ui=D007690\n"
          ]
        },
        {
          "output_type": "stream",
          "name": "stderr",
          "text": [
            "\r 48%|████▊     | 301/629 [04:45<05:06,  1.07it/s]"
          ]
        },
        {
          "output_type": "stream",
          "name": "stdout",
          "text": [
            "300 :  https://meshb.nlm.nih.gov/record/ui?ui=D018358\n"
          ]
        },
        {
          "output_type": "stream",
          "name": "stderr",
          "text": [
            "\r 48%|████▊     | 302/629 [04:46<05:05,  1.07it/s]"
          ]
        },
        {
          "output_type": "stream",
          "name": "stdout",
          "text": [
            "301 :  https://meshb.nlm.nih.gov/record/ui?ui=D013967\n"
          ]
        },
        {
          "output_type": "stream",
          "name": "stderr",
          "text": [
            "\r 48%|████▊     | 303/629 [04:46<05:04,  1.07it/s]"
          ]
        },
        {
          "output_type": "stream",
          "name": "stdout",
          "text": [
            "302 :  Carcinoma%2C%20Periampullary\n"
          ]
        },
        {
          "output_type": "stream",
          "name": "stderr",
          "text": [
            "\r 48%|████▊     | 304/629 [04:47<05:04,  1.07it/s]"
          ]
        },
        {
          "output_type": "stream",
          "name": "stdout",
          "text": [
            "303 :  Early-Stage%20Gastric%20Carcinoma\n"
          ]
        },
        {
          "output_type": "stream",
          "name": "stderr",
          "text": [
            "\r 48%|████▊     | 305/629 [04:48<05:03,  1.07it/s]"
          ]
        },
        {
          "output_type": "stream",
          "name": "stdout",
          "text": [
            "304 :  https://meshb.nlm.nih.gov/record/ui?ui=D016640\n"
          ]
        },
        {
          "output_type": "stream",
          "name": "stderr",
          "text": [
            "\r 49%|████▊     | 306/629 [04:49<05:01,  1.07it/s]"
          ]
        },
        {
          "output_type": "stream",
          "name": "stdout",
          "text": [
            "305 :  Carcinoma%2C%20Thyroid%2C%20Follicular\n"
          ]
        },
        {
          "output_type": "stream",
          "name": "stderr",
          "text": [
            "\r 49%|████▉     | 307/629 [04:50<05:00,  1.07it/s]"
          ]
        },
        {
          "output_type": "stream",
          "name": "stdout",
          "text": [
            "306 :  https://meshb.nlm.nih.gov/record/ui?ui=D000083302\n"
          ]
        },
        {
          "output_type": "stream",
          "name": "stderr",
          "text": [
            "\r 49%|████▉     | 308/629 [04:51<04:59,  1.07it/s]"
          ]
        },
        {
          "output_type": "stream",
          "name": "stdout",
          "text": [
            "307 :  Carcinoma%2C%20Supraglottic\n"
          ]
        },
        {
          "output_type": "stream",
          "name": "stderr",
          "text": [
            "\r 49%|████▉     | 309/629 [04:52<04:58,  1.07it/s]"
          ]
        },
        {
          "output_type": "stream",
          "name": "stdout",
          "text": [
            "308 :  Recurrent%20Spontaneous%20Abortion\n"
          ]
        },
        {
          "output_type": "stream",
          "name": "stderr",
          "text": [
            "\r 49%|████▉     | 310/629 [04:53<04:58,  1.07it/s]"
          ]
        },
        {
          "output_type": "stream",
          "name": "stdout",
          "text": [
            "309 :  Uterine%20Corpus%20Serous%20Adenocarcinoma\n"
          ]
        },
        {
          "output_type": "stream",
          "name": "stderr",
          "text": [
            "\r 49%|████▉     | 311/629 [04:54<04:57,  1.07it/s]"
          ]
        },
        {
          "output_type": "stream",
          "name": "stdout",
          "text": [
            "310 :  https://meshb.nlm.nih.gov/record/ui?ui=D002644\n"
          ]
        },
        {
          "output_type": "stream",
          "name": "stderr",
          "text": [
            "\r 50%|████▉     | 312/629 [04:55<04:56,  1.07it/s]"
          ]
        },
        {
          "output_type": "stream",
          "name": "stdout",
          "text": [
            "311 :  https://meshb.nlm.nih.gov/record/ui?ui=D013313\n"
          ]
        },
        {
          "output_type": "stream",
          "name": "stderr",
          "text": [
            "\r 50%|████▉     | 313/629 [04:56<05:46,  1.10s/it]"
          ]
        },
        {
          "output_type": "stream",
          "name": "stdout",
          "text": [
            "312 :  https://meshb.nlm.nih.gov/record/ui?ui=D007627\n"
          ]
        },
        {
          "output_type": "stream",
          "name": "stderr",
          "text": [
            "\r 50%|████▉     | 314/629 [04:57<05:29,  1.05s/it]"
          ]
        },
        {
          "output_type": "stream",
          "name": "stdout",
          "text": [
            "313 :  https://meshb.nlm.nih.gov/record/ui?ui=C536399\n"
          ]
        },
        {
          "output_type": "stream",
          "name": "stderr",
          "text": [
            "\r 50%|█████     | 315/629 [04:58<05:18,  1.01s/it]"
          ]
        },
        {
          "output_type": "stream",
          "name": "stdout",
          "text": [
            "314 :  https://meshb.nlm.nih.gov/record/ui?ui=D009133\n"
          ]
        },
        {
          "output_type": "stream",
          "name": "stderr",
          "text": [
            "\r 50%|█████     | 316/629 [04:59<05:10,  1.01it/s]"
          ]
        },
        {
          "output_type": "stream",
          "name": "stdout",
          "text": [
            "315 :  https://meshb.nlm.nih.gov/record/ui?ui=D017114\n"
          ]
        },
        {
          "output_type": "stream",
          "name": "stderr",
          "text": [
            "\r 50%|█████     | 317/629 [05:00<05:05,  1.02it/s]"
          ]
        },
        {
          "output_type": "stream",
          "name": "stdout",
          "text": [
            "316 :  https://meshb.nlm.nih.gov/record/ui?ui=C538105\n"
          ]
        },
        {
          "output_type": "stream",
          "name": "stderr",
          "text": [
            "\r 51%|█████     | 318/629 [05:01<05:00,  1.03it/s]"
          ]
        },
        {
          "output_type": "stream",
          "name": "stdout",
          "text": [
            "317 :  https://meshb.nlm.nih.gov/record/ui?ui=D019578\n"
          ]
        },
        {
          "output_type": "stream",
          "name": "stderr",
          "text": [
            "\r 51%|█████     | 319/629 [05:02<04:56,  1.04it/s]"
          ]
        },
        {
          "output_type": "stream",
          "name": "stdout",
          "text": [
            "318 :  https://meshb.nlm.nih.gov/record/ui?ui=D004062\n"
          ]
        },
        {
          "output_type": "stream",
          "name": "stderr",
          "text": [
            "\r 51%|█████     | 320/629 [05:03<04:53,  1.05it/s]"
          ]
        },
        {
          "output_type": "stream",
          "name": "stdout",
          "text": [
            "319 :  https://meshb.nlm.nih.gov/record/ui?ui=D008232\n"
          ]
        },
        {
          "output_type": "stream",
          "name": "stderr",
          "text": [
            "\r 51%|█████     | 321/629 [05:04<04:51,  1.06it/s]"
          ]
        },
        {
          "output_type": "stream",
          "name": "stdout",
          "text": [
            "320 :  https://meshb.nlm.nih.gov/record/ui?ui=D007248\n"
          ]
        },
        {
          "output_type": "stream",
          "name": "stderr",
          "text": [
            "\r 51%|█████     | 322/629 [05:05<04:49,  1.06it/s]"
          ]
        },
        {
          "output_type": "stream",
          "name": "stdout",
          "text": [
            "321 :  Heart%20Transplant%20Rejection\n"
          ]
        },
        {
          "output_type": "stream",
          "name": "stderr",
          "text": [
            "\r 51%|█████▏    | 323/629 [05:06<04:47,  1.06it/s]"
          ]
        },
        {
          "output_type": "stream",
          "name": "stdout",
          "text": [
            "322 :  Adenocarcinoma%2C%20Cervical\n"
          ]
        },
        {
          "output_type": "stream",
          "name": "stderr",
          "text": [
            "\r 52%|█████▏    | 324/629 [05:07<04:47,  1.06it/s]"
          ]
        },
        {
          "output_type": "stream",
          "name": "stdout",
          "text": [
            "323 :  https://meshb.nlm.nih.gov/record/ui?ui=D002532\n"
          ]
        },
        {
          "output_type": "stream",
          "name": "stderr",
          "text": [
            "\r 52%|█████▏    | 325/629 [05:08<04:45,  1.07it/s]"
          ]
        },
        {
          "output_type": "stream",
          "name": "stdout",
          "text": [
            "324 :  Adenocarcinoma%2C%20Gastric-Esophageal%20Junction\n"
          ]
        },
        {
          "output_type": "stream",
          "name": "stderr",
          "text": [
            "\r 52%|█████▏    | 326/629 [05:09<04:43,  1.07it/s]"
          ]
        },
        {
          "output_type": "stream",
          "name": "stdout",
          "text": [
            "325 :  https://meshb.nlm.nih.gov/record/ui?ui=D010049\n"
          ]
        },
        {
          "output_type": "stream",
          "name": "stderr",
          "text": [
            "\r 52%|█████▏    | 327/629 [05:09<04:42,  1.07it/s]"
          ]
        },
        {
          "output_type": "stream",
          "name": "stdout",
          "text": [
            "326 :  Colorectal%20Adenoma\n"
          ]
        },
        {
          "output_type": "stream",
          "name": "stderr",
          "text": [
            "\r 52%|█████▏    | 328/629 [05:10<04:41,  1.07it/s]"
          ]
        },
        {
          "output_type": "stream",
          "name": "stdout",
          "text": [
            "327 :  Squamous%20Cell%20Carcinoma%2C%20Tongue\n"
          ]
        },
        {
          "output_type": "stream",
          "name": "stderr",
          "text": [
            "\r 52%|█████▏    | 329/629 [05:11<04:41,  1.07it/s]"
          ]
        },
        {
          "output_type": "stream",
          "name": "stdout",
          "text": [
            "328 :  Small%20Cell%20Carcinoma%2C%20Esophageal\n"
          ]
        },
        {
          "output_type": "stream",
          "name": "stderr",
          "text": [
            "\r 52%|█████▏    | 330/629 [05:12<04:40,  1.07it/s]"
          ]
        },
        {
          "output_type": "stream",
          "name": "stdout",
          "text": [
            "329 :  Muscle%20Diseases\n"
          ]
        },
        {
          "output_type": "stream",
          "name": "stderr",
          "text": [
            "\r 53%|█████▎    | 331/629 [05:13<04:39,  1.06it/s]"
          ]
        },
        {
          "output_type": "stream",
          "name": "stdout",
          "text": [
            "330 :  Head%20And%20Neck%20Adenoid%20Cystic%20Carcinoma\n"
          ]
        },
        {
          "output_type": "stream",
          "name": "stderr",
          "text": [
            "\r 53%|█████▎    | 332/629 [05:14<04:38,  1.07it/s]"
          ]
        },
        {
          "output_type": "stream",
          "name": "stdout",
          "text": [
            "331 :  https://meshb.nlm.nih.gov/record/ui?ui=D018242\n"
          ]
        },
        {
          "output_type": "stream",
          "name": "stderr",
          "text": [
            "\r 53%|█████▎    | 333/629 [05:15<04:37,  1.07it/s]"
          ]
        },
        {
          "output_type": "stream",
          "name": "stdout",
          "text": [
            "332 :  Spinal%20Chordoma\n"
          ]
        },
        {
          "output_type": "stream",
          "name": "stderr",
          "text": [
            "\r 53%|█████▎    | 334/629 [05:16<04:36,  1.07it/s]"
          ]
        },
        {
          "output_type": "stream",
          "name": "stdout",
          "text": [
            "333 :  Non-Traumatic%20Osteonecrosis\n"
          ]
        },
        {
          "output_type": "stream",
          "name": "stderr",
          "text": [
            "\r 53%|█████▎    | 335/629 [05:17<04:35,  1.07it/s]"
          ]
        },
        {
          "output_type": "stream",
          "name": "stdout",
          "text": [
            "334 :  https://meshb.nlm.nih.gov/record/ui?ui=D018281\n"
          ]
        },
        {
          "output_type": "stream",
          "name": "stderr",
          "text": [
            "\r 53%|█████▎    | 336/629 [05:18<04:34,  1.07it/s]"
          ]
        },
        {
          "output_type": "stream",
          "name": "stdout",
          "text": [
            "335 :  https://meshb.nlm.nih.gov/record/ui?ui=D050500\n"
          ]
        },
        {
          "output_type": "stream",
          "name": "stderr",
          "text": [
            "\r 54%|█████▎    | 337/629 [05:19<04:33,  1.07it/s]"
          ]
        },
        {
          "output_type": "stream",
          "name": "stdout",
          "text": [
            "336 :  https://meshb.nlm.nih.gov/record/ui?ui=D012004\n"
          ]
        },
        {
          "output_type": "stream",
          "name": "stderr",
          "text": [
            "\r 54%|█████▎    | 338/629 [05:20<04:32,  1.07it/s]"
          ]
        },
        {
          "output_type": "stream",
          "name": "stdout",
          "text": [
            "337 :  Carcinoma%2C%20Renal%20Cell%2C%20Chromophobe\n"
          ]
        },
        {
          "output_type": "stream",
          "name": "stderr",
          "text": [
            "\r 54%|█████▍    | 339/629 [05:21<04:31,  1.07it/s]"
          ]
        },
        {
          "output_type": "stream",
          "name": "stdout",
          "text": [
            "338 :  https://meshb.nlm.nih.gov/record/ui?ui=D020345\n"
          ]
        },
        {
          "output_type": "stream",
          "name": "stderr",
          "text": [
            "\r 54%|█████▍    | 340/629 [05:22<04:30,  1.07it/s]"
          ]
        },
        {
          "output_type": "stream",
          "name": "stdout",
          "text": [
            "339 :  Uterine%20Corpus%20Myxoid%20Leiomyosarcoma\n"
          ]
        },
        {
          "output_type": "stream",
          "name": "stderr",
          "text": [
            "\r 54%|█████▍    | 341/629 [05:23<04:29,  1.07it/s]"
          ]
        },
        {
          "output_type": "stream",
          "name": "stdout",
          "text": [
            "340 :  Carcinoma%2C%20Urothelial%2C%20Upper%20Tract\n"
          ]
        },
        {
          "output_type": "stream",
          "name": "stderr",
          "text": [
            "\r 54%|█████▍    | 342/629 [05:24<04:28,  1.07it/s]"
          ]
        },
        {
          "output_type": "stream",
          "name": "stdout",
          "text": [
            "341 :  https://meshb.nlm.nih.gov/record/ui?ui=D017439\n"
          ]
        },
        {
          "output_type": "stream",
          "name": "stderr",
          "text": [
            "\r 55%|█████▍    | 343/629 [05:24<04:27,  1.07it/s]"
          ]
        },
        {
          "output_type": "stream",
          "name": "stdout",
          "text": [
            "342 :  https://meshb.nlm.nih.gov/record/ui?ui=D017565\n"
          ]
        },
        {
          "output_type": "stream",
          "name": "stderr",
          "text": [
            "\r 55%|█████▍    | 344/629 [05:25<04:26,  1.07it/s]"
          ]
        },
        {
          "output_type": "stream",
          "name": "stdout",
          "text": [
            "343 :  https://meshb.nlm.nih.gov/record/ui?ui=D018302\n"
          ]
        },
        {
          "output_type": "stream",
          "name": "stderr",
          "text": [
            "\r 55%|█████▍    | 345/629 [05:27<04:56,  1.04s/it]"
          ]
        },
        {
          "output_type": "stream",
          "name": "stdout",
          "text": [
            "344 :  https://meshb.nlm.nih.gov/record/ui?ui=D017719\n"
          ]
        },
        {
          "output_type": "stream",
          "name": "stderr",
          "text": [
            "\r 55%|█████▌    | 346/629 [05:28<04:46,  1.01s/it]"
          ]
        },
        {
          "output_type": "stream",
          "name": "stdout",
          "text": [
            "345 :  Myocardial%20Ischemic-Reperfusion%20Injury\n"
          ]
        },
        {
          "output_type": "stream",
          "name": "stderr",
          "text": [
            "\r 55%|█████▌    | 347/629 [05:29<04:38,  1.01it/s]"
          ]
        },
        {
          "output_type": "stream",
          "name": "stdout",
          "text": [
            "346 :  Gastric%20Cardia%20Adenocarcinoma\n"
          ]
        },
        {
          "output_type": "stream",
          "name": "stderr",
          "text": [
            "\r 55%|█████▌    | 348/629 [05:30<04:34,  1.02it/s]"
          ]
        },
        {
          "output_type": "stream",
          "name": "stdout",
          "text": [
            "347 :  https://meshb.nlm.nih.gov/record/ui?ui=D014607\n"
          ]
        },
        {
          "output_type": "stream",
          "name": "stderr",
          "text": [
            "\r 55%|█████▌    | 349/629 [05:30<04:30,  1.03it/s]"
          ]
        },
        {
          "output_type": "stream",
          "name": "stdout",
          "text": [
            "348 :  https://meshb.nlm.nih.gov/record/ui?ui=D012829\n"
          ]
        },
        {
          "output_type": "stream",
          "name": "stderr",
          "text": [
            "\r 56%|█████▌    | 350/629 [05:31<04:26,  1.05it/s]"
          ]
        },
        {
          "output_type": "stream",
          "name": "stdout",
          "text": [
            "349 :  https://meshb.nlm.nih.gov/record/ui?ui=D009062\n"
          ]
        },
        {
          "output_type": "stream",
          "name": "stderr",
          "text": [
            "\r 56%|█████▌    | 351/629 [05:32<04:24,  1.05it/s]"
          ]
        },
        {
          "output_type": "stream",
          "name": "stdout",
          "text": [
            "350 :  https://meshb.nlm.nih.gov/record/ui?ui=D001449\n"
          ]
        },
        {
          "output_type": "stream",
          "name": "stderr",
          "text": [
            "\r 56%|█████▌    | 352/629 [05:33<04:21,  1.06it/s]"
          ]
        },
        {
          "output_type": "stream",
          "name": "stdout",
          "text": [
            "351 :  https://meshb.nlm.nih.gov/record/ui?ui=D012509\n"
          ]
        },
        {
          "output_type": "stream",
          "name": "stderr",
          "text": [
            "\r 56%|█████▌    | 353/629 [05:34<04:19,  1.06it/s]"
          ]
        },
        {
          "output_type": "stream",
          "name": "stdout",
          "text": [
            "352 :  Rectum%20Adenocarcinoma\n"
          ]
        },
        {
          "output_type": "stream",
          "name": "stderr",
          "text": [
            "\r 56%|█████▋    | 354/629 [05:35<04:18,  1.07it/s]"
          ]
        },
        {
          "output_type": "stream",
          "name": "stdout",
          "text": [
            "353 :  Liver%20Injury\n"
          ]
        },
        {
          "output_type": "stream",
          "name": "stderr",
          "text": [
            "\r 56%|█████▋    | 355/629 [05:36<04:16,  1.07it/s]"
          ]
        },
        {
          "output_type": "stream",
          "name": "stdout",
          "text": [
            "354 :  Chronic%20Brucellosis\n"
          ]
        },
        {
          "output_type": "stream",
          "name": "stderr",
          "text": [
            "\r 57%|█████▋    | 356/629 [05:37<04:15,  1.07it/s]"
          ]
        },
        {
          "output_type": "stream",
          "name": "stdout",
          "text": [
            "355 :  https://meshb.nlm.nih.gov/record/ui?ui=D001890\n"
          ]
        },
        {
          "output_type": "stream",
          "name": "stderr",
          "text": [
            "\r 57%|█████▋    | 357/629 [05:38<04:14,  1.07it/s]"
          ]
        },
        {
          "output_type": "stream",
          "name": "stdout",
          "text": [
            "356 :  Ischemic%20Diseases\n"
          ]
        },
        {
          "output_type": "stream",
          "name": "stderr",
          "text": [
            "\r 57%|█████▋    | 358/629 [05:39<04:13,  1.07it/s]"
          ]
        },
        {
          "output_type": "stream",
          "name": "stdout",
          "text": [
            "357 :  Carcinoma%2C%20Urothelial\n"
          ]
        },
        {
          "output_type": "stream",
          "name": "stderr",
          "text": [
            "\r 57%|█████▋    | 359/629 [05:40<04:11,  1.07it/s]"
          ]
        },
        {
          "output_type": "stream",
          "name": "stdout",
          "text": [
            "358 :  Polyangiitis\n"
          ]
        },
        {
          "output_type": "stream",
          "name": "stderr",
          "text": [
            "\r 57%|█████▋    | 360/629 [05:41<04:10,  1.07it/s]"
          ]
        },
        {
          "output_type": "stream",
          "name": "stdout",
          "text": [
            "359 :  Reproductive%20System%20Disease\n"
          ]
        },
        {
          "output_type": "stream",
          "name": "stderr",
          "text": [
            "\r 57%|█████▋    | 361/629 [05:42<04:09,  1.07it/s]"
          ]
        },
        {
          "output_type": "stream",
          "name": "stdout",
          "text": [
            "360 :  https://meshb.nlm.nih.gov/record/ui?ui=D004827\n"
          ]
        },
        {
          "output_type": "stream",
          "name": "stderr",
          "text": [
            "\r 58%|█████▊    | 362/629 [05:43<04:08,  1.07it/s]"
          ]
        },
        {
          "output_type": "stream",
          "name": "stdout",
          "text": [
            "361 :  https://meshb.nlm.nih.gov/record/ui?ui=D002532\n"
          ]
        },
        {
          "output_type": "stream",
          "name": "stderr",
          "text": [
            "\r 58%|█████▊    | 363/629 [05:44<04:08,  1.07it/s]"
          ]
        },
        {
          "output_type": "stream",
          "name": "stdout",
          "text": [
            "362 :  https://meshb.nlm.nih.gov/record/ui?ui=D020275\n"
          ]
        },
        {
          "output_type": "stream",
          "name": "stderr",
          "text": [
            "\r 58%|█████▊    | 364/629 [05:44<04:07,  1.07it/s]"
          ]
        },
        {
          "output_type": "stream",
          "name": "stdout",
          "text": [
            "363 :  Peritoneal%20Dialysis%20Failure\n"
          ]
        },
        {
          "output_type": "stream",
          "name": "stderr",
          "text": [
            "\r 58%|█████▊    | 365/629 [05:45<04:07,  1.07it/s]"
          ]
        },
        {
          "output_type": "stream",
          "name": "stdout",
          "text": [
            "364 :  https://meshb.nlm.nih.gov/record/ui?ui=D000083242\n"
          ]
        },
        {
          "output_type": "stream",
          "name": "stderr",
          "text": [
            "\r 58%|█████▊    | 366/629 [05:46<04:06,  1.07it/s]"
          ]
        },
        {
          "output_type": "stream",
          "name": "stdout",
          "text": [
            "365 :  https://meshb.nlm.nih.gov/record/ui?ui=D001014\n"
          ]
        },
        {
          "output_type": "stream",
          "name": "stderr",
          "text": [
            "\r 58%|█████▊    | 367/629 [05:47<04:05,  1.07it/s]"
          ]
        },
        {
          "output_type": "stream",
          "name": "stdout",
          "text": [
            "366 :  https://meshb.nlm.nih.gov/record/ui?ui=D016966\n"
          ]
        },
        {
          "output_type": "stream",
          "name": "stderr",
          "text": [
            "\r 59%|█████▊    | 368/629 [05:48<04:04,  1.07it/s]"
          ]
        },
        {
          "output_type": "stream",
          "name": "stdout",
          "text": [
            "367 :  https://meshb.nlm.nih.gov/record/ui?ui=D008193\n"
          ]
        },
        {
          "output_type": "stream",
          "name": "stderr",
          "text": [
            "\r 59%|█████▊    | 369/629 [05:49<04:03,  1.07it/s]"
          ]
        },
        {
          "output_type": "stream",
          "name": "stdout",
          "text": [
            "368 :  https://meshb.nlm.nih.gov/record/ui?ui=D018266\n"
          ]
        },
        {
          "output_type": "stream",
          "name": "stderr",
          "text": [
            "\r 59%|█████▉    | 370/629 [05:50<04:02,  1.07it/s]"
          ]
        },
        {
          "output_type": "stream",
          "name": "stdout",
          "text": [
            "369 :  Penis%20Carcinoma\n"
          ]
        },
        {
          "output_type": "stream",
          "name": "stderr",
          "text": [
            "\r 59%|█████▉    | 371/629 [05:51<04:01,  1.07it/s]"
          ]
        },
        {
          "output_type": "stream",
          "name": "stdout",
          "text": [
            "370 :  https://meshb.nlm.nih.gov/record/ui?ui=D004719\n"
          ]
        },
        {
          "output_type": "stream",
          "name": "stderr",
          "text": [
            "\r 59%|█████▉    | 372/629 [05:52<04:00,  1.07it/s]"
          ]
        },
        {
          "output_type": "stream",
          "name": "stdout",
          "text": [
            "371 :  https://meshb.nlm.nih.gov/record/ui?ui=D031901\n"
          ]
        },
        {
          "output_type": "stream",
          "name": "stderr",
          "text": [
            "\r 59%|█████▉    | 373/629 [05:53<03:59,  1.07it/s]"
          ]
        },
        {
          "output_type": "stream",
          "name": "stdout",
          "text": [
            "372 :  https://meshb.nlm.nih.gov/record/ui?ui=D014123\n"
          ]
        },
        {
          "output_type": "stream",
          "name": "stderr",
          "text": [
            "\r 59%|█████▉    | 374/629 [05:54<03:58,  1.07it/s]"
          ]
        },
        {
          "output_type": "stream",
          "name": "stdout",
          "text": [
            "373 :  https://meshb.nlm.nih.gov/record/ui?ui=D013945\n"
          ]
        },
        {
          "output_type": "stream",
          "name": "stderr",
          "text": [
            "\r 60%|█████▉    | 375/629 [05:55<03:57,  1.07it/s]"
          ]
        },
        {
          "output_type": "stream",
          "name": "stdout",
          "text": [
            "374 :  Carcinoma%2C%20Tounge\n"
          ]
        },
        {
          "output_type": "stream",
          "name": "stderr",
          "text": [
            "\r 60%|█████▉    | 376/629 [05:56<03:56,  1.07it/s]"
          ]
        },
        {
          "output_type": "stream",
          "name": "stdout",
          "text": [
            "375 :  https://meshb.nlm.nih.gov/record/ui?ui=D054331\n"
          ]
        },
        {
          "output_type": "stream",
          "name": "stderr",
          "text": [
            "\r 60%|█████▉    | 377/629 [05:57<04:09,  1.01it/s]"
          ]
        },
        {
          "output_type": "stream",
          "name": "stdout",
          "text": [
            "376 :  https://meshb.nlm.nih.gov/record/ui?ui=D008413\n"
          ]
        },
        {
          "output_type": "stream",
          "name": "stderr",
          "text": [
            "\r 60%|██████    | 378/629 [05:58<04:04,  1.03it/s]"
          ]
        },
        {
          "output_type": "stream",
          "name": "stdout",
          "text": [
            "377 :  Pancreatic%20Adenocarcinoma\n"
          ]
        },
        {
          "output_type": "stream",
          "name": "stderr",
          "text": [
            "\r 60%|██████    | 379/629 [05:59<04:00,  1.04it/s]"
          ]
        },
        {
          "output_type": "stream",
          "name": "stdout",
          "text": [
            "378 :  Skin%20Hemangioma\n"
          ]
        },
        {
          "output_type": "stream",
          "name": "stderr",
          "text": [
            "\r 60%|██████    | 380/629 [06:00<03:57,  1.05it/s]"
          ]
        },
        {
          "output_type": "stream",
          "name": "stdout",
          "text": [
            "379 :  https://meshb.nlm.nih.gov/record/ui?ui=D000357\n"
          ]
        },
        {
          "output_type": "stream",
          "name": "stderr",
          "text": [
            "\r 61%|██████    | 381/629 [06:01<03:55,  1.05it/s]"
          ]
        },
        {
          "output_type": "stream",
          "name": "stdout",
          "text": [
            "380 :  https://meshb.nlm.nih.gov/record/ui?ui=D018277\n"
          ]
        },
        {
          "output_type": "stream",
          "name": "stderr",
          "text": [
            "\r 61%|██████    | 382/629 [06:01<03:53,  1.06it/s]"
          ]
        },
        {
          "output_type": "stream",
          "name": "stdout",
          "text": [
            "381 :  Vulvar%20Squamous%20Tumor\n"
          ]
        },
        {
          "output_type": "stream",
          "name": "stderr",
          "text": [
            "\r 61%|██████    | 383/629 [06:02<03:51,  1.06it/s]"
          ]
        },
        {
          "output_type": "stream",
          "name": "stdout",
          "text": [
            "382 :  Mitral%20Valve%20Disease\n"
          ]
        },
        {
          "output_type": "stream",
          "name": "stderr",
          "text": [
            "\r 61%|██████    | 384/629 [06:03<03:49,  1.07it/s]"
          ]
        },
        {
          "output_type": "stream",
          "name": "stdout",
          "text": [
            "383 :  Acute%20Peritonitis\n"
          ]
        },
        {
          "output_type": "stream",
          "name": "stderr",
          "text": [
            "\r 61%|██████    | 385/629 [06:04<03:48,  1.07it/s]"
          ]
        },
        {
          "output_type": "stream",
          "name": "stdout",
          "text": [
            "384 :  https://meshb.nlm.nih.gov/record/ui?ui=D010534\n"
          ]
        },
        {
          "output_type": "stream",
          "name": "stderr",
          "text": [
            "\r 61%|██████▏   | 386/629 [06:05<03:52,  1.04it/s]"
          ]
        },
        {
          "output_type": "stream",
          "name": "stdout",
          "text": [
            "385 :  Diabetic%20Peripheral%20Neuropathy\n"
          ]
        },
        {
          "output_type": "stream",
          "name": "stderr",
          "text": [
            "\r 62%|██████▏   | 387/629 [06:06<03:50,  1.05it/s]"
          ]
        },
        {
          "output_type": "stream",
          "name": "stdout",
          "text": [
            "386 :  https://meshb.nlm.nih.gov/record/ui?ui=D010282\n"
          ]
        },
        {
          "output_type": "stream",
          "name": "stderr",
          "text": [
            "\r 62%|██████▏   | 388/629 [06:07<03:47,  1.06it/s]"
          ]
        },
        {
          "output_type": "stream",
          "name": "stdout",
          "text": [
            "387 :  Uterine%20Corpus%20Endometrial%20Carcinoma\n"
          ]
        },
        {
          "output_type": "stream",
          "name": "stderr",
          "text": [
            "\r 62%|██████▏   | 389/629 [06:08<03:46,  1.06it/s]"
          ]
        },
        {
          "output_type": "stream",
          "name": "stdout",
          "text": [
            "388 :  https://meshb.nlm.nih.gov/record/ui?ui=D009373\n"
          ]
        },
        {
          "output_type": "stream",
          "name": "stderr",
          "text": [
            "\r 62%|██████▏   | 390/629 [06:09<03:45,  1.06it/s]"
          ]
        },
        {
          "output_type": "stream",
          "name": "stdout",
          "text": [
            "389 :  Pediatric%20Ependymoma\n"
          ]
        },
        {
          "output_type": "stream",
          "name": "stderr",
          "text": [
            "\r 62%|██████▏   | 391/629 [06:10<03:44,  1.06it/s]"
          ]
        },
        {
          "output_type": "stream",
          "name": "stdout",
          "text": [
            "390 :  https://meshb.nlm.nih.gov/record/ui?ui=D006311\n"
          ]
        },
        {
          "output_type": "stream",
          "name": "stderr",
          "text": [
            "\r 62%|██████▏   | 392/629 [06:11<03:42,  1.06it/s]"
          ]
        },
        {
          "output_type": "stream",
          "name": "stdout",
          "text": [
            "391 :  https://meshb.nlm.nih.gov/record/ui?ui=D008103\n"
          ]
        },
        {
          "output_type": "stream",
          "name": "stderr",
          "text": [
            "\r 62%|██████▏   | 393/629 [06:12<03:41,  1.07it/s]"
          ]
        },
        {
          "output_type": "stream",
          "name": "stdout",
          "text": [
            "392 :  https://meshb.nlm.nih.gov/record/ui?ui=D018303\n"
          ]
        },
        {
          "output_type": "stream",
          "name": "stderr",
          "text": [
            "\r 63%|██████▎   | 394/629 [06:13<03:40,  1.07it/s]"
          ]
        },
        {
          "output_type": "stream",
          "name": "stdout",
          "text": [
            "393 :  https://meshb.nlm.nih.gov/record/ui?ui=D005901\n"
          ]
        },
        {
          "output_type": "stream",
          "name": "stderr",
          "text": [
            "\r 63%|██████▎   | 395/629 [06:14<03:39,  1.07it/s]"
          ]
        },
        {
          "output_type": "stream",
          "name": "stdout",
          "text": [
            "394 :  https://meshb.nlm.nih.gov/record/ui?ui=C537750\n"
          ]
        },
        {
          "output_type": "stream",
          "name": "stderr",
          "text": [
            "\r 63%|██████▎   | 396/629 [06:15<03:38,  1.07it/s]"
          ]
        },
        {
          "output_type": "stream",
          "name": "stdout",
          "text": [
            "395 :  https://meshb.nlm.nih.gov/record/ui?ui=D015208\n"
          ]
        },
        {
          "output_type": "stream",
          "name": "stderr",
          "text": [
            "\r 63%|██████▎   | 397/629 [06:16<03:37,  1.07it/s]"
          ]
        },
        {
          "output_type": "stream",
          "name": "stdout",
          "text": [
            "396 :  https://meshb.nlm.nih.gov/record/ui?ui=D013771\n"
          ]
        },
        {
          "output_type": "stream",
          "name": "stderr",
          "text": [
            "\r 63%|██████▎   | 398/629 [06:17<03:36,  1.07it/s]"
          ]
        },
        {
          "output_type": "stream",
          "name": "stdout",
          "text": [
            "397 :  Carcinoma%2C%20Head%20And%20Neck\n"
          ]
        },
        {
          "output_type": "stream",
          "name": "stderr",
          "text": [
            "\r 63%|██████▎   | 399/629 [06:17<03:35,  1.07it/s]"
          ]
        },
        {
          "output_type": "stream",
          "name": "stdout",
          "text": [
            "398 :  Cardiac%20Myxoma\n"
          ]
        },
        {
          "output_type": "stream",
          "name": "stderr",
          "text": [
            "\r 64%|██████▎   | 400/629 [06:18<03:34,  1.07it/s]"
          ]
        },
        {
          "output_type": "stream",
          "name": "stdout",
          "text": [
            "399 :  Pancreatic%20Endocrine%20Carcinoma\n"
          ]
        },
        {
          "output_type": "stream",
          "name": "stderr",
          "text": [
            "\r 64%|██████▍   | 401/629 [06:19<03:33,  1.07it/s]"
          ]
        },
        {
          "output_type": "stream",
          "name": "stdout",
          "text": [
            "400 :  https://meshb.nlm.nih.gov/record/ui?ui=D011218\n"
          ]
        },
        {
          "output_type": "stream",
          "name": "stderr",
          "text": [
            "\r 64%|██████▍   | 402/629 [06:20<03:32,  1.07it/s]"
          ]
        },
        {
          "output_type": "stream",
          "name": "stdout",
          "text": [
            "401 :  https://meshb.nlm.nih.gov/record/ui?ui=D009394\n"
          ]
        },
        {
          "output_type": "stream",
          "name": "stderr",
          "text": [
            "\r 64%|██████▍   | 403/629 [06:21<03:31,  1.07it/s]"
          ]
        },
        {
          "output_type": "stream",
          "name": "stdout",
          "text": [
            "402 :  https://meshb.nlm.nih.gov/record/ui?ui=D006689\n"
          ]
        },
        {
          "output_type": "stream",
          "name": "stderr",
          "text": [
            "\r 64%|██████▍   | 404/629 [06:22<03:30,  1.07it/s]"
          ]
        },
        {
          "output_type": "stream",
          "name": "stdout",
          "text": [
            "403 :  https://meshb.nlm.nih.gov/record/ui?ui=D015448\n"
          ]
        },
        {
          "output_type": "stream",
          "name": "stderr",
          "text": [
            "\r 64%|██████▍   | 405/629 [06:23<03:29,  1.07it/s]"
          ]
        },
        {
          "output_type": "stream",
          "name": "stdout",
          "text": [
            "404 :  Leukemia-Lymphoma%2C%20Precursor%20B-Cell%20Lymphoblastic\n"
          ]
        },
        {
          "output_type": "stream",
          "name": "stderr",
          "text": [
            "\r 65%|██████▍   | 406/629 [06:24<03:28,  1.07it/s]"
          ]
        },
        {
          "output_type": "stream",
          "name": "stdout",
          "text": [
            "405 :  Breast%20Ductal%20Carcinoma\n"
          ]
        },
        {
          "output_type": "stream",
          "name": "stderr",
          "text": [
            "\r 65%|██████▍   | 407/629 [06:25<03:27,  1.07it/s]"
          ]
        },
        {
          "output_type": "stream",
          "name": "stdout",
          "text": [
            "406 :  https://meshb.nlm.nih.gov/record/ui?ui=D004461\n"
          ]
        },
        {
          "output_type": "stream",
          "name": "stderr",
          "text": [
            "\r 65%|██████▍   | 408/629 [06:26<03:26,  1.07it/s]"
          ]
        },
        {
          "output_type": "stream",
          "name": "stdout",
          "text": [
            "407 :  https://meshb.nlm.nih.gov/record/ui?ui=D002781\n"
          ]
        },
        {
          "output_type": "stream",
          "name": "stderr",
          "text": [
            "\r 65%|██████▌   | 409/629 [06:27<03:38,  1.01it/s]"
          ]
        },
        {
          "output_type": "stream",
          "name": "stdout",
          "text": [
            "408 :  https://meshb.nlm.nih.gov/record/ui?ui=D019337\n"
          ]
        },
        {
          "output_type": "stream",
          "name": "stderr",
          "text": [
            "\r 65%|██████▌   | 410/629 [06:28<03:33,  1.03it/s]"
          ]
        },
        {
          "output_type": "stream",
          "name": "stdout",
          "text": [
            "409 :  https://meshb.nlm.nih.gov/record/ui?ui=D009400\n"
          ]
        },
        {
          "output_type": "stream",
          "name": "stderr",
          "text": [
            "\r 65%|██████▌   | 411/629 [06:29<03:29,  1.04it/s]"
          ]
        },
        {
          "output_type": "stream",
          "name": "stdout",
          "text": [
            "410 :  https://meshb.nlm.nih.gov/record/ui?ui=D012162\n"
          ]
        },
        {
          "output_type": "stream",
          "name": "stderr",
          "text": [
            "\r 66%|██████▌   | 412/629 [06:30<03:27,  1.05it/s]"
          ]
        },
        {
          "output_type": "stream",
          "name": "stdout",
          "text": [
            "411 :  https://meshb.nlm.nih.gov/record/ui?ui=D015456\n"
          ]
        },
        {
          "output_type": "stream",
          "name": "stderr",
          "text": [
            "\r 66%|██████▌   | 413/629 [06:31<03:25,  1.05it/s]"
          ]
        },
        {
          "output_type": "stream",
          "name": "stdout",
          "text": [
            "412 :  https://meshb.nlm.nih.gov/record/ui?ui=D012208\n"
          ]
        },
        {
          "output_type": "stream",
          "name": "stderr",
          "text": [
            "\r 66%|██████▌   | 414/629 [06:32<03:22,  1.06it/s]"
          ]
        },
        {
          "output_type": "stream",
          "name": "stdout",
          "text": [
            "413 :  https://meshb.nlm.nih.gov/record/ui?ui=D052556\n"
          ]
        },
        {
          "output_type": "stream",
          "name": "stderr",
          "text": [
            "\r 66%|██████▌   | 415/629 [06:33<03:21,  1.06it/s]"
          ]
        },
        {
          "output_type": "stream",
          "name": "stdout",
          "text": [
            "414 :  https://meshb.nlm.nih.gov/record/ui?ui=D009442\n"
          ]
        },
        {
          "output_type": "stream",
          "name": "stderr",
          "text": [
            "\r 66%|██████▌   | 416/629 [06:34<03:19,  1.07it/s]"
          ]
        },
        {
          "output_type": "stream",
          "name": "stdout",
          "text": [
            "415 :  https://meshb.nlm.nih.gov/record/ui?ui=D013584\n"
          ]
        },
        {
          "output_type": "stream",
          "name": "stderr",
          "text": [
            "\r 66%|██████▋   | 417/629 [06:34<03:18,  1.07it/s]"
          ]
        },
        {
          "output_type": "stream",
          "name": "stdout",
          "text": [
            "416 :  Sezary%20Disease\n"
          ]
        },
        {
          "output_type": "stream",
          "name": "stderr",
          "text": [
            "\r 66%|██████▋   | 418/629 [06:35<03:18,  1.06it/s]"
          ]
        },
        {
          "output_type": "stream",
          "name": "stdout",
          "text": [
            "417 :  https://meshb.nlm.nih.gov/record/ui?ui=D017093\n"
          ]
        },
        {
          "output_type": "stream",
          "name": "stderr",
          "text": [
            "\r 67%|██████▋   | 419/629 [06:36<03:17,  1.06it/s]"
          ]
        },
        {
          "output_type": "stream",
          "name": "stdout",
          "text": [
            "418 :  Renal%20Fibrosis\n"
          ]
        },
        {
          "output_type": "stream",
          "name": "stderr",
          "text": [
            "\r 67%|██████▋   | 420/629 [06:37<03:16,  1.07it/s]"
          ]
        },
        {
          "output_type": "stream",
          "name": "stdout",
          "text": [
            "419 :  https://meshb.nlm.nih.gov/record/ui?ui=D007951\n"
          ]
        },
        {
          "output_type": "stream",
          "name": "stderr",
          "text": [
            "\r 67%|██████▋   | 421/629 [06:38<03:15,  1.06it/s]"
          ]
        },
        {
          "output_type": "stream",
          "name": "stdout",
          "text": [
            "420 :  https://meshb.nlm.nih.gov/record/ui?ui=D001661\n"
          ]
        },
        {
          "output_type": "stream",
          "name": "stderr",
          "text": [
            "\r 67%|██████▋   | 422/629 [06:39<03:14,  1.07it/s]"
          ]
        },
        {
          "output_type": "stream",
          "name": "stdout",
          "text": [
            "421 :  https://meshb.nlm.nih.gov/record/ui?ui=D002286\n"
          ]
        },
        {
          "output_type": "stream",
          "name": "stderr",
          "text": [
            "\r 67%|██████▋   | 423/629 [06:40<03:12,  1.07it/s]"
          ]
        },
        {
          "output_type": "stream",
          "name": "stdout",
          "text": [
            "422 :  https://meshb.nlm.nih.gov/record/ui?ui=D000505\n"
          ]
        },
        {
          "output_type": "stream",
          "name": "stderr",
          "text": [
            "\r 67%|██████▋   | 424/629 [06:41<03:11,  1.07it/s]"
          ]
        },
        {
          "output_type": "stream",
          "name": "stdout",
          "text": [
            "423 :  https://meshb.nlm.nih.gov/record/ui?ui=D007562\n"
          ]
        },
        {
          "output_type": "stream",
          "name": "stderr",
          "text": [
            "\r 68%|██████▊   | 425/629 [06:42<03:10,  1.07it/s]"
          ]
        },
        {
          "output_type": "stream",
          "name": "stdout",
          "text": [
            "424 :  https://meshb.nlm.nih.gov/record/ui?ui=D016098\n"
          ]
        },
        {
          "output_type": "stream",
          "name": "stderr",
          "text": [
            "\r 68%|██████▊   | 426/629 [06:43<03:09,  1.07it/s]"
          ]
        },
        {
          "output_type": "stream",
          "name": "stdout",
          "text": [
            "425 :  https://meshb.nlm.nih.gov/record/ui?ui=D010673\n"
          ]
        },
        {
          "output_type": "stream",
          "name": "stderr",
          "text": [
            "\r 68%|██████▊   | 427/629 [06:44<03:09,  1.06it/s]"
          ]
        },
        {
          "output_type": "stream",
          "name": "stdout",
          "text": [
            "426 :  https://meshb.nlm.nih.gov/record/ui?ui=D006086\n"
          ]
        },
        {
          "output_type": "stream",
          "name": "stderr",
          "text": [
            "\r 68%|██████▊   | 428/629 [06:45<03:08,  1.06it/s]"
          ]
        },
        {
          "output_type": "stream",
          "name": "stdout",
          "text": [
            "427 :  https://meshb.nlm.nih.gov/record/ui?ui=D018761\n"
          ]
        },
        {
          "output_type": "stream",
          "name": "stderr",
          "text": [
            "\r 68%|██████▊   | 429/629 [06:46<03:08,  1.06it/s]"
          ]
        },
        {
          "output_type": "stream",
          "name": "stdout",
          "text": [
            "428 :  https://meshb.nlm.nih.gov/record/ui?ui=D003711\n"
          ]
        },
        {
          "output_type": "stream",
          "name": "stderr",
          "text": [
            "\r 68%|██████▊   | 430/629 [06:47<03:06,  1.07it/s]"
          ]
        },
        {
          "output_type": "stream",
          "name": "stdout",
          "text": [
            "429 :  https://meshb.nlm.nih.gov/record/ui?ui=D008108\n"
          ]
        },
        {
          "output_type": "stream",
          "name": "stderr",
          "text": [
            "\r 69%|██████▊   | 431/629 [06:48<03:04,  1.07it/s]"
          ]
        },
        {
          "output_type": "stream",
          "name": "stdout",
          "text": [
            "430 :  https://meshb.nlm.nih.gov/record/ui?ui=D057765\n"
          ]
        },
        {
          "output_type": "stream",
          "name": "stderr",
          "text": [
            "\r 69%|██████▊   | 432/629 [06:49<03:04,  1.07it/s]"
          ]
        },
        {
          "output_type": "stream",
          "name": "stdout",
          "text": [
            "431 :  https://meshb.nlm.nih.gov/record/ui?ui=D018278\n"
          ]
        },
        {
          "output_type": "stream",
          "name": "stderr",
          "text": [
            "\r 69%|██████▉   | 433/629 [06:49<03:03,  1.07it/s]"
          ]
        },
        {
          "output_type": "stream",
          "name": "stdout",
          "text": [
            "432 :  https://meshb.nlm.nih.gov/record/ui?ui=D055371\n"
          ]
        },
        {
          "output_type": "stream",
          "name": "stderr",
          "text": [
            "\r 69%|██████▉   | 434/629 [06:50<03:03,  1.07it/s]"
          ]
        },
        {
          "output_type": "stream",
          "name": "stdout",
          "text": [
            "433 :  https://meshb.nlm.nih.gov/record/ui?ui=D018239\n"
          ]
        },
        {
          "output_type": "stream",
          "name": "stderr",
          "text": [
            "\r 69%|██████▉   | 435/629 [06:51<03:01,  1.07it/s]"
          ]
        },
        {
          "output_type": "stream",
          "name": "stdout",
          "text": [
            "434 :  https://meshb.nlm.nih.gov/record/ui?ui=D004941\n"
          ]
        },
        {
          "output_type": "stream",
          "name": "stderr",
          "text": [
            "\r 69%|██████▉   | 436/629 [06:52<03:00,  1.07it/s]"
          ]
        },
        {
          "output_type": "stream",
          "name": "stdout",
          "text": [
            "435 :  https://meshb.nlm.nih.gov/record/ui?ui=D017544\n"
          ]
        },
        {
          "output_type": "stream",
          "name": "stderr",
          "text": [
            "\r 69%|██████▉   | 437/629 [06:53<02:59,  1.07it/s]"
          ]
        },
        {
          "output_type": "stream",
          "name": "stdout",
          "text": [
            "436 :  https://meshb.nlm.nih.gov/record/ui?ui=D013167\n"
          ]
        },
        {
          "output_type": "stream",
          "name": "stderr",
          "text": [
            "\r 70%|██████▉   | 438/629 [06:54<02:58,  1.07it/s]"
          ]
        },
        {
          "output_type": "stream",
          "name": "stdout",
          "text": [
            "437 :  https://meshb.nlm.nih.gov/record/ui?ui=D012555\n"
          ]
        },
        {
          "output_type": "stream",
          "name": "stderr",
          "text": [
            "\r 70%|██████▉   | 439/629 [06:55<02:57,  1.07it/s]"
          ]
        },
        {
          "output_type": "stream",
          "name": "stdout",
          "text": [
            "438 :  Pediatric%20Osteosarcoma\n"
          ]
        },
        {
          "output_type": "stream",
          "name": "stderr",
          "text": [
            "\r 70%|██████▉   | 440/629 [06:56<02:57,  1.07it/s]"
          ]
        },
        {
          "output_type": "stream",
          "name": "stdout",
          "text": [
            "439 :  https://meshb.nlm.nih.gov/record/ui?ui=D012480\n"
          ]
        },
        {
          "output_type": "stream",
          "name": "stderr",
          "text": [
            "\r 70%|███████   | 441/629 [06:57<03:16,  1.04s/it]"
          ]
        },
        {
          "output_type": "stream",
          "name": "stdout",
          "text": [
            "440 :  Pancreatic%20Intraductal%20Papillary%20Mucinous%20Neoplasms\n"
          ]
        },
        {
          "output_type": "stream",
          "name": "stderr",
          "text": [
            "\r 70%|███████   | 442/629 [06:58<03:09,  1.01s/it]"
          ]
        },
        {
          "output_type": "stream",
          "name": "stdout",
          "text": [
            "441 :  https://meshb.nlm.nih.gov/record/ui?ui=D058186\n"
          ]
        },
        {
          "output_type": "stream",
          "name": "stderr",
          "text": [
            "\r 70%|███████   | 443/629 [06:59<03:04,  1.01it/s]"
          ]
        },
        {
          "output_type": "stream",
          "name": "stdout",
          "text": [
            "442 :  https://meshb.nlm.nih.gov/record/ui?ui=D020370\n"
          ]
        },
        {
          "output_type": "stream",
          "name": "stderr",
          "text": [
            "\r 71%|███████   | 444/629 [07:00<03:00,  1.03it/s]"
          ]
        },
        {
          "output_type": "stream",
          "name": "stdout",
          "text": [
            "443 :  Early-Stage%20Breast%20Carcinoma\n"
          ]
        },
        {
          "output_type": "stream",
          "name": "stderr",
          "text": [
            "\r 71%|███████   | 445/629 [07:01<02:57,  1.04it/s]"
          ]
        },
        {
          "output_type": "stream",
          "name": "stdout",
          "text": [
            "444 :  https://meshb.nlm.nih.gov/record/ui?ui=D008268\n"
          ]
        },
        {
          "output_type": "stream",
          "name": "stderr",
          "text": [
            "\r 71%|███████   | 446/629 [07:02<02:55,  1.04it/s]"
          ]
        },
        {
          "output_type": "stream",
          "name": "stdout",
          "text": [
            "445 :  https://meshb.nlm.nih.gov/record/ui?ui=D006521\n"
          ]
        },
        {
          "output_type": "stream",
          "name": "stderr",
          "text": [
            "\r 71%|███████   | 447/629 [07:03<02:53,  1.05it/s]"
          ]
        },
        {
          "output_type": "stream",
          "name": "stdout",
          "text": [
            "446 :  https://meshb.nlm.nih.gov/record/ui?ui=D039682\n"
          ]
        },
        {
          "output_type": "stream",
          "name": "stderr",
          "text": [
            "\r 71%|███████   | 448/629 [07:04<02:51,  1.06it/s]"
          ]
        },
        {
          "output_type": "stream",
          "name": "stdout",
          "text": [
            "447 :  Carcinoma%2C%20Gingival\n"
          ]
        },
        {
          "output_type": "stream",
          "name": "stderr",
          "text": [
            "\r 71%|███████▏  | 449/629 [07:05<02:49,  1.06it/s]"
          ]
        },
        {
          "output_type": "stream",
          "name": "stdout",
          "text": [
            "448 :  https://meshb.nlm.nih.gov/record/ui?ui=D010020\n"
          ]
        },
        {
          "output_type": "stream",
          "name": "stderr",
          "text": [
            "\r 72%|███████▏  | 450/629 [07:06<02:48,  1.06it/s]"
          ]
        },
        {
          "output_type": "stream",
          "name": "stdout",
          "text": [
            "449 :  https://meshb.nlm.nih.gov/record/ui?ui=D010437\n"
          ]
        },
        {
          "output_type": "stream",
          "name": "stderr",
          "text": [
            "\r 72%|███████▏  | 451/629 [07:07<02:46,  1.07it/s]"
          ]
        },
        {
          "output_type": "stream",
          "name": "stdout",
          "text": [
            "450 :  https://meshb.nlm.nih.gov/record/ui?ui=D006943\n"
          ]
        },
        {
          "output_type": "stream",
          "name": "stderr",
          "text": [
            "\r 72%|███████▏  | 452/629 [07:08<02:45,  1.07it/s]"
          ]
        },
        {
          "output_type": "stream",
          "name": "stdout",
          "text": [
            "451 :  https://meshb.nlm.nih.gov/record/ui?ui=D005496\n"
          ]
        },
        {
          "output_type": "stream",
          "name": "stderr",
          "text": [
            "\r 72%|███████▏  | 453/629 [07:09<02:44,  1.07it/s]"
          ]
        },
        {
          "output_type": "stream",
          "name": "stdout",
          "text": [
            "452 :  https://meshb.nlm.nih.gov/record/ui?ui=D002386\n"
          ]
        },
        {
          "output_type": "stream",
          "name": "stderr",
          "text": [
            "\r 72%|███████▏  | 454/629 [07:10<02:43,  1.07it/s]"
          ]
        },
        {
          "output_type": "stream",
          "name": "stdout",
          "text": [
            "453 :  Sebaceous%20Carcinoma\n"
          ]
        },
        {
          "output_type": "stream",
          "name": "stderr",
          "text": [
            "\r 72%|███████▏  | 455/629 [07:10<02:42,  1.07it/s]"
          ]
        },
        {
          "output_type": "stream",
          "name": "stdout",
          "text": [
            "454 :  https://meshb.nlm.nih.gov/record/ui?ui=D015459\n"
          ]
        },
        {
          "output_type": "stream",
          "name": "stderr",
          "text": [
            "\r 72%|███████▏  | 456/629 [07:11<02:42,  1.06it/s]"
          ]
        },
        {
          "output_type": "stream",
          "name": "stdout",
          "text": [
            "455 :  https://meshb.nlm.nih.gov/record/ui?ui=D005776\n"
          ]
        },
        {
          "output_type": "stream",
          "name": "stderr",
          "text": [
            "\r 73%|███████▎  | 457/629 [07:12<02:40,  1.07it/s]"
          ]
        },
        {
          "output_type": "stream",
          "name": "stdout",
          "text": [
            "456 :  Vulvar%20Squamous%20Cell%20Carcinoma\n"
          ]
        },
        {
          "output_type": "stream",
          "name": "stderr",
          "text": [
            "\r 73%|███████▎  | 458/629 [07:13<02:40,  1.07it/s]"
          ]
        },
        {
          "output_type": "stream",
          "name": "stdout",
          "text": [
            "457 :  https://meshb.nlm.nih.gov/record/ui?ui=D012594\n"
          ]
        },
        {
          "output_type": "stream",
          "name": "stderr",
          "text": [
            "\r 73%|███████▎  | 459/629 [07:14<02:39,  1.07it/s]"
          ]
        },
        {
          "output_type": "stream",
          "name": "stdout",
          "text": [
            "458 :  https://meshb.nlm.nih.gov/record/ui?ui=D020258\n"
          ]
        },
        {
          "output_type": "stream",
          "name": "stderr",
          "text": [
            "\r 73%|███████▎  | 460/629 [07:15<02:38,  1.07it/s]"
          ]
        },
        {
          "output_type": "stream",
          "name": "stdout",
          "text": [
            "459 :  https://meshb.nlm.nih.gov/record/ui?ui=D013345\n"
          ]
        },
        {
          "output_type": "stream",
          "name": "stderr",
          "text": [
            "\r 73%|███████▎  | 461/629 [07:16<02:37,  1.07it/s]"
          ]
        },
        {
          "output_type": "stream",
          "name": "stdout",
          "text": [
            "460 :  https://meshb.nlm.nih.gov/record/ui?ui=D020522\n"
          ]
        },
        {
          "output_type": "stream",
          "name": "stderr",
          "text": [
            "\r 73%|███████▎  | 462/629 [07:17<02:36,  1.07it/s]"
          ]
        },
        {
          "output_type": "stream",
          "name": "stdout",
          "text": [
            "461 :  Chronic%20Alcohol-Induced%20Alveolar%20Macrophage%20Dysfunction\n"
          ]
        },
        {
          "output_type": "stream",
          "name": "stderr",
          "text": [
            "\r 74%|███████▎  | 463/629 [07:18<02:35,  1.07it/s]"
          ]
        },
        {
          "output_type": "stream",
          "name": "stdout",
          "text": [
            "462 :  Helicobacter%20pylori%20Infection\n"
          ]
        },
        {
          "output_type": "stream",
          "name": "stderr",
          "text": [
            "\r 74%|███████▍  | 464/629 [07:19<02:34,  1.07it/s]"
          ]
        },
        {
          "output_type": "stream",
          "name": "stdout",
          "text": [
            "463 :  https://meshb.nlm.nih.gov/record/ui?ui=D020925\n"
          ]
        },
        {
          "output_type": "stream",
          "name": "stderr",
          "text": [
            "\r 74%|███████▍  | 465/629 [07:20<02:33,  1.07it/s]"
          ]
        },
        {
          "output_type": "stream",
          "name": "stdout",
          "text": [
            "464 :  https://meshb.nlm.nih.gov/record/ui?ui=D006519\n"
          ]
        },
        {
          "output_type": "stream",
          "name": "stderr",
          "text": [
            "\r 74%|███████▍  | 466/629 [07:21<02:32,  1.07it/s]"
          ]
        },
        {
          "output_type": "stream",
          "name": "stdout",
          "text": [
            "465 :  https://meshb.nlm.nih.gov/record/ui?ui=D010195\n"
          ]
        },
        {
          "output_type": "stream",
          "name": "stderr",
          "text": [
            "\r 74%|███████▍  | 467/629 [07:22<02:31,  1.07it/s]"
          ]
        },
        {
          "output_type": "stream",
          "name": "stdout",
          "text": [
            "466 :  https://meshb.nlm.nih.gov/record/ui?ui=D012771\n"
          ]
        },
        {
          "output_type": "stream",
          "name": "stderr",
          "text": [
            "\r 74%|███████▍  | 468/629 [07:23<02:31,  1.07it/s]"
          ]
        },
        {
          "output_type": "stream",
          "name": "stdout",
          "text": [
            "467 :  Proliferative%20Vitreoretinal%20Disease\n"
          ]
        },
        {
          "output_type": "stream",
          "name": "stderr",
          "text": [
            "\r 75%|███████▍  | 469/629 [07:24<02:30,  1.07it/s]"
          ]
        },
        {
          "output_type": "stream",
          "name": "stdout",
          "text": [
            "468 :  https://meshb.nlm.nih.gov/record/ui?ui=D002545\n"
          ]
        },
        {
          "output_type": "stream",
          "name": "stderr",
          "text": [
            "\r 75%|███████▍  | 470/629 [07:25<02:29,  1.07it/s]"
          ]
        },
        {
          "output_type": "stream",
          "name": "stdout",
          "text": [
            "469 :  https://meshb.nlm.nih.gov/record/ui?ui=D010033\n"
          ]
        },
        {
          "output_type": "stream",
          "name": "stderr",
          "text": [
            "\r 75%|███████▍  | 471/629 [07:25<02:28,  1.07it/s]"
          ]
        },
        {
          "output_type": "stream",
          "name": "stdout",
          "text": [
            "470 :  https://meshb.nlm.nih.gov/record/ui?ui=D012640\n"
          ]
        },
        {
          "output_type": "stream",
          "name": "stderr",
          "text": [
            "\r 75%|███████▌  | 472/629 [07:26<02:27,  1.06it/s]"
          ]
        },
        {
          "output_type": "stream",
          "name": "stdout",
          "text": [
            "471 :  Carcinoma%2C%20Gastrooesophageal\n"
          ]
        },
        {
          "output_type": "stream",
          "name": "stderr",
          "text": [
            "\r 75%|███████▌  | 473/629 [07:27<02:26,  1.07it/s]"
          ]
        },
        {
          "output_type": "stream",
          "name": "stdout",
          "text": [
            "472 :  https://meshb.nlm.nih.gov/record/ui?ui=D002821\n"
          ]
        },
        {
          "output_type": "stream",
          "name": "stderr",
          "text": [
            "\r 75%|███████▌  | 474/629 [07:28<02:33,  1.01it/s]"
          ]
        },
        {
          "output_type": "stream",
          "name": "stdout",
          "text": [
            "473 :  Adenosquamous%20Pancreas%20Carcinoma\n"
          ]
        },
        {
          "output_type": "stream",
          "name": "stderr",
          "text": [
            "\r 76%|███████▌  | 475/629 [07:29<02:30,  1.02it/s]"
          ]
        },
        {
          "output_type": "stream",
          "name": "stdout",
          "text": [
            "474 :  https://meshb.nlm.nih.gov/record/ui?ui=D006330\n"
          ]
        },
        {
          "output_type": "stream",
          "name": "stderr",
          "text": [
            "\r 76%|███████▌  | 476/629 [07:30<02:27,  1.04it/s]"
          ]
        },
        {
          "output_type": "stream",
          "name": "stdout",
          "text": [
            "475 :  Non%20Specific%20Chronic%20Endometritis\n"
          ]
        },
        {
          "output_type": "stream",
          "name": "stderr",
          "text": [
            "\r 76%|███████▌  | 477/629 [07:31<02:25,  1.05it/s]"
          ]
        },
        {
          "output_type": "stream",
          "name": "stdout",
          "text": [
            "476 :  Adenocarcinoma%2C%20Ampullary\n"
          ]
        },
        {
          "output_type": "stream",
          "name": "stderr",
          "text": [
            "\r 76%|███████▌  | 478/629 [07:32<02:23,  1.05it/s]"
          ]
        },
        {
          "output_type": "stream",
          "name": "stdout",
          "text": [
            "477 :  https://meshb.nlm.nih.gov/record/ui?ui=D005600\n"
          ]
        },
        {
          "output_type": "stream",
          "name": "stderr",
          "text": [
            "\r 76%|███████▌  | 479/629 [07:33<02:22,  1.06it/s]"
          ]
        },
        {
          "output_type": "stream",
          "name": "stdout",
          "text": [
            "478 :  https://meshb.nlm.nih.gov/record/ui?ui=D008177\n"
          ]
        },
        {
          "output_type": "stream",
          "name": "stderr",
          "text": [
            "\r 76%|███████▋  | 480/629 [07:34<02:20,  1.06it/s]"
          ]
        },
        {
          "output_type": "stream",
          "name": "stdout",
          "text": [
            "479 :  https://meshb.nlm.nih.gov/record/ui?ui=D015466\n"
          ]
        },
        {
          "output_type": "stream",
          "name": "stderr",
          "text": [
            "\r 76%|███████▋  | 481/629 [07:35<02:19,  1.06it/s]"
          ]
        },
        {
          "output_type": "stream",
          "name": "stdout",
          "text": [
            "480 :  https://meshb.nlm.nih.gov/record/ui?ui=D008380\n"
          ]
        },
        {
          "output_type": "stream",
          "name": "stderr",
          "text": [
            "\r 77%|███████▋  | 482/629 [07:36<02:18,  1.06it/s]"
          ]
        },
        {
          "output_type": "stream",
          "name": "stdout",
          "text": [
            "481 :  https://meshb.nlm.nih.gov/record/ui?ui=D002659\n"
          ]
        },
        {
          "output_type": "stream",
          "name": "stderr",
          "text": [
            "\r 77%|███████▋  | 483/629 [07:37<02:17,  1.07it/s]"
          ]
        },
        {
          "output_type": "stream",
          "name": "stdout",
          "text": [
            "482 :  https://meshb.nlm.nih.gov/record/ui?ui=D017728\n"
          ]
        },
        {
          "output_type": "stream",
          "name": "stderr",
          "text": [
            "\r 77%|███████▋  | 484/629 [07:38<02:15,  1.07it/s]"
          ]
        },
        {
          "output_type": "stream",
          "name": "stdout",
          "text": [
            "483 :  https://meshb.nlm.nih.gov/record/ui?ui=D006391\n"
          ]
        },
        {
          "output_type": "stream",
          "name": "stderr",
          "text": [
            "\r 77%|███████▋  | 485/629 [07:39<02:14,  1.07it/s]"
          ]
        },
        {
          "output_type": "stream",
          "name": "stdout",
          "text": [
            "484 :  https://meshb.nlm.nih.gov/record/ui?ui=D006111\n"
          ]
        },
        {
          "output_type": "stream",
          "name": "stderr",
          "text": [
            "\r 77%|███████▋  | 486/629 [07:40<02:13,  1.07it/s]"
          ]
        },
        {
          "output_type": "stream",
          "name": "stdout",
          "text": [
            "485 :  https://meshb.nlm.nih.gov/record/ui?ui=C537358\n"
          ]
        },
        {
          "output_type": "stream",
          "name": "stderr",
          "text": [
            "\r 77%|███████▋  | 487/629 [07:41<02:13,  1.07it/s]"
          ]
        },
        {
          "output_type": "stream",
          "name": "stdout",
          "text": [
            "486 :  Acute%20Cerebral%20Infarction\n"
          ]
        },
        {
          "output_type": "stream",
          "name": "stderr",
          "text": [
            "\r 78%|███████▊  | 488/629 [07:42<02:12,  1.07it/s]"
          ]
        },
        {
          "output_type": "stream",
          "name": "stdout",
          "text": [
            "487 :  https://meshb.nlm.nih.gov/record/ui?ui=D016649\n"
          ]
        },
        {
          "output_type": "stream",
          "name": "stderr",
          "text": [
            "\r 78%|███████▊  | 489/629 [07:42<02:11,  1.07it/s]"
          ]
        },
        {
          "output_type": "stream",
          "name": "stdout",
          "text": [
            "488 :  https://meshb.nlm.nih.gov/record/ui?ui=D001145\n"
          ]
        },
        {
          "output_type": "stream",
          "name": "stderr",
          "text": [
            "\r 78%|███████▊  | 490/629 [07:43<02:10,  1.07it/s]"
          ]
        },
        {
          "output_type": "stream",
          "name": "stdout",
          "text": [
            "489 :  Plasmodium%20vivax%20Infection\n"
          ]
        },
        {
          "output_type": "stream",
          "name": "stderr",
          "text": [
            "\r 78%|███████▊  | 491/629 [07:44<02:08,  1.07it/s]"
          ]
        },
        {
          "output_type": "stream",
          "name": "stdout",
          "text": [
            "490 :  Dengue%20Virus%20Infection\n"
          ]
        },
        {
          "output_type": "stream",
          "name": "stderr",
          "text": [
            "\r 78%|███████▊  | 492/629 [07:45<02:08,  1.07it/s]"
          ]
        },
        {
          "output_type": "stream",
          "name": "stdout",
          "text": [
            "491 :  Acute%20Heart%20Failure\n"
          ]
        },
        {
          "output_type": "stream",
          "name": "stderr",
          "text": [
            "\r 78%|███████▊  | 493/629 [07:46<02:07,  1.07it/s]"
          ]
        },
        {
          "output_type": "stream",
          "name": "stdout",
          "text": [
            "492 :  https://meshb.nlm.nih.gov/record/ui?ui=D025241\n"
          ]
        },
        {
          "output_type": "stream",
          "name": "stderr",
          "text": [
            "\r 79%|███████▊  | 494/629 [07:47<02:06,  1.07it/s]"
          ]
        },
        {
          "output_type": "stream",
          "name": "stdout",
          "text": [
            "493 :  Leukemia%2C%20Myeloid%2C%20Acute%2C%20Pediatric\n"
          ]
        },
        {
          "output_type": "stream",
          "name": "stderr",
          "text": [
            "\r 79%|███████▊  | 495/629 [07:48<02:05,  1.07it/s]"
          ]
        },
        {
          "output_type": "stream",
          "name": "stdout",
          "text": [
            "494 :  https://meshb.nlm.nih.gov/record/ui?ui=D001008\n"
          ]
        },
        {
          "output_type": "stream",
          "name": "stderr",
          "text": [
            "\r 79%|███████▉  | 496/629 [07:49<02:04,  1.07it/s]"
          ]
        },
        {
          "output_type": "stream",
          "name": "stdout",
          "text": [
            "495 :  https://meshb.nlm.nih.gov/record/ui?ui=D002340\n"
          ]
        },
        {
          "output_type": "stream",
          "name": "stderr",
          "text": [
            "\r 79%|███████▉  | 497/629 [07:50<02:03,  1.07it/s]"
          ]
        },
        {
          "output_type": "stream",
          "name": "stdout",
          "text": [
            "496 :  https://meshb.nlm.nih.gov/record/ui?ui=D000083242\n"
          ]
        },
        {
          "output_type": "stream",
          "name": "stderr",
          "text": [
            "\r 79%|███████▉  | 498/629 [07:51<02:02,  1.07it/s]"
          ]
        },
        {
          "output_type": "stream",
          "name": "stdout",
          "text": [
            "497 :  https://meshb.nlm.nih.gov/record/ui?ui=D000082862\n"
          ]
        },
        {
          "output_type": "stream",
          "name": "stderr",
          "text": [
            "\r 79%|███████▉  | 499/629 [07:52<02:02,  1.06it/s]"
          ]
        },
        {
          "output_type": "stream",
          "name": "stdout",
          "text": [
            "498 :  Leukemia%2C%20Lymphoblastic%2C%20Acute%2C%20Childhood\n"
          ]
        },
        {
          "output_type": "stream",
          "name": "stderr",
          "text": [
            "\r 79%|███████▉  | 500/629 [07:53<02:01,  1.06it/s]"
          ]
        },
        {
          "output_type": "stream",
          "name": "stdout",
          "text": [
            "499 :  https://meshb.nlm.nih.gov/record/ui?ui=D054198\n"
          ]
        },
        {
          "output_type": "stream",
          "name": "stderr",
          "text": [
            "\r 80%|███████▉  | 501/629 [07:54<02:00,  1.06it/s]"
          ]
        },
        {
          "output_type": "stream",
          "name": "stdout",
          "text": [
            "500 :  https://meshb.nlm.nih.gov/record/ui?ui=D057180\n"
          ]
        },
        {
          "output_type": "stream",
          "name": "stderr",
          "text": [
            "\r 80%|███████▉  | 502/629 [07:55<01:59,  1.06it/s]"
          ]
        },
        {
          "output_type": "stream",
          "name": "stdout",
          "text": [
            "501 :  https://meshb.nlm.nih.gov/record/ui?ui=D010505\n"
          ]
        },
        {
          "output_type": "stream",
          "name": "stderr",
          "text": [
            "\r 80%|███████▉  | 503/629 [07:56<01:58,  1.07it/s]"
          ]
        },
        {
          "output_type": "stream",
          "name": "stdout",
          "text": [
            "502 :  https://meshb.nlm.nih.gov/record/ui?ui=D001168\n"
          ]
        },
        {
          "output_type": "stream",
          "name": "stderr",
          "text": [
            "\r 80%|████████  | 504/629 [07:57<01:57,  1.06it/s]"
          ]
        },
        {
          "output_type": "stream",
          "name": "stdout",
          "text": [
            "503 :  https://meshb.nlm.nih.gov/record/ui?ui=D000740\n"
          ]
        },
        {
          "output_type": "stream",
          "name": "stderr",
          "text": [
            "\r 80%|████████  | 505/629 [07:58<01:58,  1.04it/s]"
          ]
        },
        {
          "output_type": "stream",
          "name": "stdout",
          "text": [
            "504 :  Hyperactivity%20Disorder\n"
          ]
        },
        {
          "output_type": "stream",
          "name": "stderr",
          "text": [
            "\r 80%|████████  | 506/629 [07:59<02:17,  1.12s/it]"
          ]
        },
        {
          "output_type": "stream",
          "name": "stdout",
          "text": [
            "505 :  https://meshb.nlm.nih.gov/record/ui?ui=D006331\n"
          ]
        },
        {
          "output_type": "stream",
          "name": "stderr",
          "text": [
            "\r 81%|████████  | 507/629 [08:00<02:09,  1.06s/it]"
          ]
        },
        {
          "output_type": "stream",
          "name": "stdout",
          "text": [
            "506 :  https://meshb.nlm.nih.gov/record/ui?ui=D024821\n"
          ]
        },
        {
          "output_type": "stream",
          "name": "stderr",
          "text": [
            "\r 81%|████████  | 508/629 [08:01<02:03,  1.02s/it]"
          ]
        },
        {
          "output_type": "stream",
          "name": "stdout",
          "text": [
            "507 :  Leukemia%2C%20Acute\n"
          ]
        },
        {
          "output_type": "stream",
          "name": "stderr",
          "text": [
            "\r 81%|████████  | 509/629 [08:02<01:59,  1.00it/s]"
          ]
        },
        {
          "output_type": "stream",
          "name": "stdout",
          "text": [
            "508 :  https://meshb.nlm.nih.gov/record/ui?ui=D020388\n"
          ]
        },
        {
          "output_type": "stream",
          "name": "stderr",
          "text": [
            "\r 81%|████████  | 510/629 [08:03<01:56,  1.02it/s]"
          ]
        },
        {
          "output_type": "stream",
          "name": "stdout",
          "text": [
            "509 :  Acute%20Cerebral%20Ischemia\n"
          ]
        },
        {
          "output_type": "stream",
          "name": "stderr",
          "text": [
            "\r 81%|████████  | 511/629 [08:04<01:53,  1.04it/s]"
          ]
        },
        {
          "output_type": "stream",
          "name": "stdout",
          "text": [
            "510 :  https://meshb.nlm.nih.gov/record/ui?ui=D018212\n"
          ]
        },
        {
          "output_type": "stream",
          "name": "stderr",
          "text": [
            "\r 81%|████████▏ | 512/629 [08:05<01:51,  1.05it/s]"
          ]
        },
        {
          "output_type": "stream",
          "name": "stdout",
          "text": [
            "511 :  https://meshb.nlm.nih.gov/record/ui?ui=D008171\n"
          ]
        },
        {
          "output_type": "stream",
          "name": "stderr",
          "text": [
            "\r 82%|████████▏ | 513/629 [08:06<01:50,  1.05it/s]"
          ]
        },
        {
          "output_type": "stream",
          "name": "stdout",
          "text": [
            "512 :  https://meshb.nlm.nih.gov/record/ui?ui=D017827\n"
          ]
        },
        {
          "output_type": "stream",
          "name": "stderr",
          "text": [
            "\r 82%|████████▏ | 514/629 [08:07<01:49,  1.05it/s]"
          ]
        },
        {
          "output_type": "stream",
          "name": "stdout",
          "text": [
            "513 :  Ovary%20Mixed%20Epithelial%20Carcinoma\n"
          ]
        },
        {
          "output_type": "stream",
          "name": "stderr",
          "text": [
            "\r 82%|████████▏ | 515/629 [08:07<01:47,  1.06it/s]"
          ]
        },
        {
          "output_type": "stream",
          "name": "stdout",
          "text": [
            "514 :  https://meshb.nlm.nih.gov/record/ui?ui=D016491\n"
          ]
        },
        {
          "output_type": "stream",
          "name": "stderr",
          "text": [
            "\r 82%|████████▏ | 516/629 [08:08<01:46,  1.06it/s]"
          ]
        },
        {
          "output_type": "stream",
          "name": "stdout",
          "text": [
            "515 :  Hereditary%20Breast%20Carcinoma\n"
          ]
        },
        {
          "output_type": "stream",
          "name": "stderr",
          "text": [
            "\r 82%|████████▏ | 517/629 [08:09<01:45,  1.06it/s]"
          ]
        },
        {
          "output_type": "stream",
          "name": "stdout",
          "text": [
            "516 :  https://meshb.nlm.nih.gov/record/ui?ui=D017359\n"
          ]
        },
        {
          "output_type": "stream",
          "name": "stderr",
          "text": [
            "\r 82%|████████▏ | 518/629 [08:10<01:44,  1.07it/s]"
          ]
        },
        {
          "output_type": "stream",
          "name": "stdout",
          "text": [
            "517 :  https://meshb.nlm.nih.gov/record/ui?ui=D060825\n"
          ]
        },
        {
          "output_type": "stream",
          "name": "stderr",
          "text": [
            "\r 83%|████████▎ | 519/629 [08:11<01:43,  1.07it/s]"
          ]
        },
        {
          "output_type": "stream",
          "name": "stdout",
          "text": [
            "518 :  https://meshb.nlm.nih.gov/record/ui?ui=D016553\n"
          ]
        },
        {
          "output_type": "stream",
          "name": "stderr",
          "text": [
            "\r 83%|████████▎ | 520/629 [08:12<01:42,  1.07it/s]"
          ]
        },
        {
          "output_type": "stream",
          "name": "stdout",
          "text": [
            "519 :  Early-Stage%20Non-Small-Cell%20Lung%20Carcinoma\n"
          ]
        },
        {
          "output_type": "stream",
          "name": "stderr",
          "text": [
            "\r 83%|████████▎ | 521/629 [08:13<01:41,  1.07it/s]"
          ]
        },
        {
          "output_type": "stream",
          "name": "stdout",
          "text": [
            "520 :  Early-Stage%20Lung%20Carcinoma\n"
          ]
        },
        {
          "output_type": "stream",
          "name": "stderr",
          "text": [
            "\r 83%|████████▎ | 522/629 [08:14<01:40,  1.07it/s]"
          ]
        },
        {
          "output_type": "stream",
          "name": "stdout",
          "text": [
            "521 :  Non-Neoplastic%20Diseases\n"
          ]
        },
        {
          "output_type": "stream",
          "name": "stderr",
          "text": [
            "\r 83%|████████▎ | 523/629 [08:15<01:39,  1.07it/s]"
          ]
        },
        {
          "output_type": "stream",
          "name": "stdout",
          "text": [
            "522 :  https://meshb.nlm.nih.gov/record/ui?ui=D007251\n"
          ]
        },
        {
          "output_type": "stream",
          "name": "stderr",
          "text": [
            "\r 83%|████████▎ | 524/629 [08:16<01:38,  1.07it/s]"
          ]
        },
        {
          "output_type": "stream",
          "name": "stdout",
          "text": [
            "523 :  https://meshb.nlm.nih.gov/record/ui?ui=D005923\n"
          ]
        },
        {
          "output_type": "stream",
          "name": "stderr",
          "text": [
            "\r 83%|████████▎ | 525/629 [08:17<01:37,  1.07it/s]"
          ]
        },
        {
          "output_type": "stream",
          "name": "stdout",
          "text": [
            "524 :  Proliferative%20Diabetic%20Retinopathy\n"
          ]
        },
        {
          "output_type": "stream",
          "name": "stderr",
          "text": [
            "\r 84%|████████▎ | 526/629 [08:18<01:36,  1.07it/s]"
          ]
        },
        {
          "output_type": "stream",
          "name": "stdout",
          "text": [
            "525 :  https://meshb.nlm.nih.gov/record/ui?ui=D008258\n"
          ]
        },
        {
          "output_type": "stream",
          "name": "stderr",
          "text": [
            "\r 84%|████████▍ | 527/629 [08:19<01:35,  1.07it/s]"
          ]
        },
        {
          "output_type": "stream",
          "name": "stdout",
          "text": [
            "526 :  https://meshb.nlm.nih.gov/record/ui?ui=D011236\n"
          ]
        },
        {
          "output_type": "stream",
          "name": "stderr",
          "text": [
            "\r 84%|████████▍ | 528/629 [08:20<01:34,  1.07it/s]"
          ]
        },
        {
          "output_type": "stream",
          "name": "stdout",
          "text": [
            "527 :  https://meshb.nlm.nih.gov/record/ui?ui=D000789\n"
          ]
        },
        {
          "output_type": "stream",
          "name": "stderr",
          "text": [
            "\r 84%|████████▍ | 529/629 [08:21<01:33,  1.07it/s]"
          ]
        },
        {
          "output_type": "stream",
          "name": "stdout",
          "text": [
            "528 :  Carcinoma%2C%20Biliary%20Tract\n"
          ]
        },
        {
          "output_type": "stream",
          "name": "stderr",
          "text": [
            "\r 84%|████████▍ | 530/629 [08:22<01:32,  1.07it/s]"
          ]
        },
        {
          "output_type": "stream",
          "name": "stdout",
          "text": [
            "529 :  Allergic%20Asthma\n"
          ]
        },
        {
          "output_type": "stream",
          "name": "stderr",
          "text": [
            "\r 84%|████████▍ | 531/629 [08:22<01:31,  1.07it/s]"
          ]
        },
        {
          "output_type": "stream",
          "name": "stdout",
          "text": [
            "530 :  https://meshb.nlm.nih.gov/record/ui?ui=D054058\n"
          ]
        },
        {
          "output_type": "stream",
          "name": "stderr",
          "text": [
            "\r 85%|████████▍ | 532/629 [08:23<01:30,  1.07it/s]"
          ]
        },
        {
          "output_type": "stream",
          "name": "stdout",
          "text": [
            "531 :  Carcinoma%2C%20Gallbladder\n"
          ]
        },
        {
          "output_type": "stream",
          "name": "stderr",
          "text": [
            "\r 85%|████████▍ | 533/629 [08:24<01:30,  1.07it/s]"
          ]
        },
        {
          "output_type": "stream",
          "name": "stdout",
          "text": [
            "532 :  https://meshb.nlm.nih.gov/record/ui?ui=D001927\n"
          ]
        },
        {
          "output_type": "stream",
          "name": "stderr",
          "text": [
            "\r 85%|████████▍ | 534/629 [08:25<01:29,  1.07it/s]"
          ]
        },
        {
          "output_type": "stream",
          "name": "stdout",
          "text": [
            "533 :  https://meshb.nlm.nih.gov/record/ui?ui=D014657\n"
          ]
        },
        {
          "output_type": "stream",
          "name": "stderr",
          "text": [
            "\r 85%|████████▌ | 535/629 [08:26<01:28,  1.07it/s]"
          ]
        },
        {
          "output_type": "stream",
          "name": "stdout",
          "text": [
            "534 :  https://meshb.nlm.nih.gov/record/ui?ui=D014376\n"
          ]
        },
        {
          "output_type": "stream",
          "name": "stderr",
          "text": [
            "\r 85%|████████▌ | 536/629 [08:27<01:27,  1.07it/s]"
          ]
        },
        {
          "output_type": "stream",
          "name": "stdout",
          "text": [
            "535 :  https://meshb.nlm.nih.gov/record/ui?ui=D003324\n"
          ]
        },
        {
          "output_type": "stream",
          "name": "stderr",
          "text": [
            "\r 85%|████████▌ | 537/629 [08:28<01:26,  1.07it/s]"
          ]
        },
        {
          "output_type": "stream",
          "name": "stdout",
          "text": [
            "536 :  Carcinoma%2C%20Hepatocellular%2C%20HCV-Related\n"
          ]
        },
        {
          "output_type": "stream",
          "name": "stderr",
          "text": [
            "\r 86%|████████▌ | 538/629 [08:29<01:30,  1.01it/s]"
          ]
        },
        {
          "output_type": "stream",
          "name": "stdout",
          "text": [
            "537 :  https://meshb.nlm.nih.gov/record/ui?ui=D000075222\n"
          ]
        },
        {
          "output_type": "stream",
          "name": "stderr",
          "text": [
            "\r 86%|████████▌ | 539/629 [08:30<01:27,  1.03it/s]"
          ]
        },
        {
          "output_type": "stream",
          "name": "stdout",
          "text": [
            "538 :  https://meshb.nlm.nih.gov/record/ui?ui=D006394\n"
          ]
        },
        {
          "output_type": "stream",
          "name": "stderr",
          "text": [
            "\r 86%|████████▌ | 540/629 [08:31<01:25,  1.04it/s]"
          ]
        },
        {
          "output_type": "stream",
          "name": "stdout",
          "text": [
            "539 :  https://meshb.nlm.nih.gov/record/ui?ui=D012214\n"
          ]
        },
        {
          "output_type": "stream",
          "name": "stderr",
          "text": [
            "\r 86%|████████▌ | 541/629 [08:32<01:23,  1.05it/s]"
          ]
        },
        {
          "output_type": "stream",
          "name": "stdout",
          "text": [
            "540 :  https://meshb.nlm.nih.gov/record/ui?ui=D003865\n"
          ]
        },
        {
          "output_type": "stream",
          "name": "stderr",
          "text": [
            "\r 86%|████████▌ | 542/629 [08:33<01:22,  1.05it/s]"
          ]
        },
        {
          "output_type": "stream",
          "name": "stdout",
          "text": [
            "541 :  Inherited%20Hemoglobin%20Disease\n"
          ]
        },
        {
          "output_type": "stream",
          "name": "stderr",
          "text": [
            "\r 86%|████████▋ | 543/629 [08:34<01:21,  1.06it/s]"
          ]
        },
        {
          "output_type": "stream",
          "name": "stdout",
          "text": [
            "542 :  Myotonic%20Dystrophy%20Type%201\n"
          ]
        },
        {
          "output_type": "stream",
          "name": "stderr",
          "text": [
            "\r 86%|████████▋ | 544/629 [08:35<01:20,  1.06it/s]"
          ]
        },
        {
          "output_type": "stream",
          "name": "stdout",
          "text": [
            "543 :  https://meshb.nlm.nih.gov/record/ui?ui=D056735\n"
          ]
        },
        {
          "output_type": "stream",
          "name": "stderr",
          "text": [
            "\r 87%|████████▋ | 545/629 [08:36<01:18,  1.06it/s]"
          ]
        },
        {
          "output_type": "stream",
          "name": "stdout",
          "text": [
            "544 :  Idiopathic%20Asthenospermia\n"
          ]
        },
        {
          "output_type": "stream",
          "name": "stderr",
          "text": [
            "\r 87%|████████▋ | 546/629 [08:37<01:17,  1.07it/s]"
          ]
        },
        {
          "output_type": "stream",
          "name": "stdout",
          "text": [
            "545 :  https://meshb.nlm.nih.gov/record/ui?ui=D000741\n"
          ]
        },
        {
          "output_type": "stream",
          "name": "stderr",
          "text": [
            "\r 87%|████████▋ | 547/629 [08:38<01:16,  1.07it/s]"
          ]
        },
        {
          "output_type": "stream",
          "name": "stdout",
          "text": [
            "546 :  https://meshb.nlm.nih.gov/record/ui?ui=D008268\n"
          ]
        },
        {
          "output_type": "stream",
          "name": "stderr",
          "text": [
            "\r 87%|████████▋ | 548/629 [08:39<01:15,  1.07it/s]"
          ]
        },
        {
          "output_type": "stream",
          "name": "stdout",
          "text": [
            "547 :  Lofgren%20Syndrome\n"
          ]
        },
        {
          "output_type": "stream",
          "name": "stderr",
          "text": [
            "\r 87%|████████▋ | 549/629 [08:39<01:14,  1.07it/s]"
          ]
        },
        {
          "output_type": "stream",
          "name": "stdout",
          "text": [
            "548 :  Kidney%20Injury\n"
          ]
        },
        {
          "output_type": "stream",
          "name": "stderr",
          "text": [
            "\r 87%|████████▋ | 550/629 [08:40<01:13,  1.07it/s]"
          ]
        },
        {
          "output_type": "stream",
          "name": "stdout",
          "text": [
            "549 :  https://meshb.nlm.nih.gov/record/ui?ui=D051474\n"
          ]
        },
        {
          "output_type": "stream",
          "name": "stderr",
          "text": [
            "\r 88%|████████▊ | 551/629 [08:41<01:13,  1.07it/s]"
          ]
        },
        {
          "output_type": "stream",
          "name": "stdout",
          "text": [
            "550 :  https://meshb.nlm.nih.gov/record/ui?ui=D005536\n"
          ]
        },
        {
          "output_type": "stream",
          "name": "stderr",
          "text": [
            "\r 88%|████████▊ | 552/629 [08:42<01:12,  1.07it/s]"
          ]
        },
        {
          "output_type": "stream",
          "name": "stdout",
          "text": [
            "551 :  https://meshb.nlm.nih.gov/record/ui?ui=D020138\n"
          ]
        },
        {
          "output_type": "stream",
          "name": "stderr",
          "text": [
            "\r 88%|████████▊ | 553/629 [08:43<01:11,  1.07it/s]"
          ]
        },
        {
          "output_type": "stream",
          "name": "stdout",
          "text": [
            "552 :  https://meshb.nlm.nih.gov/record/ui?ui=D006952\n"
          ]
        },
        {
          "output_type": "stream",
          "name": "stderr",
          "text": [
            "\r 88%|████████▊ | 554/629 [08:44<01:10,  1.07it/s]"
          ]
        },
        {
          "output_type": "stream",
          "name": "stdout",
          "text": [
            "553 :  https://meshb.nlm.nih.gov/record/ui?ui=D010523\n"
          ]
        },
        {
          "output_type": "stream",
          "name": "stderr",
          "text": [
            "\r 88%|████████▊ | 555/629 [08:45<01:09,  1.07it/s]"
          ]
        },
        {
          "output_type": "stream",
          "name": "stdout",
          "text": [
            "554 :  https://meshb.nlm.nih.gov/record/ui?ui=D002446\n"
          ]
        },
        {
          "output_type": "stream",
          "name": "stderr",
          "text": [
            "\r 88%|████████▊ | 556/629 [08:46<01:08,  1.06it/s]"
          ]
        },
        {
          "output_type": "stream",
          "name": "stdout",
          "text": [
            "555 :  https://meshb.nlm.nih.gov/record/ui?ui=D002295\n"
          ]
        },
        {
          "output_type": "stream",
          "name": "stderr",
          "text": [
            "\r 89%|████████▊ | 557/629 [08:47<01:07,  1.07it/s]"
          ]
        },
        {
          "output_type": "stream",
          "name": "stdout",
          "text": [
            "556 :  Crohn%20Colitis\n"
          ]
        },
        {
          "output_type": "stream",
          "name": "stderr",
          "text": [
            "\r 89%|████████▊ | 558/629 [08:48<01:06,  1.07it/s]"
          ]
        },
        {
          "output_type": "stream",
          "name": "stdout",
          "text": [
            "557 :  https://meshb.nlm.nih.gov/record/ui?ui=D000082882\n"
          ]
        },
        {
          "output_type": "stream",
          "name": "stderr",
          "text": [
            "\r 89%|████████▉ | 559/629 [08:49<01:05,  1.07it/s]"
          ]
        },
        {
          "output_type": "stream",
          "name": "stdout",
          "text": [
            "558 :  https://meshb.nlm.nih.gov/record/ui?ui=D005621\n"
          ]
        },
        {
          "output_type": "stream",
          "name": "stderr",
          "text": [
            "\r 89%|████████▉ | 560/629 [08:50<01:04,  1.07it/s]"
          ]
        },
        {
          "output_type": "stream",
          "name": "stdout",
          "text": [
            "559 :  https://meshb.nlm.nih.gov/record/ui?ui=D003704\n"
          ]
        },
        {
          "output_type": "stream",
          "name": "stderr",
          "text": [
            "\r 89%|████████▉ | 561/629 [08:51<01:03,  1.07it/s]"
          ]
        },
        {
          "output_type": "stream",
          "name": "stdout",
          "text": [
            "560 :  https://meshb.nlm.nih.gov/record/ui?ui=D014355\n"
          ]
        },
        {
          "output_type": "stream",
          "name": "stderr",
          "text": [
            "\r 89%|████████▉ | 562/629 [08:52<01:02,  1.07it/s]"
          ]
        },
        {
          "output_type": "stream",
          "name": "stdout",
          "text": [
            "561 :  Proliferative%20Glomerulonephritis\n"
          ]
        },
        {
          "output_type": "stream",
          "name": "stderr",
          "text": [
            "\r 90%|████████▉ | 563/629 [08:53<01:01,  1.07it/s]"
          ]
        },
        {
          "output_type": "stream",
          "name": "stdout",
          "text": [
            "562 :  https://meshb.nlm.nih.gov/record/ui?ui=D003930\n"
          ]
        },
        {
          "output_type": "stream",
          "name": "stderr",
          "text": [
            "\r 90%|████████▉ | 564/629 [08:54<01:00,  1.07it/s]"
          ]
        },
        {
          "output_type": "stream",
          "name": "stdout",
          "text": [
            "563 :  https://meshb.nlm.nih.gov/record/ui?ui=D014594\n"
          ]
        },
        {
          "output_type": "stream",
          "name": "stderr",
          "text": [
            "\r 90%|████████▉ | 565/629 [08:54<00:59,  1.07it/s]"
          ]
        },
        {
          "output_type": "stream",
          "name": "stdout",
          "text": [
            "564 :  https://meshb.nlm.nih.gov/record/ui?ui=D015209\n"
          ]
        },
        {
          "output_type": "stream",
          "name": "stderr",
          "text": [
            "\r 90%|████████▉ | 566/629 [08:55<00:58,  1.07it/s]"
          ]
        },
        {
          "output_type": "stream",
          "name": "stdout",
          "text": [
            "565 :  https://meshb.nlm.nih.gov/record/ui?ui=D003550\n"
          ]
        },
        {
          "output_type": "stream",
          "name": "stderr",
          "text": [
            "\r 90%|█████████ | 567/629 [08:56<00:57,  1.07it/s]"
          ]
        },
        {
          "output_type": "stream",
          "name": "stdout",
          "text": [
            "566 :  https://meshb.nlm.nih.gov/record/ui?ui=D006504\n"
          ]
        },
        {
          "output_type": "stream",
          "name": "stderr",
          "text": [
            "\r 90%|█████████ | 568/629 [08:57<00:57,  1.07it/s]"
          ]
        },
        {
          "output_type": "stream",
          "name": "stdout",
          "text": [
            "567 :  https://meshb.nlm.nih.gov/record/ui?ui=D000073496\n"
          ]
        },
        {
          "output_type": "stream",
          "name": "stderr",
          "text": [
            "\r 90%|█████████ | 569/629 [08:58<00:56,  1.07it/s]"
          ]
        },
        {
          "output_type": "stream",
          "name": "stdout",
          "text": [
            "568 :  https://meshb.nlm.nih.gov/record/ui?ui=D006505\n"
          ]
        },
        {
          "output_type": "stream",
          "name": "stderr",
          "text": [
            "\r 91%|█████████ | 570/629 [09:00<01:04,  1.10s/it]"
          ]
        },
        {
          "output_type": "stream",
          "name": "stdout",
          "text": [
            "569 :  https://meshb.nlm.nih.gov/record/ui?ui=C563236\n"
          ]
        },
        {
          "output_type": "stream",
          "name": "stderr",
          "text": [
            "\r 91%|█████████ | 571/629 [09:01<01:00,  1.05s/it]"
          ]
        },
        {
          "output_type": "stream",
          "name": "stdout",
          "text": [
            "570 :  Vascular%20Myelopathy\n"
          ]
        },
        {
          "output_type": "stream",
          "name": "stderr",
          "text": [
            "\r 91%|█████████ | 572/629 [09:02<00:57,  1.02s/it]"
          ]
        },
        {
          "output_type": "stream",
          "name": "stdout",
          "text": [
            "571 :  https://meshb.nlm.nih.gov/record/ui?ui=D017573\n"
          ]
        },
        {
          "output_type": "stream",
          "name": "stderr",
          "text": [
            "\r 91%|█████████ | 573/629 [09:02<00:55,  1.01it/s]"
          ]
        },
        {
          "output_type": "stream",
          "name": "stdout",
          "text": [
            "572 :  https://meshb.nlm.nih.gov/record/ui?ui=D007617\n"
          ]
        },
        {
          "output_type": "stream",
          "name": "stderr",
          "text": [
            "\r 91%|█████████▏| 574/629 [09:03<00:53,  1.03it/s]"
          ]
        },
        {
          "output_type": "stream",
          "name": "stdout",
          "text": [
            "573 :  Cerebellum%20Cancer\n"
          ]
        },
        {
          "output_type": "stream",
          "name": "stderr",
          "text": [
            "\r 91%|█████████▏| 575/629 [09:04<00:52,  1.04it/s]"
          ]
        },
        {
          "output_type": "stream",
          "name": "stdout",
          "text": [
            "574 :  https://meshb.nlm.nih.gov/record/ui?ui=D014062\n"
          ]
        },
        {
          "output_type": "stream",
          "name": "stderr",
          "text": [
            "\r 92%|█████████▏| 576/629 [09:05<00:50,  1.05it/s]"
          ]
        },
        {
          "output_type": "stream",
          "name": "stdout",
          "text": [
            "575 :  https://meshb.nlm.nih.gov/record/ui?ui=D005235\n"
          ]
        },
        {
          "output_type": "stream",
          "name": "stderr",
          "text": [
            "\r 92%|█████████▏| 577/629 [09:06<00:49,  1.05it/s]"
          ]
        },
        {
          "output_type": "stream",
          "name": "stdout",
          "text": [
            "576 :  https://meshb.nlm.nih.gov/record/ui?ui=D011655\n"
          ]
        },
        {
          "output_type": "stream",
          "name": "stderr",
          "text": [
            "\r 92%|█████████▏| 578/629 [09:07<00:48,  1.06it/s]"
          ]
        },
        {
          "output_type": "stream",
          "name": "stdout",
          "text": [
            "577 :  https://meshb.nlm.nih.gov/record/ui?ui=D006949\n"
          ]
        },
        {
          "output_type": "stream",
          "name": "stderr",
          "text": [
            "\r 92%|█████████▏| 579/629 [09:08<00:47,  1.06it/s]"
          ]
        },
        {
          "output_type": "stream",
          "name": "stdout",
          "text": [
            "578 :  Idiopathic%20Short%20Stature\n"
          ]
        },
        {
          "output_type": "stream",
          "name": "stderr",
          "text": [
            "\r 92%|█████████▏| 580/629 [09:09<00:46,  1.06it/s]"
          ]
        },
        {
          "output_type": "stream",
          "name": "stdout",
          "text": [
            "579 :  Systemic%20Lupus%20Erythematosus%2C%20With%20Pericarditis\n"
          ]
        },
        {
          "output_type": "stream",
          "name": "stderr",
          "text": [
            "\r 92%|█████████▏| 581/629 [09:10<00:45,  1.06it/s]"
          ]
        },
        {
          "output_type": "stream",
          "name": "stdout",
          "text": [
            "580 :  https://meshb.nlm.nih.gov/record/ui?ui=D009072\n"
          ]
        },
        {
          "output_type": "stream",
          "name": "stderr",
          "text": [
            "\r 93%|█████████▎| 582/629 [09:11<00:44,  1.07it/s]"
          ]
        },
        {
          "output_type": "stream",
          "name": "stdout",
          "text": [
            "581 :  Cardiac%20Allograft%20Vasculopathy\n"
          ]
        },
        {
          "output_type": "stream",
          "name": "stderr",
          "text": [
            "\r 93%|█████████▎| 583/629 [09:12<00:43,  1.06it/s]"
          ]
        },
        {
          "output_type": "stream",
          "name": "stdout",
          "text": [
            "582 :  Hypercholesterolaemia\n"
          ]
        },
        {
          "output_type": "stream",
          "name": "stderr",
          "text": [
            "\r 93%|█████████▎| 584/629 [09:13<00:42,  1.06it/s]"
          ]
        },
        {
          "output_type": "stream",
          "name": "stdout",
          "text": [
            "583 :  https://meshb.nlm.nih.gov/record/ui?ui=D015673\n"
          ]
        },
        {
          "output_type": "stream",
          "name": "stderr",
          "text": [
            "\r 93%|█████████▎| 585/629 [09:14<00:41,  1.07it/s]"
          ]
        },
        {
          "output_type": "stream",
          "name": "stdout",
          "text": [
            "584 :  Depression%20Disorder\n"
          ]
        },
        {
          "output_type": "stream",
          "name": "stderr",
          "text": [
            "\r 93%|█████████▎| 586/629 [09:15<00:40,  1.07it/s]"
          ]
        },
        {
          "output_type": "stream",
          "name": "stdout",
          "text": [
            "585 :  https://meshb.nlm.nih.gov/record/ui?ui=D034381\n"
          ]
        },
        {
          "output_type": "stream",
          "name": "stderr",
          "text": [
            "\r 93%|█████████▎| 587/629 [09:16<00:39,  1.07it/s]"
          ]
        },
        {
          "output_type": "stream",
          "name": "stdout",
          "text": [
            "586 :  https://meshb.nlm.nih.gov/record/ui?ui=D008881\n"
          ]
        },
        {
          "output_type": "stream",
          "name": "stderr",
          "text": [
            "\r 93%|█████████▎| 588/629 [09:17<00:38,  1.07it/s]"
          ]
        },
        {
          "output_type": "stream",
          "name": "stdout",
          "text": [
            "587 :  https://meshb.nlm.nih.gov/record/ui?ui=D059348\n"
          ]
        },
        {
          "output_type": "stream",
          "name": "stderr",
          "text": [
            "\r 94%|█████████▎| 589/629 [09:17<00:37,  1.07it/s]"
          ]
        },
        {
          "output_type": "stream",
          "name": "stdout",
          "text": [
            "588 :  https://meshb.nlm.nih.gov/record/ui?ui=D006009\n"
          ]
        },
        {
          "output_type": "stream",
          "name": "stderr",
          "text": [
            "\r 94%|█████████▍| 590/629 [09:18<00:36,  1.07it/s]"
          ]
        },
        {
          "output_type": "stream",
          "name": "stdout",
          "text": [
            "589 :  https://meshb.nlm.nih.gov/record/ui?ui=D000686\n"
          ]
        },
        {
          "output_type": "stream",
          "name": "stderr",
          "text": [
            "\r 94%|█████████▍| 591/629 [09:19<00:35,  1.07it/s]"
          ]
        },
        {
          "output_type": "stream",
          "name": "stdout",
          "text": [
            "590 :  Central%20Nervous%20System%20Embryonal%20Tumor\n"
          ]
        },
        {
          "output_type": "stream",
          "name": "stderr",
          "text": [
            "\r 94%|█████████▍| 592/629 [09:20<00:34,  1.07it/s]"
          ]
        },
        {
          "output_type": "stream",
          "name": "stdout",
          "text": [
            "591 :  https://meshb.nlm.nih.gov/record/ui?ui=D000292\n"
          ]
        },
        {
          "output_type": "stream",
          "name": "stderr",
          "text": [
            "\r 94%|█████████▍| 593/629 [09:21<00:33,  1.07it/s]"
          ]
        },
        {
          "output_type": "stream",
          "name": "stdout",
          "text": [
            "592 :  https://meshb.nlm.nih.gov/record/ui?ui=D049970\n"
          ]
        },
        {
          "output_type": "stream",
          "name": "stderr",
          "text": [
            "\r 94%|█████████▍| 594/629 [09:22<00:32,  1.07it/s]"
          ]
        },
        {
          "output_type": "stream",
          "name": "stdout",
          "text": [
            "593 :  https://meshb.nlm.nih.gov/record/ui?ui=D007383\n"
          ]
        },
        {
          "output_type": "stream",
          "name": "stderr",
          "text": [
            "\r 95%|█████████▍| 595/629 [09:23<00:31,  1.07it/s]"
          ]
        },
        {
          "output_type": "stream",
          "name": "stdout",
          "text": [
            "594 :  https://meshb.nlm.nih.gov/record/ui?ui=D013262\n"
          ]
        },
        {
          "output_type": "stream",
          "name": "stderr",
          "text": [
            "\r 95%|█████████▍| 596/629 [09:24<00:30,  1.07it/s]"
          ]
        },
        {
          "output_type": "stream",
          "name": "stdout",
          "text": [
            "595 :  https://meshb.nlm.nih.gov/record/ui?ui=D019693\n"
          ]
        },
        {
          "output_type": "stream",
          "name": "stderr",
          "text": [
            "\r 95%|█████████▍| 597/629 [09:25<00:29,  1.07it/s]"
          ]
        },
        {
          "output_type": "stream",
          "name": "stdout",
          "text": [
            "596 :  https://meshb.nlm.nih.gov/record/ui?ui=D004660\n"
          ]
        },
        {
          "output_type": "stream",
          "name": "stderr",
          "text": [
            "\r 95%|█████████▌| 598/629 [09:26<00:28,  1.07it/s]"
          ]
        },
        {
          "output_type": "stream",
          "name": "stdout",
          "text": [
            "597 :  B-cell%20Childhood%20Acute%20Lymphoblastic%20Leukemia\n"
          ]
        },
        {
          "output_type": "stream",
          "name": "stderr",
          "text": [
            "\r 95%|█████████▌| 599/629 [09:27<00:28,  1.07it/s]"
          ]
        },
        {
          "output_type": "stream",
          "name": "stdout",
          "text": [
            "598 :  https://meshb.nlm.nih.gov/record/ui?ui=D013262\n"
          ]
        },
        {
          "output_type": "stream",
          "name": "stderr",
          "text": [
            "\r 95%|█████████▌| 600/629 [09:28<00:27,  1.07it/s]"
          ]
        },
        {
          "output_type": "stream",
          "name": "stdout",
          "text": [
            "599 :  https://meshb.nlm.nih.gov/record/ui?ui=D016778\n"
          ]
        },
        {
          "output_type": "stream",
          "name": "stderr",
          "text": [
            "\r 96%|█████████▌| 601/629 [09:29<00:26,  1.07it/s]"
          ]
        },
        {
          "output_type": "stream",
          "name": "stdout",
          "text": [
            "600 :  https://meshb.nlm.nih.gov/record/ui?ui=D013494\n"
          ]
        },
        {
          "output_type": "stream",
          "name": "stderr",
          "text": [
            "\r 96%|█████████▌| 602/629 [09:30<00:26,  1.01it/s]"
          ]
        },
        {
          "output_type": "stream",
          "name": "stdout",
          "text": [
            "601 :  https://meshb.nlm.nih.gov/record/ui?ui=D065627\n"
          ]
        },
        {
          "output_type": "stream",
          "name": "stderr",
          "text": [
            "\r 96%|█████████▌| 603/629 [09:31<00:25,  1.02it/s]"
          ]
        },
        {
          "output_type": "stream",
          "name": "stdout",
          "text": [
            "602 :  https://meshb.nlm.nih.gov/record/ui?ui=D000081207\n"
          ]
        },
        {
          "output_type": "stream",
          "name": "stderr",
          "text": [
            "\r 96%|█████████▌| 604/629 [09:32<00:24,  1.04it/s]"
          ]
        },
        {
          "output_type": "stream",
          "name": "stdout",
          "text": [
            "603 :  https://meshb.nlm.nih.gov/record/ui?ui=D007006\n"
          ]
        },
        {
          "output_type": "stream",
          "name": "stderr",
          "text": [
            "\r 96%|█████████▌| 605/629 [09:33<00:22,  1.05it/s]"
          ]
        },
        {
          "output_type": "stream",
          "name": "stdout",
          "text": [
            "604 :  https://meshb.nlm.nih.gov/record/ui?ui=D006073\n"
          ]
        },
        {
          "output_type": "stream",
          "name": "stderr",
          "text": [
            "\r 96%|█████████▋| 606/629 [09:34<00:21,  1.05it/s]"
          ]
        },
        {
          "output_type": "stream",
          "name": "stdout",
          "text": [
            "605 :  https://meshb.nlm.nih.gov/record/ui?ui=D005879\n"
          ]
        },
        {
          "output_type": "stream",
          "name": "stderr",
          "text": [
            "\r 97%|█████████▋| 607/629 [09:35<00:20,  1.06it/s]"
          ]
        },
        {
          "output_type": "stream",
          "name": "stdout",
          "text": [
            "606 :  https://meshb.nlm.nih.gov/record/ui?ui=D004679\n"
          ]
        },
        {
          "output_type": "stream",
          "name": "stderr",
          "text": [
            "\r 97%|█████████▋| 608/629 [09:35<00:19,  1.06it/s]"
          ]
        },
        {
          "output_type": "stream",
          "name": "stdout",
          "text": [
            "607 :  https://meshb.nlm.nih.gov/record/ui?ui=D057772\n"
          ]
        },
        {
          "output_type": "stream",
          "name": "stderr",
          "text": [
            "\r 97%|█████████▋| 609/629 [09:36<00:18,  1.06it/s]"
          ]
        },
        {
          "output_type": "stream",
          "name": "stdout",
          "text": [
            "608 :  https://meshb.nlm.nih.gov/record/ui?ui=D008088\n"
          ]
        },
        {
          "output_type": "stream",
          "name": "stderr",
          "text": [
            "\r 97%|█████████▋| 610/629 [09:37<00:17,  1.07it/s]"
          ]
        },
        {
          "output_type": "stream",
          "name": "stdout",
          "text": [
            "609 :  Acute%20Erythroid%20Leukemia\n"
          ]
        },
        {
          "output_type": "stream",
          "name": "stderr",
          "text": [
            "\r 97%|█████████▋| 611/629 [09:38<00:16,  1.07it/s]"
          ]
        },
        {
          "output_type": "stream",
          "name": "stdout",
          "text": [
            "610 :  https://meshb.nlm.nih.gov/record/ui?ui=D046152\n"
          ]
        },
        {
          "output_type": "stream",
          "name": "stderr",
          "text": [
            "\r 97%|█████████▋| 612/629 [09:39<00:15,  1.07it/s]"
          ]
        },
        {
          "output_type": "stream",
          "name": "stdout",
          "text": [
            "611 :  https://meshb.nlm.nih.gov/record/ui?ui=D006319\n"
          ]
        },
        {
          "output_type": "stream",
          "name": "stderr",
          "text": [
            "\r 97%|█████████▋| 613/629 [09:40<00:14,  1.07it/s]"
          ]
        },
        {
          "output_type": "stream",
          "name": "stdout",
          "text": [
            "612 :  https://meshb.nlm.nih.gov/record/ui?ui=D005199\n"
          ]
        },
        {
          "output_type": "stream",
          "name": "stderr",
          "text": [
            "\r 98%|█████████▊| 614/629 [09:41<00:14,  1.07it/s]"
          ]
        },
        {
          "output_type": "stream",
          "name": "stdout",
          "text": [
            "613 :  https://meshb.nlm.nih.gov/record/ui?ui=D001171\n"
          ]
        },
        {
          "output_type": "stream",
          "name": "stderr",
          "text": [
            "\r 98%|█████████▊| 615/629 [09:42<00:13,  1.07it/s]"
          ]
        },
        {
          "output_type": "stream",
          "name": "stdout",
          "text": [
            "614 :  https://meshb.nlm.nih.gov/record/ui?ui=D003601\n"
          ]
        },
        {
          "output_type": "stream",
          "name": "stderr",
          "text": [
            "\r 98%|█████████▊| 616/629 [09:43<00:12,  1.07it/s]"
          ]
        },
        {
          "output_type": "stream",
          "name": "stdout",
          "text": [
            "615 :  https://meshb.nlm.nih.gov/record/ui?ui=D009389\n"
          ]
        },
        {
          "output_type": "stream",
          "name": "stderr",
          "text": [
            "\r 98%|█████████▊| 617/629 [09:44<00:11,  1.07it/s]"
          ]
        },
        {
          "output_type": "stream",
          "name": "stdout",
          "text": [
            "616 :  https://meshb.nlm.nih.gov/record/ui?ui=D014945\n"
          ]
        },
        {
          "output_type": "stream",
          "name": "stderr",
          "text": [
            "\r 98%|█████████▊| 618/629 [09:45<00:10,  1.07it/s]"
          ]
        },
        {
          "output_type": "stream",
          "name": "stdout",
          "text": [
            "617 :  https://meshb.nlm.nih.gov/record/ui?ui=D009437\n"
          ]
        },
        {
          "output_type": "stream",
          "name": "stderr",
          "text": [
            "\r 98%|█████████▊| 619/629 [09:46<00:09,  1.07it/s]"
          ]
        },
        {
          "output_type": "stream",
          "name": "stdout",
          "text": [
            "618 :  https://meshb.nlm.nih.gov/record/ui?ui=D065630\n"
          ]
        },
        {
          "output_type": "stream",
          "name": "stderr",
          "text": [
            "\r 99%|█████████▊| 620/629 [09:47<00:08,  1.07it/s]"
          ]
        },
        {
          "output_type": "stream",
          "name": "stdout",
          "text": [
            "619 :  https://meshb.nlm.nih.gov/record/ui?ui=D000090862\n"
          ]
        },
        {
          "output_type": "stream",
          "name": "stderr",
          "text": [
            "\r 99%|█████████▊| 621/629 [09:48<00:07,  1.07it/s]"
          ]
        },
        {
          "output_type": "stream",
          "name": "stdout",
          "text": [
            "620 :  https://meshb.nlm.nih.gov/record/ui?ui=D016410\n"
          ]
        },
        {
          "output_type": "stream",
          "name": "stderr",
          "text": [
            "\r 99%|█████████▉| 622/629 [09:49<00:06,  1.07it/s]"
          ]
        },
        {
          "output_type": "stream",
          "name": "stdout",
          "text": [
            "621 :  https://meshb.nlm.nih.gov/record/ui?ui=D000860\n"
          ]
        },
        {
          "output_type": "stream",
          "name": "stderr",
          "text": [
            "\r 99%|█████████▉| 623/629 [09:49<00:05,  1.07it/s]"
          ]
        },
        {
          "output_type": "stream",
          "name": "stdout",
          "text": [
            "622 :  Carcinoma%2C%20Salivary%20Adenoid%20Cystic\n"
          ]
        },
        {
          "output_type": "stream",
          "name": "stderr",
          "text": [
            "\r 99%|█████████▉| 624/629 [09:51<00:04,  1.04it/s]"
          ]
        },
        {
          "output_type": "stream",
          "name": "stdout",
          "text": [
            "623 :  https://meshb.nlm.nih.gov/record/ui?ui=D059350\n"
          ]
        },
        {
          "output_type": "stream",
          "name": "stderr",
          "text": [
            "\r 99%|█████████▉| 625/629 [09:51<00:03,  1.05it/s]"
          ]
        },
        {
          "output_type": "stream",
          "name": "stdout",
          "text": [
            "624 :  Lacrimal%20Adenoid%20Cystic%20Carcinoma\n"
          ]
        },
        {
          "output_type": "stream",
          "name": "stderr",
          "text": [
            "\r100%|█████████▉| 626/629 [09:52<00:02,  1.05it/s]"
          ]
        },
        {
          "output_type": "stream",
          "name": "stdout",
          "text": [
            "625 :  Invasive%20Bladder%20Transitional%20Cell%20Carcinoma\n"
          ]
        },
        {
          "output_type": "stream",
          "name": "stderr",
          "text": [
            "\r100%|█████████▉| 627/629 [09:53<00:01,  1.06it/s]"
          ]
        },
        {
          "output_type": "stream",
          "name": "stdout",
          "text": [
            "626 :  Granular%20Corneal%20Dystrophy\n"
          ]
        },
        {
          "output_type": "stream",
          "name": "stderr",
          "text": [
            "\r100%|█████████▉| 628/629 [09:54<00:00,  1.06it/s]"
          ]
        },
        {
          "output_type": "stream",
          "name": "stdout",
          "text": [
            "627 :  https://meshb.nlm.nih.gov/record/ui?ui=D006967\n"
          ]
        },
        {
          "output_type": "stream",
          "name": "stderr",
          "text": [
            "100%|██████████| 629/629 [09:55<00:00,  1.06it/s]"
          ]
        },
        {
          "output_type": "stream",
          "name": "stdout",
          "text": [
            "628 :  Cardiomyopathy%2C%20Ischemic\n"
          ]
        },
        {
          "output_type": "stream",
          "name": "stderr",
          "text": [
            "\n"
          ]
        },
        {
          "output_type": "execute_result",
          "data": {
            "text/plain": [
              "['https://meshb.nlm.nih.gov/record/ui?ui=D001943',\n",
              " 'https://meshb.nlm.nih.gov/record/ui?ui=D006528',\n",
              " '',\n",
              " 'https://meshb.nlm.nih.gov/record/ui?ui=D008175',\n",
              " '',\n",
              " 'https://meshb.nlm.nih.gov/record/ui?ui=D009369',\n",
              " 'https://meshb.nlm.nih.gov/record/ui?ui=D011471',\n",
              " 'https://meshb.nlm.nih.gov/record/ui?ui=D002312',\n",
              " '',\n",
              " 'https://meshb.nlm.nih.gov/record/ui?ui=D012559',\n",
              " 'https://meshb.nlm.nih.gov/record/ui?ui=D001327',\n",
              " 'https://meshb.nlm.nih.gov/record/ui?ui=D015451',\n",
              " '',\n",
              " 'https://meshb.nlm.nih.gov/record/ui?ui=D006333',\n",
              " 'https://meshb.nlm.nih.gov/record/ui?ui=D003876',\n",
              " 'https://meshb.nlm.nih.gov/record/ui?ui=D011565',\n",
              " 'https://meshb.nlm.nih.gov/record/ui?ui=D010051',\n",
              " 'https://meshb.nlm.nih.gov/record/ui?ui=D009139',\n",
              " 'https://meshb.nlm.nih.gov/record/ui?ui=D012174',\n",
              " '',\n",
              " 'https://meshb.nlm.nih.gov/record/ui?ui=D000544',\n",
              " 'https://meshb.nlm.nih.gov/record/ui?ui=D015861',\n",
              " 'https://meshb.nlm.nih.gov/record/ui?ui=D001749',\n",
              " '',\n",
              " 'https://meshb.nlm.nih.gov/record/ui?ui=D006258',\n",
              " 'https://meshb.nlm.nih.gov/record/ui?ui=D002051',\n",
              " 'https://meshb.nlm.nih.gov/record/ui?ui=D008527',\n",
              " 'https://meshb.nlm.nih.gov/record/ui?ui=D004715',\n",
              " '',\n",
              " 'https://meshb.nlm.nih.gov/record/ui?ui=D013274',\n",
              " 'https://meshb.nlm.nih.gov/record/ui?ui=D004067',\n",
              " 'https://meshb.nlm.nih.gov/record/ui?ui=D001254',\n",
              " 'https://meshb.nlm.nih.gov/record/ui?ui=D006509',\n",
              " 'https://meshb.nlm.nih.gov/record/ui?ui=D002292',\n",
              " 'https://meshb.nlm.nih.gov/record/ui?ui=D012514',\n",
              " 'https://meshb.nlm.nih.gov/record/ui?ui=D054685',\n",
              " 'https://meshb.nlm.nih.gov/record/ui?ui=D019446',\n",
              " 'https://meshb.nlm.nih.gov/record/ui?ui=D015179',\n",
              " 'https://meshb.nlm.nih.gov/record/ui?ui=D008105',\n",
              " '',\n",
              " 'https://meshb.nlm.nih.gov/record/ui?ui=D012468',\n",
              " 'https://meshb.nlm.nih.gov/record/ui?ui=D018268',\n",
              " 'https://meshb.nlm.nih.gov/record/ui?ui=D008107',\n",
              " 'https://meshb.nlm.nih.gov/record/ui?ui=D001749',\n",
              " 'https://meshb.nlm.nih.gov/record/ui?ui=D013920',\n",
              " 'https://meshb.nlm.nih.gov/record/ui?ui=D005770',\n",
              " 'https://meshb.nlm.nih.gov/record/ui?ui=D000306',\n",
              " 'https://meshb.nlm.nih.gov/record/ui?ui=D005234',\n",
              " 'https://meshb.nlm.nih.gov/record/ui?ui=D008545',\n",
              " 'https://meshb.nlm.nih.gov/record/ui?ui=D010190',\n",
              " 'https://meshb.nlm.nih.gov/record/ui?ui=D008223',\n",
              " 'https://meshb.nlm.nih.gov/record/ui?ui=D018197',\n",
              " 'https://meshb.nlm.nih.gov/record/ui?ui=D010003',\n",
              " 'https://meshb.nlm.nih.gov/record/ui?ui=D002294',\n",
              " 'https://meshb.nlm.nih.gov/record/ui?ui=D005909',\n",
              " 'https://meshb.nlm.nih.gov/record/ui?ui=D003110',\n",
              " 'https://meshb.nlm.nih.gov/record/ui?ui=D008113',\n",
              " 'https://meshb.nlm.nih.gov/record/ui?ui=D013736',\n",
              " 'https://meshb.nlm.nih.gov/record/ui?ui=D018856',\n",
              " 'https://meshb.nlm.nih.gov/record/ui?ui=D016889',\n",
              " 'https://meshb.nlm.nih.gov/record/ui?ui=D009203',\n",
              " 'https://meshb.nlm.nih.gov/record/ui?ui=D000077195',\n",
              " 'https://meshb.nlm.nih.gov/record/ui?ui=D002318',\n",
              " 'https://meshb.nlm.nih.gov/record/ui?ui=D011087',\n",
              " '',\n",
              " 'https://meshb.nlm.nih.gov/record/ui?ui=D002822',\n",
              " '',\n",
              " '',\n",
              " 'https://meshb.nlm.nih.gov/record/ui?ui=D002583',\n",
              " 'https://meshb.nlm.nih.gov/record/ui?ui=D016399',\n",
              " '',\n",
              " 'https://meshb.nlm.nih.gov/record/ui?ui=D000257',\n",
              " 'https://meshb.nlm.nih.gov/record/ui?ui=D009103',\n",
              " 'https://meshb.nlm.nih.gov/record/ui?ui=D007822',\n",
              " 'https://meshb.nlm.nih.gov/record/ui?ui=D013119',\n",
              " '',\n",
              " 'https://meshb.nlm.nih.gov/record/ui?ui=D001024',\n",
              " '',\n",
              " 'https://meshb.nlm.nih.gov/record/ui?ui=D009463',\n",
              " '',\n",
              " '',\n",
              " 'https://meshb.nlm.nih.gov/record/ui?ui=D009190',\n",
              " 'https://meshb.nlm.nih.gov/record/ui?ui=D004938',\n",
              " '',\n",
              " 'https://meshb.nlm.nih.gov/record/ui?ui=D006380',\n",
              " '',\n",
              " 'https://meshb.nlm.nih.gov/record/ui?ui=D008654',\n",
              " 'https://meshb.nlm.nih.gov/record/ui?ui=D009303',\n",
              " 'https://meshb.nlm.nih.gov/record/ui?ui=D008180',\n",
              " 'https://meshb.nlm.nih.gov/record/ui?ui=D006984',\n",
              " 'https://meshb.nlm.nih.gov/record/ui?ui=D001471',\n",
              " 'https://meshb.nlm.nih.gov/record/ui?ui=D013964',\n",
              " 'https://meshb.nlm.nih.gov/record/ui?ui=D003093',\n",
              " 'https://meshb.nlm.nih.gov/record/ui?ui=D010300',\n",
              " 'https://meshb.nlm.nih.gov/record/ui?ui=D012516',\n",
              " '',\n",
              " 'https://meshb.nlm.nih.gov/record/ui?ui=D018281',\n",
              " 'https://meshb.nlm.nih.gov/record/ui?ui=D003920',\n",
              " 'https://meshb.nlm.nih.gov/record/ui?ui=D001249',\n",
              " 'https://meshb.nlm.nih.gov/record/ui?ui=D053627',\n",
              " 'https://meshb.nlm.nih.gov/record/ui?ui=D008010',\n",
              " 'https://meshb.nlm.nih.gov/record/ui?ui=D009182',\n",
              " 'https://meshb.nlm.nih.gov/record/ui?ui=D009447',\n",
              " 'https://meshb.nlm.nih.gov/record/ui?ui=D017545',\n",
              " 'https://meshb.nlm.nih.gov/record/ui?ui=D002311',\n",
              " 'https://meshb.nlm.nih.gov/record/ui?ui=D004806',\n",
              " 'https://meshb.nlm.nih.gov/record/ui?ui=D005910',\n",
              " '',\n",
              " 'https://meshb.nlm.nih.gov/record/ui?ui=D000163',\n",
              " 'https://meshb.nlm.nih.gov/record/ui?ui=D003928',\n",
              " 'https://meshb.nlm.nih.gov/record/ui?ui=D007249',\n",
              " 'https://meshb.nlm.nih.gov/record/ui?ui=D002056',\n",
              " 'https://meshb.nlm.nih.gov/record/ui?ui=D002280',\n",
              " 'https://meshb.nlm.nih.gov/record/ui?ui=D012595',\n",
              " '',\n",
              " 'https://meshb.nlm.nih.gov/record/ui?ui=D015175',\n",
              " 'https://meshb.nlm.nih.gov/record/ui?ui=D015464',\n",
              " 'https://meshb.nlm.nih.gov/record/ui?ui=D003324',\n",
              " '',\n",
              " 'https://meshb.nlm.nih.gov/record/ui?ui=D008579',\n",
              " 'https://meshb.nlm.nih.gov/record/ui?ui=D029424',\n",
              " 'https://meshb.nlm.nih.gov/record/ui?ui=D011225',\n",
              " 'https://meshb.nlm.nih.gov/record/ui?ui=D017563',\n",
              " 'https://meshb.nlm.nih.gov/record/ui?ui=D001528',\n",
              " 'https://meshb.nlm.nih.gov/record/ui?ui=D018805',\n",
              " 'https://meshb.nlm.nih.gov/record/ui?ui=D012175',\n",
              " 'https://meshb.nlm.nih.gov/record/ui?ui=D014397',\n",
              " 'https://meshb.nlm.nih.gov/record/ui?ui=D001281',\n",
              " 'https://meshb.nlm.nih.gov/record/ui?ui=D014376',\n",
              " 'https://meshb.nlm.nih.gov/record/ui?ui=D017096',\n",
              " '',\n",
              " 'https://meshb.nlm.nih.gov/record/ui?ui=D015473',\n",
              " '',\n",
              " 'https://meshb.nlm.nih.gov/record/ui?ui=D006976',\n",
              " 'https://meshb.nlm.nih.gov/record/ui?ui=D007938',\n",
              " 'https://meshb.nlm.nih.gov/record/ui?ui=D008258',\n",
              " 'https://meshb.nlm.nih.gov/record/ui?ui=D019698',\n",
              " '',\n",
              " 'https://meshb.nlm.nih.gov/record/ui?ui=D015427',\n",
              " 'https://meshb.nlm.nih.gov/record/ui?ui=D065631',\n",
              " 'https://meshb.nlm.nih.gov/record/ui?ui=D013683',\n",
              " '',\n",
              " '',\n",
              " '',\n",
              " '',\n",
              " '',\n",
              " '',\n",
              " 'https://meshb.nlm.nih.gov/record/ui?ui=D015470',\n",
              " 'https://meshb.nlm.nih.gov/record/ui?ui=D055959',\n",
              " 'https://meshb.nlm.nih.gov/record/ui?ui=D017202',\n",
              " 'https://meshb.nlm.nih.gov/record/ui?ui=D020391',\n",
              " '',\n",
              " 'https://meshb.nlm.nih.gov/record/ui?ui=D017726',\n",
              " 'https://meshb.nlm.nih.gov/record/ui?ui=D000077274',\n",
              " '',\n",
              " 'https://meshb.nlm.nih.gov/record/ui?ui=D008228',\n",
              " 'https://meshb.nlm.nih.gov/record/ui?ui=D012512',\n",
              " 'https://meshb.nlm.nih.gov/record/ui?ui=D058065',\n",
              " 'https://meshb.nlm.nih.gov/record/ui?ui=D010911',\n",
              " '',\n",
              " 'https://meshb.nlm.nih.gov/record/ui?ui=D001162',\n",
              " 'https://meshb.nlm.nih.gov/record/ui?ui=D054218',\n",
              " 'https://meshb.nlm.nih.gov/record/ui?ui=D009134',\n",
              " 'https://meshb.nlm.nih.gov/record/ui?ui=D009220',\n",
              " 'https://meshb.nlm.nih.gov/record/ui?ui=C536494',\n",
              " 'https://meshb.nlm.nih.gov/record/ui?ui=D010013',\n",
              " '',\n",
              " '',\n",
              " '',\n",
              " 'https://meshb.nlm.nih.gov/record/ui?ui=D006627',\n",
              " 'https://meshb.nlm.nih.gov/record/ui?ui=D011271',\n",
              " 'https://meshb.nlm.nih.gov/record/ui?ui=D009080',\n",
              " 'https://meshb.nlm.nih.gov/record/ui?ui=D012128',\n",
              " 'https://meshb.nlm.nih.gov/record/ui?ui=D009101',\n",
              " 'https://meshb.nlm.nih.gov/record/ui?ui=D007680',\n",
              " 'https://meshb.nlm.nih.gov/record/ui?ui=D015212',\n",
              " '',\n",
              " '',\n",
              " 'https://meshb.nlm.nih.gov/record/ui?ui=D002813',\n",
              " 'https://meshb.nlm.nih.gov/record/ui?ui=D005921',\n",
              " 'https://meshb.nlm.nih.gov/record/ui?ui=D054198',\n",
              " 'https://meshb.nlm.nih.gov/record/ui?ui=D015266',\n",
              " 'https://meshb.nlm.nih.gov/record/ui?ui=D011085',\n",
              " '',\n",
              " '',\n",
              " '',\n",
              " 'https://meshb.nlm.nih.gov/record/ui?ui=D009369',\n",
              " 'https://meshb.nlm.nih.gov/record/ui?ui=D005356',\n",
              " 'https://meshb.nlm.nih.gov/record/ui?ui=D003424',\n",
              " 'https://meshb.nlm.nih.gov/record/ui?ui=D007674',\n",
              " '',\n",
              " '',\n",
              " '',\n",
              " 'https://meshb.nlm.nih.gov/record/ui?ui=D009765',\n",
              " '',\n",
              " 'https://meshb.nlm.nih.gov/record/ui?ui=D006816',\n",
              " 'https://meshb.nlm.nih.gov/record/ui?ui=D008103',\n",
              " 'https://meshb.nlm.nih.gov/record/ui?ui=D050197',\n",
              " 'https://meshb.nlm.nih.gov/record/ui?ui=D003922',\n",
              " 'https://meshb.nlm.nih.gov/record/ui?ui=D019694',\n",
              " '',\n",
              " '',\n",
              " 'https://meshb.nlm.nih.gov/record/ui?ui=D009136',\n",
              " 'https://meshb.nlm.nih.gov/record/ui?ui=D020031',\n",
              " 'https://meshb.nlm.nih.gov/record/ui?ui=D010510',\n",
              " 'https://meshb.nlm.nih.gov/record/ui?ui=D009202',\n",
              " 'https://meshb.nlm.nih.gov/record/ui?ui=D016393',\n",
              " 'https://meshb.nlm.nih.gov/record/ui?ui=D013130',\n",
              " 'https://meshb.nlm.nih.gov/record/ui?ui=D009422',\n",
              " 'https://meshb.nlm.nih.gov/record/ui?ui=D006332',\n",
              " 'https://meshb.nlm.nih.gov/record/ui?ui=D016403',\n",
              " '',\n",
              " 'https://meshb.nlm.nih.gov/record/ui?ui=D051436',\n",
              " '',\n",
              " 'https://meshb.nlm.nih.gov/record/ui?ui=D003092',\n",
              " 'https://meshb.nlm.nih.gov/record/ui?ui=D019636',\n",
              " 'https://meshb.nlm.nih.gov/record/ui?ui=D066126',\n",
              " 'https://meshb.nlm.nih.gov/record/ui?ui=D012509',\n",
              " 'https://meshb.nlm.nih.gov/record/ui?ui=D000026',\n",
              " 'https://meshb.nlm.nih.gov/record/ui?ui=D012859',\n",
              " 'https://meshb.nlm.nih.gov/record/ui?ui=D000077192',\n",
              " 'https://meshb.nlm.nih.gov/record/ui?ui=D014820',\n",
              " 'https://meshb.nlm.nih.gov/record/ui?ui=D010518',\n",
              " 'https://meshb.nlm.nih.gov/record/ui?ui=D017676',\n",
              " 'https://meshb.nlm.nih.gov/record/ui?ui=D006973',\n",
              " '',\n",
              " 'https://meshb.nlm.nih.gov/record/ui?ui=D007889',\n",
              " 'https://meshb.nlm.nih.gov/record/ui?ui=D001943',\n",
              " '',\n",
              " '',\n",
              " 'https://meshb.nlm.nih.gov/record/ui?ui=D010024',\n",
              " 'https://meshb.nlm.nih.gov/record/ui?ui=D003924',\n",
              " 'https://meshb.nlm.nih.gov/record/ui?ui=D000067877',\n",
              " '',\n",
              " 'https://meshb.nlm.nih.gov/record/ui?ui=D003110',\n",
              " '',\n",
              " 'https://meshb.nlm.nih.gov/record/ui?ui=D014652',\n",
              " 'https://meshb.nlm.nih.gov/record/ui?ui=D020786',\n",
              " 'https://meshb.nlm.nih.gov/record/ui?ui=D003528',\n",
              " 'https://meshb.nlm.nih.gov/record/ui?ui=D009404',\n",
              " 'https://meshb.nlm.nih.gov/record/ui?ui=D004701',\n",
              " 'https://meshb.nlm.nih.gov/record/ui?ui=D007511',\n",
              " 'https://meshb.nlm.nih.gov/record/ui?ui=D018222',\n",
              " 'https://meshb.nlm.nih.gov/record/ui?ui=D010911',\n",
              " 'https://meshb.nlm.nih.gov/record/ui?ui=D020521',\n",
              " 'https://meshb.nlm.nih.gov/record/ui?ui=D012223',\n",
              " 'https://meshb.nlm.nih.gov/record/ui?ui=D002310',\n",
              " 'https://meshb.nlm.nih.gov/record/ui?ui=C562841',\n",
              " '',\n",
              " 'https://meshb.nlm.nih.gov/record/ui?ui=D007239',\n",
              " '',\n",
              " '',\n",
              " '',\n",
              " 'https://meshb.nlm.nih.gov/record/ui?ui=D009157',\n",
              " 'https://meshb.nlm.nih.gov/record/ui?ui=D009837',\n",
              " '',\n",
              " 'https://meshb.nlm.nih.gov/record/ui?ui=D043183',\n",
              " 'https://meshb.nlm.nih.gov/record/ui?ui=D002296',\n",
              " 'https://meshb.nlm.nih.gov/record/ui?ui=D018203',\n",
              " 'https://meshb.nlm.nih.gov/record/ui?ui=D007890',\n",
              " 'https://meshb.nlm.nih.gov/record/ui?ui=D000690',\n",
              " 'https://meshb.nlm.nih.gov/record/ui?ui=D007246',\n",
              " 'https://meshb.nlm.nih.gov/record/ui?ui=D054990',\n",
              " '',\n",
              " '',\n",
              " 'https://meshb.nlm.nih.gov/record/ui?ui=D018236',\n",
              " 'https://meshb.nlm.nih.gov/record/ui?ui=D001321',\n",
              " 'https://meshb.nlm.nih.gov/record/ui?ui=D001932',\n",
              " 'https://meshb.nlm.nih.gov/record/ui?ui=D053713',\n",
              " 'https://meshb.nlm.nih.gov/record/ui?ui=D015464',\n",
              " '',\n",
              " 'https://meshb.nlm.nih.gov/record/ui?ui=D007154',\n",
              " 'https://meshb.nlm.nih.gov/record/ui?ui=D001847',\n",
              " 'https://meshb.nlm.nih.gov/record/ui?ui=D009506',\n",
              " 'https://meshb.nlm.nih.gov/record/ui?ui=D016779',\n",
              " 'https://meshb.nlm.nih.gov/record/ui?ui=D057174',\n",
              " 'https://meshb.nlm.nih.gov/record/ui?ui=D001172',\n",
              " 'https://meshb.nlm.nih.gov/record/ui?ui=D008181',\n",
              " 'https://meshb.nlm.nih.gov/record/ui?ui=D012772',\n",
              " '',\n",
              " '',\n",
              " '',\n",
              " '',\n",
              " '',\n",
              " '',\n",
              " 'https://meshb.nlm.nih.gov/record/ui?ui=D002817',\n",
              " '',\n",
              " 'https://meshb.nlm.nih.gov/record/ui?ui=D014947',\n",
              " 'https://meshb.nlm.nih.gov/record/ui?ui=D011625',\n",
              " 'https://meshb.nlm.nih.gov/record/ui?ui=D007972',\n",
              " 'https://meshb.nlm.nih.gov/record/ui?ui=D004314',\n",
              " 'https://meshb.nlm.nih.gov/record/ui?ui=D000070642',\n",
              " 'https://meshb.nlm.nih.gov/record/ui?ui=D001523',\n",
              " 'https://meshb.nlm.nih.gov/record/ui?ui=D001997',\n",
              " '',\n",
              " 'https://meshb.nlm.nih.gov/record/ui?ui=D016889',\n",
              " 'https://meshb.nlm.nih.gov/record/ui?ui=D008080',\n",
              " 'https://meshb.nlm.nih.gov/record/ui?ui=D013964',\n",
              " '',\n",
              " 'https://meshb.nlm.nih.gov/record/ui?ui=D007690',\n",
              " 'https://meshb.nlm.nih.gov/record/ui?ui=D018358',\n",
              " 'https://meshb.nlm.nih.gov/record/ui?ui=D013967',\n",
              " '',\n",
              " '',\n",
              " 'https://meshb.nlm.nih.gov/record/ui?ui=D016640',\n",
              " '',\n",
              " 'https://meshb.nlm.nih.gov/record/ui?ui=D000083302',\n",
              " '',\n",
              " '',\n",
              " '',\n",
              " 'https://meshb.nlm.nih.gov/record/ui?ui=D002644',\n",
              " 'https://meshb.nlm.nih.gov/record/ui?ui=D013313',\n",
              " 'https://meshb.nlm.nih.gov/record/ui?ui=D007627',\n",
              " 'https://meshb.nlm.nih.gov/record/ui?ui=C536399',\n",
              " 'https://meshb.nlm.nih.gov/record/ui?ui=D009133',\n",
              " 'https://meshb.nlm.nih.gov/record/ui?ui=D017114',\n",
              " 'https://meshb.nlm.nih.gov/record/ui?ui=C538105',\n",
              " 'https://meshb.nlm.nih.gov/record/ui?ui=D019578',\n",
              " 'https://meshb.nlm.nih.gov/record/ui?ui=D004062',\n",
              " 'https://meshb.nlm.nih.gov/record/ui?ui=D008232',\n",
              " 'https://meshb.nlm.nih.gov/record/ui?ui=D007248',\n",
              " '',\n",
              " '',\n",
              " 'https://meshb.nlm.nih.gov/record/ui?ui=D002532',\n",
              " '',\n",
              " 'https://meshb.nlm.nih.gov/record/ui?ui=D010049',\n",
              " '',\n",
              " '',\n",
              " '',\n",
              " '',\n",
              " '',\n",
              " 'https://meshb.nlm.nih.gov/record/ui?ui=D018242',\n",
              " '',\n",
              " '',\n",
              " 'https://meshb.nlm.nih.gov/record/ui?ui=D018281',\n",
              " 'https://meshb.nlm.nih.gov/record/ui?ui=D050500',\n",
              " 'https://meshb.nlm.nih.gov/record/ui?ui=D012004',\n",
              " '',\n",
              " 'https://meshb.nlm.nih.gov/record/ui?ui=D020345',\n",
              " '',\n",
              " '',\n",
              " 'https://meshb.nlm.nih.gov/record/ui?ui=D017439',\n",
              " 'https://meshb.nlm.nih.gov/record/ui?ui=D017565',\n",
              " 'https://meshb.nlm.nih.gov/record/ui?ui=D018302',\n",
              " 'https://meshb.nlm.nih.gov/record/ui?ui=D017719',\n",
              " '',\n",
              " '',\n",
              " 'https://meshb.nlm.nih.gov/record/ui?ui=D014607',\n",
              " 'https://meshb.nlm.nih.gov/record/ui?ui=D012829',\n",
              " 'https://meshb.nlm.nih.gov/record/ui?ui=D009062',\n",
              " 'https://meshb.nlm.nih.gov/record/ui?ui=D001449',\n",
              " 'https://meshb.nlm.nih.gov/record/ui?ui=D012509',\n",
              " '',\n",
              " '',\n",
              " '',\n",
              " 'https://meshb.nlm.nih.gov/record/ui?ui=D001890',\n",
              " '',\n",
              " '',\n",
              " '',\n",
              " '',\n",
              " 'https://meshb.nlm.nih.gov/record/ui?ui=D004827',\n",
              " 'https://meshb.nlm.nih.gov/record/ui?ui=D002532',\n",
              " 'https://meshb.nlm.nih.gov/record/ui?ui=D020275',\n",
              " '',\n",
              " 'https://meshb.nlm.nih.gov/record/ui?ui=D000083242',\n",
              " 'https://meshb.nlm.nih.gov/record/ui?ui=D001014',\n",
              " 'https://meshb.nlm.nih.gov/record/ui?ui=D016966',\n",
              " 'https://meshb.nlm.nih.gov/record/ui?ui=D008193',\n",
              " 'https://meshb.nlm.nih.gov/record/ui?ui=D018266',\n",
              " '',\n",
              " 'https://meshb.nlm.nih.gov/record/ui?ui=D004719',\n",
              " 'https://meshb.nlm.nih.gov/record/ui?ui=D031901',\n",
              " 'https://meshb.nlm.nih.gov/record/ui?ui=D014123',\n",
              " 'https://meshb.nlm.nih.gov/record/ui?ui=D013945',\n",
              " '',\n",
              " 'https://meshb.nlm.nih.gov/record/ui?ui=D054331',\n",
              " 'https://meshb.nlm.nih.gov/record/ui?ui=D008413',\n",
              " '',\n",
              " '',\n",
              " 'https://meshb.nlm.nih.gov/record/ui?ui=D000357',\n",
              " 'https://meshb.nlm.nih.gov/record/ui?ui=D018277',\n",
              " '',\n",
              " '',\n",
              " '',\n",
              " 'https://meshb.nlm.nih.gov/record/ui?ui=D010534',\n",
              " '',\n",
              " 'https://meshb.nlm.nih.gov/record/ui?ui=D010282',\n",
              " '',\n",
              " 'https://meshb.nlm.nih.gov/record/ui?ui=D009373',\n",
              " '',\n",
              " 'https://meshb.nlm.nih.gov/record/ui?ui=D006311',\n",
              " 'https://meshb.nlm.nih.gov/record/ui?ui=D008103',\n",
              " 'https://meshb.nlm.nih.gov/record/ui?ui=D018303',\n",
              " 'https://meshb.nlm.nih.gov/record/ui?ui=D005901',\n",
              " 'https://meshb.nlm.nih.gov/record/ui?ui=C537750',\n",
              " 'https://meshb.nlm.nih.gov/record/ui?ui=D015208',\n",
              " 'https://meshb.nlm.nih.gov/record/ui?ui=D013771',\n",
              " '',\n",
              " '',\n",
              " '',\n",
              " 'https://meshb.nlm.nih.gov/record/ui?ui=D011218',\n",
              " 'https://meshb.nlm.nih.gov/record/ui?ui=D009394',\n",
              " 'https://meshb.nlm.nih.gov/record/ui?ui=D006689',\n",
              " 'https://meshb.nlm.nih.gov/record/ui?ui=D015448',\n",
              " '',\n",
              " '',\n",
              " 'https://meshb.nlm.nih.gov/record/ui?ui=D004461',\n",
              " 'https://meshb.nlm.nih.gov/record/ui?ui=D002781',\n",
              " 'https://meshb.nlm.nih.gov/record/ui?ui=D019337',\n",
              " 'https://meshb.nlm.nih.gov/record/ui?ui=D009400',\n",
              " 'https://meshb.nlm.nih.gov/record/ui?ui=D012162',\n",
              " 'https://meshb.nlm.nih.gov/record/ui?ui=D015456',\n",
              " 'https://meshb.nlm.nih.gov/record/ui?ui=D012208',\n",
              " 'https://meshb.nlm.nih.gov/record/ui?ui=D052556',\n",
              " 'https://meshb.nlm.nih.gov/record/ui?ui=D009442',\n",
              " 'https://meshb.nlm.nih.gov/record/ui?ui=D013584',\n",
              " '',\n",
              " 'https://meshb.nlm.nih.gov/record/ui?ui=D017093',\n",
              " '',\n",
              " 'https://meshb.nlm.nih.gov/record/ui?ui=D007951',\n",
              " 'https://meshb.nlm.nih.gov/record/ui?ui=D001661',\n",
              " 'https://meshb.nlm.nih.gov/record/ui?ui=D002286',\n",
              " 'https://meshb.nlm.nih.gov/record/ui?ui=D000505',\n",
              " 'https://meshb.nlm.nih.gov/record/ui?ui=D007562',\n",
              " 'https://meshb.nlm.nih.gov/record/ui?ui=D016098',\n",
              " 'https://meshb.nlm.nih.gov/record/ui?ui=D010673',\n",
              " 'https://meshb.nlm.nih.gov/record/ui?ui=D006086',\n",
              " 'https://meshb.nlm.nih.gov/record/ui?ui=D018761',\n",
              " 'https://meshb.nlm.nih.gov/record/ui?ui=D003711',\n",
              " 'https://meshb.nlm.nih.gov/record/ui?ui=D008108',\n",
              " 'https://meshb.nlm.nih.gov/record/ui?ui=D057765',\n",
              " 'https://meshb.nlm.nih.gov/record/ui?ui=D018278',\n",
              " 'https://meshb.nlm.nih.gov/record/ui?ui=D055371',\n",
              " 'https://meshb.nlm.nih.gov/record/ui?ui=D018239',\n",
              " 'https://meshb.nlm.nih.gov/record/ui?ui=D004941',\n",
              " 'https://meshb.nlm.nih.gov/record/ui?ui=D017544',\n",
              " 'https://meshb.nlm.nih.gov/record/ui?ui=D013167',\n",
              " 'https://meshb.nlm.nih.gov/record/ui?ui=D012555',\n",
              " '',\n",
              " 'https://meshb.nlm.nih.gov/record/ui?ui=D012480',\n",
              " '',\n",
              " 'https://meshb.nlm.nih.gov/record/ui?ui=D058186',\n",
              " 'https://meshb.nlm.nih.gov/record/ui?ui=D020370',\n",
              " '',\n",
              " 'https://meshb.nlm.nih.gov/record/ui?ui=D008268',\n",
              " 'https://meshb.nlm.nih.gov/record/ui?ui=D006521',\n",
              " 'https://meshb.nlm.nih.gov/record/ui?ui=D039682',\n",
              " '',\n",
              " 'https://meshb.nlm.nih.gov/record/ui?ui=D010020',\n",
              " 'https://meshb.nlm.nih.gov/record/ui?ui=D010437',\n",
              " 'https://meshb.nlm.nih.gov/record/ui?ui=D006943',\n",
              " 'https://meshb.nlm.nih.gov/record/ui?ui=D005496',\n",
              " 'https://meshb.nlm.nih.gov/record/ui?ui=D002386',\n",
              " '',\n",
              " 'https://meshb.nlm.nih.gov/record/ui?ui=D015459',\n",
              " 'https://meshb.nlm.nih.gov/record/ui?ui=D005776',\n",
              " '',\n",
              " 'https://meshb.nlm.nih.gov/record/ui?ui=D012594',\n",
              " 'https://meshb.nlm.nih.gov/record/ui?ui=D020258',\n",
              " 'https://meshb.nlm.nih.gov/record/ui?ui=D013345',\n",
              " 'https://meshb.nlm.nih.gov/record/ui?ui=D020522',\n",
              " '',\n",
              " '',\n",
              " 'https://meshb.nlm.nih.gov/record/ui?ui=D020925',\n",
              " 'https://meshb.nlm.nih.gov/record/ui?ui=D006519',\n",
              " 'https://meshb.nlm.nih.gov/record/ui?ui=D010195',\n",
              " 'https://meshb.nlm.nih.gov/record/ui?ui=D012771',\n",
              " '',\n",
              " 'https://meshb.nlm.nih.gov/record/ui?ui=D002545',\n",
              " 'https://meshb.nlm.nih.gov/record/ui?ui=D010033',\n",
              " 'https://meshb.nlm.nih.gov/record/ui?ui=D012640',\n",
              " '',\n",
              " 'https://meshb.nlm.nih.gov/record/ui?ui=D002821',\n",
              " '',\n",
              " 'https://meshb.nlm.nih.gov/record/ui?ui=D006330',\n",
              " '',\n",
              " '',\n",
              " 'https://meshb.nlm.nih.gov/record/ui?ui=D005600',\n",
              " 'https://meshb.nlm.nih.gov/record/ui?ui=D008177',\n",
              " 'https://meshb.nlm.nih.gov/record/ui?ui=D015466',\n",
              " 'https://meshb.nlm.nih.gov/record/ui?ui=D008380',\n",
              " 'https://meshb.nlm.nih.gov/record/ui?ui=D002659',\n",
              " 'https://meshb.nlm.nih.gov/record/ui?ui=D017728',\n",
              " 'https://meshb.nlm.nih.gov/record/ui?ui=D006391',\n",
              " 'https://meshb.nlm.nih.gov/record/ui?ui=D006111',\n",
              " 'https://meshb.nlm.nih.gov/record/ui?ui=C537358',\n",
              " '',\n",
              " 'https://meshb.nlm.nih.gov/record/ui?ui=D016649',\n",
              " 'https://meshb.nlm.nih.gov/record/ui?ui=D001145',\n",
              " '',\n",
              " '',\n",
              " '',\n",
              " 'https://meshb.nlm.nih.gov/record/ui?ui=D025241',\n",
              " '',\n",
              " 'https://meshb.nlm.nih.gov/record/ui?ui=D001008',\n",
              " 'https://meshb.nlm.nih.gov/record/ui?ui=D002340',\n",
              " 'https://meshb.nlm.nih.gov/record/ui?ui=D000083242',\n",
              " 'https://meshb.nlm.nih.gov/record/ui?ui=D000082862',\n",
              " '',\n",
              " 'https://meshb.nlm.nih.gov/record/ui?ui=D054198',\n",
              " 'https://meshb.nlm.nih.gov/record/ui?ui=D057180',\n",
              " 'https://meshb.nlm.nih.gov/record/ui?ui=D010505',\n",
              " 'https://meshb.nlm.nih.gov/record/ui?ui=D001168',\n",
              " 'https://meshb.nlm.nih.gov/record/ui?ui=D000740',\n",
              " '',\n",
              " 'https://meshb.nlm.nih.gov/record/ui?ui=D006331',\n",
              " 'https://meshb.nlm.nih.gov/record/ui?ui=D024821',\n",
              " '',\n",
              " 'https://meshb.nlm.nih.gov/record/ui?ui=D020388',\n",
              " '',\n",
              " 'https://meshb.nlm.nih.gov/record/ui?ui=D018212',\n",
              " 'https://meshb.nlm.nih.gov/record/ui?ui=D008171',\n",
              " 'https://meshb.nlm.nih.gov/record/ui?ui=D017827',\n",
              " '',\n",
              " 'https://meshb.nlm.nih.gov/record/ui?ui=D016491',\n",
              " '',\n",
              " 'https://meshb.nlm.nih.gov/record/ui?ui=D017359',\n",
              " 'https://meshb.nlm.nih.gov/record/ui?ui=D060825',\n",
              " 'https://meshb.nlm.nih.gov/record/ui?ui=D016553',\n",
              " '',\n",
              " '',\n",
              " '',\n",
              " 'https://meshb.nlm.nih.gov/record/ui?ui=D007251',\n",
              " 'https://meshb.nlm.nih.gov/record/ui?ui=D005923',\n",
              " '',\n",
              " 'https://meshb.nlm.nih.gov/record/ui?ui=D008258',\n",
              " 'https://meshb.nlm.nih.gov/record/ui?ui=D011236',\n",
              " 'https://meshb.nlm.nih.gov/record/ui?ui=D000789',\n",
              " '',\n",
              " '',\n",
              " 'https://meshb.nlm.nih.gov/record/ui?ui=D054058',\n",
              " '',\n",
              " 'https://meshb.nlm.nih.gov/record/ui?ui=D001927',\n",
              " 'https://meshb.nlm.nih.gov/record/ui?ui=D014657',\n",
              " 'https://meshb.nlm.nih.gov/record/ui?ui=D014376',\n",
              " 'https://meshb.nlm.nih.gov/record/ui?ui=D003324',\n",
              " '',\n",
              " 'https://meshb.nlm.nih.gov/record/ui?ui=D000075222',\n",
              " 'https://meshb.nlm.nih.gov/record/ui?ui=D006394',\n",
              " 'https://meshb.nlm.nih.gov/record/ui?ui=D012214',\n",
              " 'https://meshb.nlm.nih.gov/record/ui?ui=D003865',\n",
              " '',\n",
              " '',\n",
              " 'https://meshb.nlm.nih.gov/record/ui?ui=D056735',\n",
              " '',\n",
              " 'https://meshb.nlm.nih.gov/record/ui?ui=D000741',\n",
              " 'https://meshb.nlm.nih.gov/record/ui?ui=D008268',\n",
              " '',\n",
              " '',\n",
              " 'https://meshb.nlm.nih.gov/record/ui?ui=D051474',\n",
              " 'https://meshb.nlm.nih.gov/record/ui?ui=D005536',\n",
              " 'https://meshb.nlm.nih.gov/record/ui?ui=D020138',\n",
              " 'https://meshb.nlm.nih.gov/record/ui?ui=D006952',\n",
              " 'https://meshb.nlm.nih.gov/record/ui?ui=D010523',\n",
              " 'https://meshb.nlm.nih.gov/record/ui?ui=D002446',\n",
              " 'https://meshb.nlm.nih.gov/record/ui?ui=D002295',\n",
              " '',\n",
              " 'https://meshb.nlm.nih.gov/record/ui?ui=D000082882',\n",
              " 'https://meshb.nlm.nih.gov/record/ui?ui=D005621',\n",
              " 'https://meshb.nlm.nih.gov/record/ui?ui=D003704',\n",
              " 'https://meshb.nlm.nih.gov/record/ui?ui=D014355',\n",
              " '',\n",
              " 'https://meshb.nlm.nih.gov/record/ui?ui=D003930',\n",
              " 'https://meshb.nlm.nih.gov/record/ui?ui=D014594',\n",
              " 'https://meshb.nlm.nih.gov/record/ui?ui=D015209',\n",
              " 'https://meshb.nlm.nih.gov/record/ui?ui=D003550',\n",
              " 'https://meshb.nlm.nih.gov/record/ui?ui=D006504',\n",
              " 'https://meshb.nlm.nih.gov/record/ui?ui=D000073496',\n",
              " 'https://meshb.nlm.nih.gov/record/ui?ui=D006505',\n",
              " 'https://meshb.nlm.nih.gov/record/ui?ui=C563236',\n",
              " '',\n",
              " 'https://meshb.nlm.nih.gov/record/ui?ui=D017573',\n",
              " 'https://meshb.nlm.nih.gov/record/ui?ui=D007617',\n",
              " '',\n",
              " 'https://meshb.nlm.nih.gov/record/ui?ui=D014062',\n",
              " 'https://meshb.nlm.nih.gov/record/ui?ui=D005235',\n",
              " 'https://meshb.nlm.nih.gov/record/ui?ui=D011655',\n",
              " 'https://meshb.nlm.nih.gov/record/ui?ui=D006949',\n",
              " '',\n",
              " '',\n",
              " 'https://meshb.nlm.nih.gov/record/ui?ui=D009072',\n",
              " '',\n",
              " '',\n",
              " 'https://meshb.nlm.nih.gov/record/ui?ui=D015673',\n",
              " '',\n",
              " 'https://meshb.nlm.nih.gov/record/ui?ui=D034381',\n",
              " 'https://meshb.nlm.nih.gov/record/ui?ui=D008881',\n",
              " 'https://meshb.nlm.nih.gov/record/ui?ui=D059348',\n",
              " 'https://meshb.nlm.nih.gov/record/ui?ui=D006009',\n",
              " 'https://meshb.nlm.nih.gov/record/ui?ui=D000686',\n",
              " '',\n",
              " 'https://meshb.nlm.nih.gov/record/ui?ui=D000292',\n",
              " 'https://meshb.nlm.nih.gov/record/ui?ui=D049970',\n",
              " 'https://meshb.nlm.nih.gov/record/ui?ui=D007383',\n",
              " 'https://meshb.nlm.nih.gov/record/ui?ui=D013262',\n",
              " 'https://meshb.nlm.nih.gov/record/ui?ui=D019693',\n",
              " 'https://meshb.nlm.nih.gov/record/ui?ui=D004660',\n",
              " '',\n",
              " 'https://meshb.nlm.nih.gov/record/ui?ui=D013262',\n",
              " 'https://meshb.nlm.nih.gov/record/ui?ui=D016778',\n",
              " 'https://meshb.nlm.nih.gov/record/ui?ui=D013494',\n",
              " 'https://meshb.nlm.nih.gov/record/ui?ui=D065627',\n",
              " 'https://meshb.nlm.nih.gov/record/ui?ui=D000081207',\n",
              " 'https://meshb.nlm.nih.gov/record/ui?ui=D007006',\n",
              " 'https://meshb.nlm.nih.gov/record/ui?ui=D006073',\n",
              " 'https://meshb.nlm.nih.gov/record/ui?ui=D005879',\n",
              " 'https://meshb.nlm.nih.gov/record/ui?ui=D004679',\n",
              " 'https://meshb.nlm.nih.gov/record/ui?ui=D057772',\n",
              " 'https://meshb.nlm.nih.gov/record/ui?ui=D008088',\n",
              " '',\n",
              " 'https://meshb.nlm.nih.gov/record/ui?ui=D046152',\n",
              " 'https://meshb.nlm.nih.gov/record/ui?ui=D006319',\n",
              " 'https://meshb.nlm.nih.gov/record/ui?ui=D005199',\n",
              " 'https://meshb.nlm.nih.gov/record/ui?ui=D001171',\n",
              " 'https://meshb.nlm.nih.gov/record/ui?ui=D003601',\n",
              " 'https://meshb.nlm.nih.gov/record/ui?ui=D009389',\n",
              " 'https://meshb.nlm.nih.gov/record/ui?ui=D014945',\n",
              " 'https://meshb.nlm.nih.gov/record/ui?ui=D009437',\n",
              " 'https://meshb.nlm.nih.gov/record/ui?ui=D065630',\n",
              " 'https://meshb.nlm.nih.gov/record/ui?ui=D000090862',\n",
              " 'https://meshb.nlm.nih.gov/record/ui?ui=D016410',\n",
              " 'https://meshb.nlm.nih.gov/record/ui?ui=D000860',\n",
              " '',\n",
              " 'https://meshb.nlm.nih.gov/record/ui?ui=D059350',\n",
              " '',\n",
              " '',\n",
              " '',\n",
              " 'https://meshb.nlm.nih.gov/record/ui?ui=D006967',\n",
              " '']"
            ]
          },
          "metadata": {},
          "execution_count": 7
        }
      ]
    },
    {
      "cell_type": "code",
      "source": [
        "count = 0\n",
        "for site in full_herf_list:\n",
        "  if site == \"\": count += 1\n",
        "\n",
        "count"
      ],
      "metadata": {
        "colab": {
          "base_uri": "https://localhost:8080/"
        },
        "id": "kSHWXRuieyLB",
        "outputId": "8bc0c0b9-a321-4476-a340-b933c6c1d412"
      },
      "execution_count": null,
      "outputs": [
        {
          "output_type": "execute_result",
          "data": {
            "text/plain": [
              "172"
            ]
          },
          "metadata": {},
          "execution_count": 8
        }
      ]
    },
    {
      "cell_type": "code",
      "source": [
        "site_dictionary = dict(zip(disease_name, full_herf_list))\n",
        "print(site_dictionary) # {'a': 1, 'b': 2, 'c': 3}"
      ],
      "metadata": {
        "colab": {
          "base_uri": "https://localhost:8080/"
        },
        "id": "AtZqFO6Ekgy3",
        "outputId": "d8e0b8a3-847b-4c04-a521-78d5c7332a8a"
      },
      "execution_count": null,
      "outputs": [
        {
          "output_type": "stream",
          "name": "stdout",
          "text": [
            "{'Breast Neoplasms': 'https://meshb.nlm.nih.gov/record/ui?ui=D001943', 'Carcinoma, Hepatocellular': 'https://meshb.nlm.nih.gov/record/ui?ui=D006528', 'Hepatitis C Virus Infection': '', 'Lung Neoplasms': 'https://meshb.nlm.nih.gov/record/ui?ui=D008175', 'Vascular Hypertrophy': '', 'Neoplasms [unspecific]': 'https://meshb.nlm.nih.gov/record/ui?ui=D009369', 'Prostate Neoplasms': 'https://meshb.nlm.nih.gov/record/ui?ui=D011471', 'Cardiomyopathy, Hypertrophic': 'https://meshb.nlm.nih.gov/record/ui?ui=D002312', 'Adenocarcinoma, Pancreatic Ductal': '', 'Schizophrenia': 'https://meshb.nlm.nih.gov/record/ui?ui=D012559', 'Autoimmune Diseases [unspecific]': 'https://meshb.nlm.nih.gov/record/ui?ui=D001327', 'Leukemia, Lymphocytic, Chronic, B-Cell': 'https://meshb.nlm.nih.gov/record/ui?ui=D015451', 'Carcinoma, Thyroid, Anaplastic': '', 'Heart Failure': 'https://meshb.nlm.nih.gov/record/ui?ui=D006333', 'Atopic Dermatitis': 'https://meshb.nlm.nih.gov/record/ui?ui=D003876', 'Psoriasis': 'https://meshb.nlm.nih.gov/record/ui?ui=D011565', 'Ovarian Neoplasms': 'https://meshb.nlm.nih.gov/record/ui?ui=D010051', 'Musculoskeletal Abnormalities [unspecific]': 'https://meshb.nlm.nih.gov/record/ui?ui=D009139', 'Retinitis Pigmentosa': 'https://meshb.nlm.nih.gov/record/ui?ui=D012174', 'Carcinoma, Rectal': '', 'Alzheimer Disease': 'https://meshb.nlm.nih.gov/record/ui?ui=D000544', 'Retinal Neovascularization': 'https://meshb.nlm.nih.gov/record/ui?ui=D015861', 'Urinary Bladder Cancer': 'https://meshb.nlm.nih.gov/record/ui?ui=D001749', 'Carcinoma, Pancreatic': '', 'Head And Neck Neoplasms': 'https://meshb.nlm.nih.gov/record/ui?ui=D006258', 'Lymphoma, Burkitt': 'https://meshb.nlm.nih.gov/record/ui?ui=D002051', 'Medulloblastoma': 'https://meshb.nlm.nih.gov/record/ui?ui=D008527', 'Endometriosis': 'https://meshb.nlm.nih.gov/record/ui?ui=D004715', 'Adenocarcinoma, Endometrial': '', 'Gastric Neoplasms': 'https://meshb.nlm.nih.gov/record/ui?ui=D013274', 'Digestive System Neoplasms': 'https://meshb.nlm.nih.gov/record/ui?ui=D004067', 'Astrocytoma': 'https://meshb.nlm.nih.gov/record/ui?ui=D001254', 'Hepatitis B Virus Infection': 'https://meshb.nlm.nih.gov/record/ui?ui=D006509', 'Carcinoma, Renal Cell': 'https://meshb.nlm.nih.gov/record/ui?ui=D002292', 'Kaposi Sarcoma': 'https://meshb.nlm.nih.gov/record/ui?ui=D012514', 'Lymphoma, Primary Effusion': 'https://meshb.nlm.nih.gov/record/ui?ui=D054685', 'Endotoxemia': 'https://meshb.nlm.nih.gov/record/ui?ui=D019446', 'Colorectal Carcinoma': 'https://meshb.nlm.nih.gov/record/ui?ui=D015179', 'Primary Biliary Cirrhosis': 'https://meshb.nlm.nih.gov/record/ui?ui=D008105', 'Leukemia-Lymphoma, Precursor T-Cell Lymphoblastic': '', 'Salivary Gland Neoplasms': 'https://meshb.nlm.nih.gov/record/ui?ui=D012468', 'Carcinoma, Adrenocortical': 'https://meshb.nlm.nih.gov/record/ui?ui=D018268', 'Liver Diseases [unspecific]': 'https://meshb.nlm.nih.gov/record/ui?ui=D008107', 'Bladder Neoplasms': 'https://meshb.nlm.nih.gov/record/ui?ui=D001749', 'Essential Thrombocythemia': 'https://meshb.nlm.nih.gov/record/ui?ui=D013920', 'Gastrointestinal Neoplasms': 'https://meshb.nlm.nih.gov/record/ui?ui=D005770', 'Adrenal Cortex Neoplasms': 'https://meshb.nlm.nih.gov/record/ui?ui=D000306', 'Fatty Liver [unspecific]': 'https://meshb.nlm.nih.gov/record/ui?ui=D005234', 'Melanoma': 'https://meshb.nlm.nih.gov/record/ui?ui=D008545', 'Pancreatic Neoplasms': 'https://meshb.nlm.nih.gov/record/ui?ui=D010190', 'Lymphoma': 'https://meshb.nlm.nih.gov/record/ui?ui=D008223', 'Hepatoblastoma': 'https://meshb.nlm.nih.gov/record/ui?ui=D018197', 'Osteoarthritis': 'https://meshb.nlm.nih.gov/record/ui?ui=D010003', 'Squamous Cell Carcinoma': 'https://meshb.nlm.nih.gov/record/ui?ui=D002294', 'Glioblastoma': 'https://meshb.nlm.nih.gov/record/ui?ui=D005909', 'Colon Neoplasms': 'https://meshb.nlm.nih.gov/record/ui?ui=D003110', 'Liver Neoplasms': 'https://meshb.nlm.nih.gov/record/ui?ui=D008113', 'Testicular Neoplasms': 'https://meshb.nlm.nih.gov/record/ui?ui=D013736', 'Interstitial Cystitis': 'https://meshb.nlm.nih.gov/record/ui?ui=D018856', 'Endometrial Neoplasms': 'https://meshb.nlm.nih.gov/record/ui?ui=D016889', 'Myocardial Infarction': 'https://meshb.nlm.nih.gov/record/ui?ui=D009203', 'Squamous Cell Carcinoma, Head and Neck': 'https://meshb.nlm.nih.gov/record/ui?ui=D000077195', 'Cardiovascular Diseases [unspecific]': 'https://meshb.nlm.nih.gov/record/ui?ui=D002318', 'Polycythemia Vera': 'https://meshb.nlm.nih.gov/record/ui?ui=D011087', 'Carcinoma, Oral': '', 'Choriocarcinoma': 'https://meshb.nlm.nih.gov/record/ui?ui=D002822', 'Carcinoma, Lung, Non-Small-Cell': '', 'Colorectal Adenocarcinoma': '', 'Cervical Neoplasms': 'https://meshb.nlm.nih.gov/record/ui?ui=D002583', 'Lymphoma, T-Cell': 'https://meshb.nlm.nih.gov/record/ui?ui=D016399', 'Squamous Cell Carcinoma, Lung': '', 'Adenovirus Infection': 'https://meshb.nlm.nih.gov/record/ui?ui=D000257', 'Multiple Sclerosis': 'https://meshb.nlm.nih.gov/record/ui?ui=D009103', 'Laryngeal Neoplasms': 'https://meshb.nlm.nih.gov/record/ui?ui=D007822', 'Spinal Cord Injuries': 'https://meshb.nlm.nih.gov/record/ui?ui=D013119', 'Aortic Insufficiency': '', 'Aortic Stenosis': 'https://meshb.nlm.nih.gov/record/ui?ui=D001024', 'Chronic Heart Failure': '', 'Neuroma': 'https://meshb.nlm.nih.gov/record/ui?ui=D009463', 'Fatty Liver, Non-Alcoholic': '', 'Myotonic Muscular Dystrophy': '', 'Myelodysplastic Syndromes': 'https://meshb.nlm.nih.gov/record/ui?ui=D009190', 'Esophageal Neoplasms': 'https://meshb.nlm.nih.gov/record/ui?ui=D004938', 'Squamous Cell Carcinoma, Oral': '', 'Learned Helplessness': 'https://meshb.nlm.nih.gov/record/ui?ui=D006380', 'Carcinoma, Cervical': '', 'Mesothelioma': 'https://meshb.nlm.nih.gov/record/ui?ui=D008654', 'Nasopharyngeal Neoplasms': 'https://meshb.nlm.nih.gov/record/ui?ui=D009303', 'Systemic Lupus Erythematosus': 'https://meshb.nlm.nih.gov/record/ui?ui=D008180', 'Hypertrophy': 'https://meshb.nlm.nih.gov/record/ui?ui=D006984', 'Barrett Esophagus': 'https://meshb.nlm.nih.gov/record/ui?ui=D001471', 'Thyroid Neoplasms': 'https://meshb.nlm.nih.gov/record/ui?ui=D013964', 'Colitis, Ulcerative': 'https://meshb.nlm.nih.gov/record/ui?ui=D003093', 'Parkinson Disease': 'https://meshb.nlm.nih.gov/record/ui?ui=D010300', 'Osteosarcoma': 'https://meshb.nlm.nih.gov/record/ui?ui=D012516', 'Carcinoma, Lung, Small-Cell': '', 'Cholangiocarcinoma': 'https://meshb.nlm.nih.gov/record/ui?ui=D018281', 'Diabetes Mellitus': 'https://meshb.nlm.nih.gov/record/ui?ui=D003920', 'Asthma': 'https://meshb.nlm.nih.gov/record/ui?ui=D001249', 'Asthenozoospermia': 'https://meshb.nlm.nih.gov/record/ui?ui=D053627', 'Lichen Planus': 'https://meshb.nlm.nih.gov/record/ui?ui=D008010', 'Mycosis Fungoides': 'https://meshb.nlm.nih.gov/record/ui?ui=D009182', 'Neuroblastoma': 'https://meshb.nlm.nih.gov/record/ui?ui=D009447', 'Aortic Aneurysm, Thoracic': 'https://meshb.nlm.nih.gov/record/ui?ui=D017545', 'Cardiomyopathy, Dilated': 'https://meshb.nlm.nih.gov/record/ui?ui=D002311', 'Ependymoma': 'https://meshb.nlm.nih.gov/record/ui?ui=D004806', 'Glioma': 'https://meshb.nlm.nih.gov/record/ui?ui=D005910', 'Allergic Rhinitis,Perennial': '', 'Acquired Immunodeficiency Syndrome': 'https://meshb.nlm.nih.gov/record/ui?ui=D000163', 'Diabetic Nephropathy': 'https://meshb.nlm.nih.gov/record/ui?ui=D003928', 'Inflammation': 'https://meshb.nlm.nih.gov/record/ui?ui=D007249', 'Burns': 'https://meshb.nlm.nih.gov/record/ui?ui=D002056', 'Carcinoma, Basal Cell': 'https://meshb.nlm.nih.gov/record/ui?ui=D002280', 'Scleroderma, Systemic': 'https://meshb.nlm.nih.gov/record/ui?ui=D012595', 'Human Immunodeficiency Virus Infection': '', 'Prolactinoma': 'https://meshb.nlm.nih.gov/record/ui?ui=D015175', 'Leukemia, Myeloid, Chronic': 'https://meshb.nlm.nih.gov/record/ui?ui=D015464', 'Coronary Artery Disease': 'https://meshb.nlm.nih.gov/record/ui?ui=D003324', 'Squamous Cell Carcinoma, Sinonasal': '', 'Meningioma': 'https://meshb.nlm.nih.gov/record/ui?ui=D008579', 'Chronic Obstructive Pulmonary Disease': 'https://meshb.nlm.nih.gov/record/ui?ui=D029424', 'Preeclampsia': 'https://meshb.nlm.nih.gov/record/ui?ui=D011225', 'Interstitial Lung Disease': 'https://meshb.nlm.nih.gov/record/ui?ui=D017563', 'Behcet Disease': 'https://meshb.nlm.nih.gov/record/ui?ui=D001528', 'Sepsis': 'https://meshb.nlm.nih.gov/record/ui?ui=D018805', 'Retinoblastoma': 'https://meshb.nlm.nih.gov/record/ui?ui=D012175', 'Tuberculosis, Pulmonary': 'https://meshb.nlm.nih.gov/record/ui?ui=D014397', 'Atrial Fibrillation': 'https://meshb.nlm.nih.gov/record/ui?ui=D001281', 'Tuberculosis': 'https://meshb.nlm.nih.gov/record/ui?ui=D014376', 'Prion Diseases': 'https://meshb.nlm.nih.gov/record/ui?ui=D017096', 'Squamous Cell Carcinoma, Esophageal': '', 'Leukemia, Promyelocytic, Acute': 'https://meshb.nlm.nih.gov/record/ui?ui=D015473', 'Squamous Cell Carcinoma, Skin or Unspecific': '', 'Pulmonary Hypertension': 'https://meshb.nlm.nih.gov/record/ui?ui=D006976', 'Leukemia': 'https://meshb.nlm.nih.gov/record/ui?ui=D007938', 'Waldenstrom Macroglobulinemia': 'https://meshb.nlm.nih.gov/record/ui?ui=D008258', 'Chronic Hepatitis C': 'https://meshb.nlm.nih.gov/record/ui?ui=D019698', 'Adenocarcinoma, Gastric': '', 'Ischemia-Reperfusion Injury': 'https://meshb.nlm.nih.gov/record/ui?ui=D015427', 'Allergic Rhinitis': 'https://meshb.nlm.nih.gov/record/ui?ui=D065631', 'Hereditary Hemorrhagic Telangiectasia': 'https://meshb.nlm.nih.gov/record/ui?ui=D013683', 'Carcinoma, Colon': '', 'Carcinoma, Renal Cell, Clear-Cell': '', 'Carcinoma, Bladder': '', 'Carcinoma, Esophageal': '', 'Squamous Cell Carcinoma, Laryngeal or Hypopharyngeal': '', 'Carcinoma, Gastric': '', 'Leukemia, Myeloid, Acute': 'https://meshb.nlm.nih.gov/record/ui?ui=D015470', 'Intervertebral Disc Degeneration': 'https://meshb.nlm.nih.gov/record/ui?ui=D055959', 'Ischemic Heart Disease': 'https://meshb.nlm.nih.gov/record/ui?ui=D017202', 'Muscular Dystrophy, Facioscapulohumeral': 'https://meshb.nlm.nih.gov/record/ui?ui=D020391', 'Pleural Mesothelioma': '', 'Cytomegalovirus Retinitis': 'https://meshb.nlm.nih.gov/record/ui?ui=D017726', 'Carcinoma, Nasopharyngeal': 'https://meshb.nlm.nih.gov/record/ui?ui=D000077274', 'Early-Stage Cervical Squamous Cell Carcinoma': '', 'Lymphoma, Non-Hodgkin': 'https://meshb.nlm.nih.gov/record/ui?ui=D008228', 'Ewing Sarcoma': 'https://meshb.nlm.nih.gov/record/ui?ui=D012512', 'Diabetic Cardiomyopathies': 'https://meshb.nlm.nih.gov/record/ui?ui=D058065', 'Pituitary Adenoma': 'https://meshb.nlm.nih.gov/record/ui?ui=D010911', 'Carcinoma, Laryngeal': '', 'Arteriosclerosis Obliterans': 'https://meshb.nlm.nih.gov/record/ui?ui=D001162', 'Leukemia, Lymphoblastic, Acute, T-Cell': 'https://meshb.nlm.nih.gov/record/ui?ui=D054218', 'Spinal Muscular Atrophy': 'https://meshb.nlm.nih.gov/record/ui?ui=D009134', 'Myositis': 'https://meshb.nlm.nih.gov/record/ui?ui=D009220', 'Uveal Melanoma': 'https://meshb.nlm.nih.gov/record/ui?ui=C536494', 'Osteogenesis Imperfecta': 'https://meshb.nlm.nih.gov/record/ui?ui=D010013', 'Squamous Cell Carcinoma, Cerevial': '', 'Carcinoma, Breast, Triple Negative': '', 'Myeloma': '', 'Hirschsprung Disease': 'https://meshb.nlm.nih.gov/record/ui?ui=D006627', 'Ectopic Pregnancy': 'https://meshb.nlm.nih.gov/record/ui?ui=D011271', 'Kawasaki Syndrome': 'https://meshb.nlm.nih.gov/record/ui?ui=D009080', 'Acute Respiratory Distress Syndrome': 'https://meshb.nlm.nih.gov/record/ui?ui=D012128', 'Multiple Myeloma': 'https://meshb.nlm.nih.gov/record/ui?ui=D009101', 'Kidney Neoplasms': 'https://meshb.nlm.nih.gov/record/ui?ui=D007680', 'Inflammatory Bowel Diseases': 'https://meshb.nlm.nih.gov/record/ui?ui=D015212', 'Carcinoma, Ovarian, Clear Cell': '', 'Carcinoma, Ovarian': '', 'Chondrosarcoma': 'https://meshb.nlm.nih.gov/record/ui?ui=D002813', 'Glomerulonephritis': 'https://meshb.nlm.nih.gov/record/ui?ui=D005921', 'Leukemia, Lymphoblastic': 'https://meshb.nlm.nih.gov/record/ui?ui=D054198', 'Carcinoma, Merkel Cell': 'https://meshb.nlm.nih.gov/record/ui?ui=D015266', 'Polycystic Ovarian Syndrome': 'https://meshb.nlm.nih.gov/record/ui?ui=D011085', 'Carcinoma, Prostate': '', 'Lung Fibrosis': '', 'Adenocarcinoma, Esophageal': '', 'Malignant Neoplasms [unspecific]': 'https://meshb.nlm.nih.gov/record/ui?ui=D009369', 'Fibromyalgia': 'https://meshb.nlm.nih.gov/record/ui?ui=D005356', 'Crohn Disease': 'https://meshb.nlm.nih.gov/record/ui?ui=D003424', 'Kidney Diseases [unspecific]': 'https://meshb.nlm.nih.gov/record/ui?ui=D007674', 'Respiratory Syncytial Virus Pneumonia': '', 'Bronchiolitis Obliterans Syndrome': '', 'Carcinoma, Gastric, Signet Ring Cell': '', 'Obesity': 'https://meshb.nlm.nih.gov/record/ui?ui=D009765', 'Acute Myocardial Infarction': '', 'Huntington Disease': 'https://meshb.nlm.nih.gov/record/ui?ui=D006816', 'Liver Cirrhosis': 'https://meshb.nlm.nih.gov/record/ui?ui=D008103', 'Atherosclerosis': 'https://meshb.nlm.nih.gov/record/ui?ui=D050197', 'Diabetes Mellitus, Type 1': 'https://meshb.nlm.nih.gov/record/ui?ui=D003922', 'Chronic Hepatitis B': 'https://meshb.nlm.nih.gov/record/ui?ui=D019694', 'Cardiac Fibrosis': '', 'Carcinoma, Thyroid, Papillary': '', 'Muscular Dystrophy': 'https://meshb.nlm.nih.gov/record/ui?ui=D009136', 'Epstein-Barr Virus Infection': 'https://meshb.nlm.nih.gov/record/ui?ui=D020031', 'Periodontal Diseases': 'https://meshb.nlm.nih.gov/record/ui?ui=D010510', 'Cardiomyopathy': 'https://meshb.nlm.nih.gov/record/ui?ui=D009202', 'Lymphoma, B-Cell': 'https://meshb.nlm.nih.gov/record/ui?ui=D016393', 'Spinal Stenosis': 'https://meshb.nlm.nih.gov/record/ui?ui=D013130', 'Nervous System Diseases [unspecific]': 'https://meshb.nlm.nih.gov/record/ui?ui=D009422', 'Cardiomegaly': 'https://meshb.nlm.nih.gov/record/ui?ui=D006332', 'Lymphoma, Large B-Cell, Diffuse': 'https://meshb.nlm.nih.gov/record/ui?ui=D016403', 'Viral Infectious Disease': '', 'Chronic Kidney Disease': 'https://meshb.nlm.nih.gov/record/ui?ui=D051436', 'Cutaneous Melanoma': '', 'Colitis': 'https://meshb.nlm.nih.gov/record/ui?ui=D003092', 'Neurodegenerative Diseases [unspecific]': 'https://meshb.nlm.nih.gov/record/ui?ui=D019636', 'Cardiotoxicity': 'https://meshb.nlm.nih.gov/record/ui?ui=D066126', 'Sarcoma [unspecific]': 'https://meshb.nlm.nih.gov/record/ui?ui=D012509', 'Habitual Abortion': 'https://meshb.nlm.nih.gov/record/ui?ui=D000026', 'Sjogren Syndrome': 'https://meshb.nlm.nih.gov/record/ui?ui=D012859', 'Adenocarcinoma, Lung': 'https://meshb.nlm.nih.gov/record/ui?ui=D000077192', 'Vitiligo': 'https://meshb.nlm.nih.gov/record/ui?ui=D014820', 'Periodontitis': 'https://meshb.nlm.nih.gov/record/ui?ui=D010518', 'Oral Lichen Planus': 'https://meshb.nlm.nih.gov/record/ui?ui=D017676', 'Hypertension': 'https://meshb.nlm.nih.gov/record/ui?ui=D006973', 'Carcinoma, Lung': '', 'Leiomyoma': 'https://meshb.nlm.nih.gov/record/ui?ui=D007889', 'Carcinoma, Breast': 'https://meshb.nlm.nih.gov/record/ui?ui=D001943', 'Kideny Transplant Rejection': '', 'Mitochondrial Metabolism Disease': '', 'Osteoporosis': 'https://meshb.nlm.nih.gov/record/ui?ui=D010024', 'Diabetes Mellitus, Type 2': 'https://meshb.nlm.nih.gov/record/ui?ui=D003924', 'Autism Spectrum Disorder': 'https://meshb.nlm.nih.gov/record/ui?ui=D000067877', 'Chronic Inflammation': '', 'Adenocarcinoma, Colon': 'https://meshb.nlm.nih.gov/record/ui?ui=D003110', 'Human Papilloma Virus Infection': '', 'Vascular Disease [unspecific]': 'https://meshb.nlm.nih.gov/record/ui?ui=D014652', 'Cerebral Cavernous Malformations': 'https://meshb.nlm.nih.gov/record/ui?ui=D020786', 'Carcinoma, Adenoid Cystic': 'https://meshb.nlm.nih.gov/record/ui?ui=D003528', 'Nephrotic Syndrome': 'https://meshb.nlm.nih.gov/record/ui?ui=D009404', 'Endocrine Gland Neoplasms': 'https://meshb.nlm.nih.gov/record/ui?ui=D004701', 'Ischemia': 'https://meshb.nlm.nih.gov/record/ui?ui=D007511', 'Fibromatosis, Aggressive': 'https://meshb.nlm.nih.gov/record/ui?ui=D018222', 'Pituitary Neoplasms': 'https://meshb.nlm.nih.gov/record/ui?ui=D010911', 'Stroke': 'https://meshb.nlm.nih.gov/record/ui?ui=D020521', 'Vasomotor Rhinitis': 'https://meshb.nlm.nih.gov/record/ui?ui=D012223', 'Alcoholic Cardiomyopathy': 'https://meshb.nlm.nih.gov/record/ui?ui=D002310', 'Ovarian Germ Cell Cancer': 'https://meshb.nlm.nih.gov/record/ui?ui=C562841', 'NUT Midline Carcinoma': '', 'Infection [unspecific]': 'https://meshb.nlm.nih.gov/record/ui?ui=D007239', 'Carcinoma, Endometrioid Endometrial': '', 'Carcinoma, Hepatocellular, HBV-Related': '', 'Urinary System Cancer': '', 'Myasthenia Gravis': 'https://meshb.nlm.nih.gov/record/ui?ui=D009157', 'Oligodendroglioma': 'https://meshb.nlm.nih.gov/record/ui?ui=D009837', 'Uterine Leiomyoma': '', 'Irritable Bowel Syndrome': 'https://meshb.nlm.nih.gov/record/ui?ui=D043183', 'Carcinosarcoma': 'https://meshb.nlm.nih.gov/record/ui?ui=D002296', 'Endometrial Stromal Sarcoma': 'https://meshb.nlm.nih.gov/record/ui?ui=D018203', 'Leiomyosarcoma': 'https://meshb.nlm.nih.gov/record/ui?ui=D007890', 'Amyotrophic Lateral Sclerosis': 'https://meshb.nlm.nih.gov/record/ui?ui=D000690', 'Infertility': 'https://meshb.nlm.nih.gov/record/ui?ui=D007246', 'Idiopathic Pulmonary Fibrosis': 'https://meshb.nlm.nih.gov/record/ui?ui=D054990', 'Human Cytomegalovirus Infection': '', 'Rhinosinusitis': '', 'Carcinoma, Embryonal': 'https://meshb.nlm.nih.gov/record/ui?ui=D018236', 'Autistic Disorder': 'https://meshb.nlm.nih.gov/record/ui?ui=D001321', 'Brain Neoplasms': 'https://meshb.nlm.nih.gov/record/ui?ui=D001932', 'Azoospermia': 'https://meshb.nlm.nih.gov/record/ui?ui=D053713', 'Leukemia, Myelogenous, Chronic, BCR-ABL Positive': 'https://meshb.nlm.nih.gov/record/ui?ui=D015464', 'Breast Adenocarcinoma': '', 'Immune System Disease [unspecific]': 'https://meshb.nlm.nih.gov/record/ui?ui=D007154', 'Bone Disease [unspecific]': 'https://meshb.nlm.nih.gov/record/ui?ui=D001847', 'Nevus': 'https://meshb.nlm.nih.gov/record/ui?ui=D009506', 'Cerebral Malaria': 'https://meshb.nlm.nih.gov/record/ui?ui=D016779', 'Frontotemporal Lobar Degeneration': 'https://meshb.nlm.nih.gov/record/ui?ui=D057174', 'Rheumatoid Arthritis': 'https://meshb.nlm.nih.gov/record/ui?ui=D001172', 'Lupus Nephritis': 'https://meshb.nlm.nih.gov/record/ui?ui=D008181', 'Shock, Septic': 'https://meshb.nlm.nih.gov/record/ui?ui=D012772', 'Carcinoma, Thyroid, Medullary': '', 'Mesial Temporal Lobe Epilepsy': '', 'Myeloproliferative Neoplasms': '', 'Viral Myocarditis': '', 'Carcinoma, Skin': '', 'Lymphoma, Large B-Cell': '', 'Chordoma': 'https://meshb.nlm.nih.gov/record/ui?ui=D002817', 'Carcinoma, Ovarian, Serous': '', 'Wounds and Injuries [unspecific]': 'https://meshb.nlm.nih.gov/record/ui?ui=D014947', 'Pterygium': 'https://meshb.nlm.nih.gov/record/ui?ui=D011625', 'Oral Leukoplakia': 'https://meshb.nlm.nih.gov/record/ui?ui=D007972', 'Down Syndrome': 'https://meshb.nlm.nih.gov/record/ui?ui=D004314', 'Traumatic Brain Injury': 'https://meshb.nlm.nih.gov/record/ui?ui=D000070642', 'Psychiatric Disorders': 'https://meshb.nlm.nih.gov/record/ui?ui=D001523', 'Bronchopulmonary Dysplasia': 'https://meshb.nlm.nih.gov/record/ui?ui=D001997', 'Thyroid Lymphoma': '', 'Carcinoma, Endometrial': 'https://meshb.nlm.nih.gov/record/ui?ui=D016889', 'Liposarcoma': 'https://meshb.nlm.nih.gov/record/ui?ui=D008080', 'Carcinoma, Thyroid': 'https://meshb.nlm.nih.gov/record/ui?ui=D013964', 'Mycobacterium Avium Complex Disease': '', 'Polycystic Kidney Disease': 'https://meshb.nlm.nih.gov/record/ui?ui=D007690', 'Neuroendocrine Tumors': 'https://meshb.nlm.nih.gov/record/ui?ui=D018358', 'Autoimmune Thyroiditis': 'https://meshb.nlm.nih.gov/record/ui?ui=D013967', 'Carcinoma, Periampullary': '', 'Early-Stage Gastric Carcinoma': '', 'Diabetes Mellitus, Gestational': 'https://meshb.nlm.nih.gov/record/ui?ui=D016640', 'Carcinoma, Thyroid, Follicular': '', 'Stroke, Hemorrhagic': 'https://meshb.nlm.nih.gov/record/ui?ui=D000083302', 'Carcinoma, Supraglottic': '', 'Recurrent Spontaneous Abortion': '', 'Uterine Corpus Serous Adenocarcinoma': '', 'Varicella': 'https://meshb.nlm.nih.gov/record/ui?ui=D002644', 'Post-Traumatic Stress Disorder': 'https://meshb.nlm.nih.gov/record/ui?ui=D013313', 'Keloid': 'https://meshb.nlm.nih.gov/record/ui?ui=D007627', 'Perlman Syndrome': 'https://meshb.nlm.nih.gov/record/ui?ui=C536399', 'Muscle Atrophy': 'https://meshb.nlm.nih.gov/record/ui?ui=D009133', 'Acute Liver Failure': 'https://meshb.nlm.nih.gov/record/ui?ui=D017114', 'Pallister-Killian Syndrome': 'https://meshb.nlm.nih.gov/record/ui?ui=C538105', 'Multiple System Atrophy': 'https://meshb.nlm.nih.gov/record/ui?ui=D019578', 'Digeorge Syndrome': 'https://meshb.nlm.nih.gov/record/ui?ui=D004062', 'Lymphoproliferative Disorders': 'https://meshb.nlm.nih.gov/record/ui?ui=D008232', 'Male Infertility': 'https://meshb.nlm.nih.gov/record/ui?ui=D007248', 'Heart Transplant Rejection': '', 'Adenocarcinoma, Cervical': '', 'Intracranial Aneurysm': 'https://meshb.nlm.nih.gov/record/ui?ui=D002532', 'Adenocarcinoma, Gastric-Esophageal Junction': '', 'Ovarian Disease': 'https://meshb.nlm.nih.gov/record/ui?ui=D010049', 'Colorectal Adenoma': '', 'Squamous Cell Carcinoma, Tongue': '', 'Small Cell Carcinoma, Esophageal': '', 'Muscle Diseases [unspecific]': '', 'Head And Neck Adenoid Cystic Carcinoma': '', 'Medulloepithelioma': 'https://meshb.nlm.nih.gov/record/ui?ui=D018242', 'Spinal Chordoma': '', 'Non-Traumatic Osteonecrosis': '', 'Intrahepatic Cholangiocarcinoma': 'https://meshb.nlm.nih.gov/record/ui?ui=D018281', 'Chronic Pancreatitis': 'https://meshb.nlm.nih.gov/record/ui?ui=D050500', 'Rectal Neoplasms': 'https://meshb.nlm.nih.gov/record/ui?ui=D012004', 'Carcinoma, Renal Cell, Chromophobe': '', 'Necrotizing Enterocolitis': 'https://meshb.nlm.nih.gov/record/ui?ui=D020345', 'Uterine Corpus Myxoid Leiomyosarcoma': '', 'Carcinoma, Urothelial, Upper Tract': '', 'Hypertrophic Scar': 'https://meshb.nlm.nih.gov/record/ui?ui=D017439', 'Pulmonary Sarcoidosis': 'https://meshb.nlm.nih.gov/record/ui?ui=D017565', 'Neuroepithelial Tumors': 'https://meshb.nlm.nih.gov/record/ui?ui=D018302', 'Diabetic Foot': 'https://meshb.nlm.nih.gov/record/ui?ui=D017719', 'Myocardial Ischemic-Reperfusion Injury': '', 'Gastric Cardia Adenocarcinoma': '', 'Vogt-Koyanagi-Harada Disease': 'https://meshb.nlm.nih.gov/record/ui?ui=D014607', 'Silicosis': 'https://meshb.nlm.nih.gov/record/ui?ui=D012829', 'Oral Neoplasms': 'https://meshb.nlm.nih.gov/record/ui?ui=D009062', 'Balkan Nephropathy': 'https://meshb.nlm.nih.gov/record/ui?ui=D001449', 'Soft Tissue Sarcoma': 'https://meshb.nlm.nih.gov/record/ui?ui=D012509', 'Rectum Adenocarcinoma': '', 'Liver Injury': '', 'Chronic Brucellosis': '', 'Borna Disease': 'https://meshb.nlm.nih.gov/record/ui?ui=D001890', 'Ischemic Diseases [unspecific]': '', 'Carcinoma, Urothelial': '', 'Polyangiitis': '', 'Reproductive System Disease': '', 'Epilepsy': 'https://meshb.nlm.nih.gov/record/ui?ui=D004827', 'Cerebral Aneurysm': 'https://meshb.nlm.nih.gov/record/ui?ui=D002532', 'Guillain-Barre Syndrome': 'https://meshb.nlm.nih.gov/record/ui?ui=D020275', 'Peritoneal Dialysis Failure': '', 'Stroke, Ischemic': 'https://meshb.nlm.nih.gov/record/ui?ui=D000083242', 'Aortic Aneurysm': 'https://meshb.nlm.nih.gov/record/ui?ui=D001014', 'Porphyromonas Gingivalis': 'https://meshb.nlm.nih.gov/record/ui?ui=D016966', 'Lyme Disease': 'https://meshb.nlm.nih.gov/record/ui?ui=D008193', 'Adenocarcinoma, Sebaceous': 'https://meshb.nlm.nih.gov/record/ui?ui=D018266', 'Penis Carcinoma': '', 'Endomyocardial Fibrosis': 'https://meshb.nlm.nih.gov/record/ui?ui=D004719', 'Gestational Trophoblastic Disease': 'https://meshb.nlm.nih.gov/record/ui?ui=D031901', 'Toxoplasma gondii Infection': 'https://meshb.nlm.nih.gov/record/ui?ui=D014123', 'Thymoma': 'https://meshb.nlm.nih.gov/record/ui?ui=D013945', 'Carcinoma, Tounge': '', 'Sertoli Cell-Only Syndrome': 'https://meshb.nlm.nih.gov/record/ui?ui=D054331', 'Mastitis': 'https://meshb.nlm.nih.gov/record/ui?ui=D008413', 'Pancreatic Adenocarcinoma': '', 'Skin Hemangioma': '', 'African Swine Fever': 'https://meshb.nlm.nih.gov/record/ui?ui=D000357', 'Carcinoma, Mucoepidermoid': 'https://meshb.nlm.nih.gov/record/ui?ui=D018277', 'Vulvar Squamous Tumor': '', 'Mitral Valve Disease': '', 'Acute Peritonitis': '', 'Peritoneal Neoplasms': 'https://meshb.nlm.nih.gov/record/ui?ui=D010534', 'Diabetic Peripheral Neuropathy': '', 'Parathyroid Carcinoma': 'https://meshb.nlm.nih.gov/record/ui?ui=D010282', 'Uterine Corpus Endometrial Carcinoma': '', 'Germ Cell Tumor': 'https://meshb.nlm.nih.gov/record/ui?ui=D009373', 'Pediatric Ependymoma': '', 'Hearing Disorders': 'https://meshb.nlm.nih.gov/record/ui?ui=D006311', 'Liver Fibrosis': 'https://meshb.nlm.nih.gov/record/ui?ui=D008103', 'Ganglioglioma': 'https://meshb.nlm.nih.gov/record/ui?ui=D018303', 'Glaucoma': 'https://meshb.nlm.nih.gov/record/ui?ui=D005901', 'Renal Oncocytoma': 'https://meshb.nlm.nih.gov/record/ui?ui=C537750', 'Smoke Inhalation Injury': 'https://meshb.nlm.nih.gov/record/ui?ui=D015208', 'Tetralogy Of Fallot': 'https://meshb.nlm.nih.gov/record/ui?ui=D013771', 'Carcinoma, Head And Neck': '', 'Cardiac Myxoma': '', 'Pancreatic Endocrine Carcinoma': '', 'Prader-Willi Syndrome': 'https://meshb.nlm.nih.gov/record/ui?ui=D011218', 'X-linked Alport Syndrome': 'https://meshb.nlm.nih.gov/record/ui?ui=D009394', 'Lymphoma, Hodgkin': 'https://meshb.nlm.nih.gov/record/ui?ui=D006689', 'Leukemia, B-Cell': 'https://meshb.nlm.nih.gov/record/ui?ui=D015448', 'Leukemia-Lymphoma, Precursor B-Cell Lymphoblastic': '', 'Breast Ductal Carcinoma': '', 'Eclampsia': 'https://meshb.nlm.nih.gov/record/ui?ui=D004461', 'Cholesteatoma': 'https://meshb.nlm.nih.gov/record/ui?ui=D002781', 'Hematologic Neoplasms': 'https://meshb.nlm.nih.gov/record/ui?ui=D019337', 'Nephrosclerosis': 'https://meshb.nlm.nih.gov/record/ui?ui=D009400', 'Retinal Degeneration': 'https://meshb.nlm.nih.gov/record/ui?ui=D012162', 'Leukemia, Biphenotypic, Acute': 'https://meshb.nlm.nih.gov/record/ui?ui=D015456', 'Rhabdomyosarcoma': 'https://meshb.nlm.nih.gov/record/ui?ui=D012208', 'Niemann-Pick Disease, Type C': 'https://meshb.nlm.nih.gov/record/ui?ui=D052556', 'Neurilemmoma': 'https://meshb.nlm.nih.gov/record/ui?ui=D009442', 'Synovial Sarcoma': 'https://meshb.nlm.nih.gov/record/ui?ui=D013584', 'Sezary Disease': '', 'Liver Failure': 'https://meshb.nlm.nih.gov/record/ui?ui=D017093', 'Renal Fibrosis': '', 'Leukemia, Myeloid': 'https://meshb.nlm.nih.gov/record/ui?ui=D007951', 'Biliary Tract Neoplasms': 'https://meshb.nlm.nih.gov/record/ui?ui=D001661', 'Carcinoma, Ehrlich Tumor': 'https://meshb.nlm.nih.gov/record/ui?ui=D002286', 'Alopecia': 'https://meshb.nlm.nih.gov/record/ui?ui=D000505', 'Creutzfeldt-Jakob Disease': 'https://meshb.nlm.nih.gov/record/ui?ui=D007562', 'Gerstmann-Straussler-Scheinker Syndrome': 'https://meshb.nlm.nih.gov/record/ui?ui=D016098', 'Pheochromocytoma': 'https://meshb.nlm.nih.gov/record/ui?ui=D010673', 'Graft-Versus-Host Disease': 'https://meshb.nlm.nih.gov/record/ui?ui=D006086', 'Multiple Endocrine Neoplasia Type 1': 'https://meshb.nlm.nih.gov/record/ui?ui=D018761', 'Demyelinating Diseases': 'https://meshb.nlm.nih.gov/record/ui?ui=D003711', 'Liver Diseases, Alcoholic': 'https://meshb.nlm.nih.gov/record/ui?ui=D008108', 'Eosinophilic Esophagitis': 'https://meshb.nlm.nih.gov/record/ui?ui=D057765', 'Carcinoma, Neuroendocrine': 'https://meshb.nlm.nih.gov/record/ui?ui=D018278', 'Acute Lung Injury': 'https://meshb.nlm.nih.gov/record/ui?ui=D055371', 'Seminoma': 'https://meshb.nlm.nih.gov/record/ui?ui=D018239', 'Esophagitis': 'https://meshb.nlm.nih.gov/record/ui?ui=D004941', 'Aortic Aneurysm, Abdominal': 'https://meshb.nlm.nih.gov/record/ui?ui=D017544', 'Ankylosing Spondylitis': 'https://meshb.nlm.nih.gov/record/ui?ui=D013167', 'Intestinal Schistosomiasis': 'https://meshb.nlm.nih.gov/record/ui?ui=D012555', 'Pediatric Osteosarcoma': '', 'Salmonellosis': 'https://meshb.nlm.nih.gov/record/ui?ui=D012480', 'Pancreatic Intraductal Papillary Mucinous Neoplasms': '', 'Acute Kidney Failure': 'https://meshb.nlm.nih.gov/record/ui?ui=D058186', 'Knee Osteoarthritis': 'https://meshb.nlm.nih.gov/record/ui?ui=D020370', 'Early-Stage Breast Carcinoma': '', 'Macular Degeneration': 'https://meshb.nlm.nih.gov/record/ui?ui=D008268', 'Chronic Hepatitis': 'https://meshb.nlm.nih.gov/record/ui?ui=D006521', 'HIV-Associated Lipodystrophy': 'https://meshb.nlm.nih.gov/record/ui?ui=D039682', 'Carcinoma, Gingival': '', 'Osteonecrosis': 'https://meshb.nlm.nih.gov/record/ui?ui=D010020', 'Gastroduodenal Ulcer': 'https://meshb.nlm.nih.gov/record/ui?ui=D010437', 'Hyperglycemia': 'https://meshb.nlm.nih.gov/record/ui?ui=D006943', 'Follicular Atresia': 'https://meshb.nlm.nih.gov/record/ui?ui=D005496', 'Cataract': 'https://meshb.nlm.nih.gov/record/ui?ui=D002386', 'Sebaceous Carcinoma': '', 'Leukemia-Lymphoma, Adult T-Cell': 'https://meshb.nlm.nih.gov/record/ui?ui=D015459', 'Gaucher Disease': 'https://meshb.nlm.nih.gov/record/ui?ui=D005776', 'Vulvar Squamous Cell Carcinoma': '', 'Scleroderma, Localized': 'https://meshb.nlm.nih.gov/record/ui?ui=D012594', 'Toxic Encephalopathy': 'https://meshb.nlm.nih.gov/record/ui?ui=D020258', 'Aneurysmal Subarachnoid Hemorrhage': 'https://meshb.nlm.nih.gov/record/ui?ui=D013345', 'Lymphoma, Mantle-Cell': 'https://meshb.nlm.nih.gov/record/ui?ui=D020522', 'Chronic Alcohol-Induced Alveolar Macrophage Dysfunction': '', 'Helicobacter pylori Infection': '', 'Hypoxic-Ischemic Encephalopathy': 'https://meshb.nlm.nih.gov/record/ui?ui=D020925', 'Alcoholic Hepatitis': 'https://meshb.nlm.nih.gov/record/ui?ui=D006519', 'Acute Pancreatitis': 'https://meshb.nlm.nih.gov/record/ui?ui=D010195', 'Shock, Hemorrhagic': 'https://meshb.nlm.nih.gov/record/ui?ui=D012771', 'Proliferative Vitreoretinal Disease': '', 'Cerebral Ischemia': 'https://meshb.nlm.nih.gov/record/ui?ui=D002545', 'Otitis Media': 'https://meshb.nlm.nih.gov/record/ui?ui=D010033', 'Seizures': 'https://meshb.nlm.nih.gov/record/ui?ui=D012640', 'Carcinoma, Gastrooesophageal': '', 'Chorioamnionitis': 'https://meshb.nlm.nih.gov/record/ui?ui=D002821', 'Adenosquamous Pancreas Carcinoma': '', 'Congenital Heart Diseases': 'https://meshb.nlm.nih.gov/record/ui?ui=D006330', 'Non Specific Chronic Endometritis': '', 'Adenocarcinoma, Ampullary': '', 'Fragile X Syndrome': 'https://meshb.nlm.nih.gov/record/ui?ui=D005600', 'Lupus Vulgaris': 'https://meshb.nlm.nih.gov/record/ui?ui=D008177', 'Leukemia, Myeloid, Chronic-Phase': 'https://meshb.nlm.nih.gov/record/ui?ui=D015466', 'Marek Disease': 'https://meshb.nlm.nih.gov/record/ui?ui=D008380', 'Child Development Disorders, Pervasive': 'https://meshb.nlm.nih.gov/record/ui?ui=D002659', 'Lymphoma, Large-Cell, Anaplastic': 'https://meshb.nlm.nih.gov/record/ui?ui=D017728', 'Hemangioma': 'https://meshb.nlm.nih.gov/record/ui?ui=D006391', 'Graves Disease': 'https://meshb.nlm.nih.gov/record/ui?ui=D006111', 'Methylmalonic Acidemia': 'https://meshb.nlm.nih.gov/record/ui?ui=C537358', 'Acute Cerebral Infarction': '', 'Premature Ovarian Failure': 'https://meshb.nlm.nih.gov/record/ui?ui=D016649', 'Arrhythmia': 'https://meshb.nlm.nih.gov/record/ui?ui=D001145', 'Plasmodium vivax Infection': '', 'Dengue Virus Infection': '', 'Acute Heart Failure': '', 'Spondylarthritis': 'https://meshb.nlm.nih.gov/record/ui?ui=D025241', 'Leukemia, Myeloid, Acute, Pediatric': '', 'Anxiety Disorders': 'https://meshb.nlm.nih.gov/record/ui?ui=D001008', 'Carotid Artery Diseases': 'https://meshb.nlm.nih.gov/record/ui?ui=D002340', 'Acute Ischemic Stroke': 'https://meshb.nlm.nih.gov/record/ui?ui=D000083242', 'Aortic Valve Disease': 'https://meshb.nlm.nih.gov/record/ui?ui=D000082862', 'Leukemia, Lymphoblastic, Acute, Childhood': '', 'Leukemia, Lymphoblastic, Acute': 'https://meshb.nlm.nih.gov/record/ui?ui=D054198', 'Frontotemporal Dementia': 'https://meshb.nlm.nih.gov/record/ui?ui=D057180', 'Familial Mediterranean Fever': 'https://meshb.nlm.nih.gov/record/ui?ui=D010505', 'Arthritis': 'https://meshb.nlm.nih.gov/record/ui?ui=D001168', 'Anemia': 'https://meshb.nlm.nih.gov/record/ui?ui=D000740', 'Hyperactivity Disorder': '', 'Heart Diseases [unspecific]': 'https://meshb.nlm.nih.gov/record/ui?ui=D006331', 'Metabolic Syndrome': 'https://meshb.nlm.nih.gov/record/ui?ui=D024821', 'Leukemia, Acute': '', 'Muscular Dystrophy, Duchenne': 'https://meshb.nlm.nih.gov/record/ui?ui=D020388', 'Acute Cerebral Ischemia': '', 'Giant Cell Tumor of Bone': 'https://meshb.nlm.nih.gov/record/ui?ui=D018212', 'Lung Disease [unspecific]': 'https://meshb.nlm.nih.gov/record/ui?ui=D008171', 'Machado-Joseph Disease': 'https://meshb.nlm.nih.gov/record/ui?ui=D017827', 'Ovary Mixed Epithelial Carcinoma': '', 'Peripheral Vascular Disease': 'https://meshb.nlm.nih.gov/record/ui?ui=D016491', 'Hereditary Breast Carcinoma': '', 'HELLP Syndrome': 'https://meshb.nlm.nih.gov/record/ui?ui=D017359', 'Mild Cognitive Impairment': 'https://meshb.nlm.nih.gov/record/ui?ui=D060825', 'Immune Thrombocytopenic Purpura': 'https://meshb.nlm.nih.gov/record/ui?ui=D016553', 'Early-Stage Non-Small-Cell Lung Carcinoma': '', 'Early-Stage Lung Carcinoma': '', 'Non-Neoplastic Diseases': '', 'Influenza': 'https://meshb.nlm.nih.gov/record/ui?ui=D007251', 'Focal Segmental Glomerulosclerosis': 'https://meshb.nlm.nih.gov/record/ui?ui=D005923', 'Proliferative Diabetic Retinopathy': '', 'Macroglobulinemia': 'https://meshb.nlm.nih.gov/record/ui?ui=D008258', 'Prediabetes': 'https://meshb.nlm.nih.gov/record/ui?ui=D011236', 'Unstable Angina': 'https://meshb.nlm.nih.gov/record/ui?ui=D000789', 'Carcinoma, Biliary Tract': '', 'Allergic Asthma': '', 'Acute Coronary Syndrome': 'https://meshb.nlm.nih.gov/record/ui?ui=D054058', 'Carcinoma, Gallbladder': '', 'Brain Disease [unspecific]': 'https://meshb.nlm.nih.gov/record/ui?ui=D001927', 'Vasculitis': 'https://meshb.nlm.nih.gov/record/ui?ui=D014657', 'Mycobacterium tuberculosis Infection': 'https://meshb.nlm.nih.gov/record/ui?ui=D014376', 'Coronary Atherosclerosis': 'https://meshb.nlm.nih.gov/record/ui?ui=D003324', 'Carcinoma, Hepatocellular, HCV-Related': '', 'Essential Hypertension': 'https://meshb.nlm.nih.gov/record/ui?ui=D000075222', 'Angiosarcoma': 'https://meshb.nlm.nih.gov/record/ui?ui=D006394', 'Rheumatic Heart Diseases': 'https://meshb.nlm.nih.gov/record/ui?ui=D012214', 'Major Depressive Disorder': 'https://meshb.nlm.nih.gov/record/ui?ui=D003865', 'Inherited Hemoglobin Disease': '', 'Myotonic Dystrophy Type 1': '', 'Autoimmune Lymphoproliferative Syndrome': 'https://meshb.nlm.nih.gov/record/ui?ui=D056735', 'Idiopathic Asthenospermia': '', 'Aplastic Anemia': 'https://meshb.nlm.nih.gov/record/ui?ui=D000741', 'Age-Related Macular Degeneration': 'https://meshb.nlm.nih.gov/record/ui?ui=D008268', 'Lofgren Syndrome': '', 'Kidney Injury': '', 'Neuralgia, Postherpetic': 'https://meshb.nlm.nih.gov/record/ui?ui=D051474', 'Foot-and-Mouth Disease': 'https://meshb.nlm.nih.gov/record/ui?ui=D005536', 'Hyperhomocysteinemia': 'https://meshb.nlm.nih.gov/record/ui?ui=D020138', 'Hyperlipoproteinemia Type III': 'https://meshb.nlm.nih.gov/record/ui?ui=D006952', 'Peripheral Nervous System Diseases': 'https://meshb.nlm.nih.gov/record/ui?ui=D010523', 'Celiac Disease': 'https://meshb.nlm.nih.gov/record/ui?ui=D002446', 'Transitional Cell Carcinoma': 'https://meshb.nlm.nih.gov/record/ui?ui=D002295', 'Crohn Colitis': '', 'Bicuspid Aortic Valve Disease': 'https://meshb.nlm.nih.gov/record/ui?ui=D000082882', 'Friedreich Ataxia': 'https://meshb.nlm.nih.gov/record/ui?ui=D005621', 'Dementia': 'https://meshb.nlm.nih.gov/record/ui?ui=D003704', 'Chagas Disease': 'https://meshb.nlm.nih.gov/record/ui?ui=D014355', 'Proliferative Glomerulonephritis': '', 'Diabetic Retinopathy': 'https://meshb.nlm.nih.gov/record/ui?ui=D003930', 'Uterine Cancer': 'https://meshb.nlm.nih.gov/record/ui?ui=D014594', 'Primary Sclerosing Cholangitis': 'https://meshb.nlm.nih.gov/record/ui?ui=D015209', 'Cystic Fibrosis': 'https://meshb.nlm.nih.gov/record/ui?ui=D003550', 'Hepatic Veno-Occlusive Disease': 'https://meshb.nlm.nih.gov/record/ui?ui=D006504', 'Frailty': 'https://meshb.nlm.nih.gov/record/ui?ui=D000073496', 'Hepatitis [unspecific]': 'https://meshb.nlm.nih.gov/record/ui?ui=D006505', 'Testicular Germ Cell Tumor': 'https://meshb.nlm.nih.gov/record/ui?ui=C563236', 'Vascular Myelopathy': '', 'Focal Epithelial Hyperplasia': 'https://meshb.nlm.nih.gov/record/ui?ui=D017573', 'Eczema Herpeticum': 'https://meshb.nlm.nih.gov/record/ui?ui=D007617', 'Cerebellum Cancer': '', 'Tongue Neoplasms': 'https://meshb.nlm.nih.gov/record/ui?ui=D014062', 'Fatty Liver, Alcoholic': 'https://meshb.nlm.nih.gov/record/ui?ui=D005235', 'Pulmonary Embolism': 'https://meshb.nlm.nih.gov/record/ui?ui=D011655', 'Hyperlipidemia': 'https://meshb.nlm.nih.gov/record/ui?ui=D006949', 'Idiopathic Short Stature': '', 'Systemic Lupus Erythematosus, With Pericarditis': '', 'Moyamoya Disease': 'https://meshb.nlm.nih.gov/record/ui?ui=D009072', 'Cardiac Allograft Vasculopathy': '', 'Hypercholesterolaemia': '', 'Chronic Fatigue Syndrome': 'https://meshb.nlm.nih.gov/record/ui?ui=D015673', 'Depression Disorder': '', 'Hearing Loss': 'https://meshb.nlm.nih.gov/record/ui?ui=D034381', 'Migraine': 'https://meshb.nlm.nih.gov/record/ui?ui=D008881', 'Peripheral Nerve Injury': 'https://meshb.nlm.nih.gov/record/ui?ui=D059348', 'Glycogen Storage Disease II': 'https://meshb.nlm.nih.gov/record/ui?ui=D006009', 'Amyloidosis': 'https://meshb.nlm.nih.gov/record/ui?ui=D000686', 'Central Nervous System Embryonal Tumor': '', 'Pelvic Inflammatory Disease': 'https://meshb.nlm.nih.gov/record/ui?ui=D000292', 'Graves Ophthalmopathy': 'https://meshb.nlm.nih.gov/record/ui?ui=D049970', 'Intermittent Claudication': 'https://meshb.nlm.nih.gov/record/ui?ui=D007383', 'Toxic Epidermal Necrolysis': 'https://meshb.nlm.nih.gov/record/ui?ui=D013262', 'Autoimmune Hepatitis': 'https://meshb.nlm.nih.gov/record/ui?ui=D019693', 'Encephalitis': 'https://meshb.nlm.nih.gov/record/ui?ui=D004660', 'B-cell Childhood Acute Lymphoblastic Leukemia': '', 'Stevens-Johnson Syndrome': 'https://meshb.nlm.nih.gov/record/ui?ui=D013262', 'Plasmodium Falciparum Malaria': 'https://meshb.nlm.nih.gov/record/ui?ui=D016778', 'Progressive Supranuclear Palsy': 'https://meshb.nlm.nih.gov/record/ui?ui=D013494', 'Idiopathic Pulmonary Hypertension': 'https://meshb.nlm.nih.gov/record/ui?ui=D065627', 'Primary Immunodeficiency Disease': 'https://meshb.nlm.nih.gov/record/ui?ui=D000081207', 'Hypogonadotropic Hypogonadism': 'https://meshb.nlm.nih.gov/record/ui?ui=D007006', 'Gout': 'https://meshb.nlm.nih.gov/record/ui?ui=D006073', 'Tourette Syndrome': 'https://meshb.nlm.nih.gov/record/ui?ui=D005879', 'Encephalomyelitis': 'https://meshb.nlm.nih.gov/record/ui?ui=D004679', 'Vascular Injuries': 'https://meshb.nlm.nih.gov/record/ui?ui=D057772', 'Listeriosis': 'https://meshb.nlm.nih.gov/record/ui?ui=D008088', 'Acute Erythroid Leukemia': '', 'Gastrointestinal Stromal Tumor': 'https://meshb.nlm.nih.gov/record/ui?ui=D046152', 'Sensorineural Hearing Loss': 'https://meshb.nlm.nih.gov/record/ui?ui=D006319', 'Fanconi Anemia': 'https://meshb.nlm.nih.gov/record/ui?ui=D005199', 'Juvenile Rheumatoid Arthritis': 'https://meshb.nlm.nih.gov/record/ui?ui=D001171', 'Cytotoxicity Tests, Immunologic': 'https://meshb.nlm.nih.gov/record/ui?ui=D003601', 'Neovascularization, Pathologic': 'https://meshb.nlm.nih.gov/record/ui?ui=D009389', 'Wound Healing': 'https://meshb.nlm.nih.gov/record/ui?ui=D014945', 'Neuropathic Pain': 'https://meshb.nlm.nih.gov/record/ui?ui=D009437', 'Congenital Diaphragmatic Hernia': 'https://meshb.nlm.nih.gov/record/ui?ui=D065630', 'Neuroinflammation': 'https://meshb.nlm.nih.gov/record/ui?ui=D000090862', 'Lymphoma, T-Cell, Cutaneous': 'https://meshb.nlm.nih.gov/record/ui?ui=D016410', 'Hypoxia': 'https://meshb.nlm.nih.gov/record/ui?ui=D000860', 'Carcinoma, Salivary Adenoid Cystic': '', 'Chronic Pain': 'https://meshb.nlm.nih.gov/record/ui?ui=D059350', 'Lacrimal Adenoid Cystic Carcinoma': '', 'Invasive Bladder Transitional Cell Carcinoma': '', 'Granular Corneal Dystrophy': '', 'Allergy': 'https://meshb.nlm.nih.gov/record/ui?ui=D006967', 'Cardiomyopathy, Ischemic': ''}\n"
          ]
        }
      ]
    },
    {
      "cell_type": "code",
      "source": [
        "site = []\n",
        "for i in range(len(df_cir_full)):\n",
        "  site.append(site_dictionary[df_cir_full.iloc[i]['disease']])\n",
        "df_cir_full['site'] = site\n",
        "df_cir_full"
      ],
      "metadata": {
        "id": "g13dbGBalKgW",
        "colab": {
          "base_uri": "https://localhost:8080/",
          "height": 424
        },
        "outputId": "e974c5e4-e138-4ab5-cac2-005918f3a30d"
      },
      "execution_count": null,
      "outputs": [
        {
          "output_type": "execute_result",
          "data": {
            "text/plain": [
              "             Mature_name                       seq             mir result  \\\n",
              "0        hsa-miR-125a-5p  UCCCUGAGACCCUUUAACCUGUGA    hsa-mir-125a   down   \n",
              "1        hsa-miR-125a-3p    ACAGGUGAGGUUCUUGGGAGCC    hsa-mir-125a   down   \n",
              "2        hsa-miR-125b-5p    UCCCUGAGACCCUAACUUGUGA  hsa-mir-125b-1   down   \n",
              "3      hsa-miR-125b-1-3p    ACGGGUUAGGCUCUUGGGAGCU  hsa-mir-125b-1   down   \n",
              "4        hsa-miR-125b-5p    UCCCUGAGACCCUAACUUGUGA  hsa-mir-125b-2   down   \n",
              "...                  ...                       ...             ...    ...   \n",
              "20814     hsa-miR-27b-3p     UUCACAGUGGCUAAGUUCUGC     hsa-mir-27b   down   \n",
              "20815     hsa-miR-140-5p    CAGUGGUUUUACCCUAUGGUAG     hsa-mir-140   down   \n",
              "20816     hsa-miR-140-3p     UACCACAGGGUAGAACCACGG     hsa-mir-140   down   \n",
              "20817     hsa-miR-410-5p     AGGUUGUCUGUGAUGAGUUCG     hsa-mir-410   down   \n",
              "20818     hsa-miR-410-3p     AAUAUAACACAGAUGGCCUGU     hsa-mir-410   down   \n",
              "\n",
              "                                disease  result_soft  \\\n",
              "0                      Breast Neoplasms    -1.000000   \n",
              "1                      Breast Neoplasms    -1.000000   \n",
              "2                      Breast Neoplasms    -0.333333   \n",
              "3                      Breast Neoplasms    -0.333333   \n",
              "4                      Breast Neoplasms    -0.250000   \n",
              "...                                 ...          ...   \n",
              "20814               Atrial Fibrillation    -1.000000   \n",
              "20815  Intervertebral Disc Degeneration    -1.000000   \n",
              "20816  Intervertebral Disc Degeneration    -1.000000   \n",
              "20817         Carcinoma, Hepatocellular    -1.000000   \n",
              "20818         Carcinoma, Hepatocellular    -1.000000   \n",
              "\n",
              "                                                 site  \n",
              "0      https://meshb.nlm.nih.gov/record/ui?ui=D001943  \n",
              "1      https://meshb.nlm.nih.gov/record/ui?ui=D001943  \n",
              "2      https://meshb.nlm.nih.gov/record/ui?ui=D001943  \n",
              "3      https://meshb.nlm.nih.gov/record/ui?ui=D001943  \n",
              "4      https://meshb.nlm.nih.gov/record/ui?ui=D001943  \n",
              "...                                               ...  \n",
              "20814  https://meshb.nlm.nih.gov/record/ui?ui=D001281  \n",
              "20815  https://meshb.nlm.nih.gov/record/ui?ui=D055959  \n",
              "20816  https://meshb.nlm.nih.gov/record/ui?ui=D055959  \n",
              "20817  https://meshb.nlm.nih.gov/record/ui?ui=D006528  \n",
              "20818  https://meshb.nlm.nih.gov/record/ui?ui=D006528  \n",
              "\n",
              "[20819 rows x 7 columns]"
            ],
            "text/html": [
              "\n",
              "  <div id=\"df-b23cba70-c9fc-423a-83b9-202cc0736430\">\n",
              "    <div class=\"colab-df-container\">\n",
              "      <div>\n",
              "<style scoped>\n",
              "    .dataframe tbody tr th:only-of-type {\n",
              "        vertical-align: middle;\n",
              "    }\n",
              "\n",
              "    .dataframe tbody tr th {\n",
              "        vertical-align: top;\n",
              "    }\n",
              "\n",
              "    .dataframe thead th {\n",
              "        text-align: right;\n",
              "    }\n",
              "</style>\n",
              "<table border=\"1\" class=\"dataframe\">\n",
              "  <thead>\n",
              "    <tr style=\"text-align: right;\">\n",
              "      <th></th>\n",
              "      <th>Mature_name</th>\n",
              "      <th>seq</th>\n",
              "      <th>mir</th>\n",
              "      <th>result</th>\n",
              "      <th>disease</th>\n",
              "      <th>result_soft</th>\n",
              "      <th>site</th>\n",
              "    </tr>\n",
              "  </thead>\n",
              "  <tbody>\n",
              "    <tr>\n",
              "      <th>0</th>\n",
              "      <td>hsa-miR-125a-5p</td>\n",
              "      <td>UCCCUGAGACCCUUUAACCUGUGA</td>\n",
              "      <td>hsa-mir-125a</td>\n",
              "      <td>down</td>\n",
              "      <td>Breast Neoplasms</td>\n",
              "      <td>-1.000000</td>\n",
              "      <td>https://meshb.nlm.nih.gov/record/ui?ui=D001943</td>\n",
              "    </tr>\n",
              "    <tr>\n",
              "      <th>1</th>\n",
              "      <td>hsa-miR-125a-3p</td>\n",
              "      <td>ACAGGUGAGGUUCUUGGGAGCC</td>\n",
              "      <td>hsa-mir-125a</td>\n",
              "      <td>down</td>\n",
              "      <td>Breast Neoplasms</td>\n",
              "      <td>-1.000000</td>\n",
              "      <td>https://meshb.nlm.nih.gov/record/ui?ui=D001943</td>\n",
              "    </tr>\n",
              "    <tr>\n",
              "      <th>2</th>\n",
              "      <td>hsa-miR-125b-5p</td>\n",
              "      <td>UCCCUGAGACCCUAACUUGUGA</td>\n",
              "      <td>hsa-mir-125b-1</td>\n",
              "      <td>down</td>\n",
              "      <td>Breast Neoplasms</td>\n",
              "      <td>-0.333333</td>\n",
              "      <td>https://meshb.nlm.nih.gov/record/ui?ui=D001943</td>\n",
              "    </tr>\n",
              "    <tr>\n",
              "      <th>3</th>\n",
              "      <td>hsa-miR-125b-1-3p</td>\n",
              "      <td>ACGGGUUAGGCUCUUGGGAGCU</td>\n",
              "      <td>hsa-mir-125b-1</td>\n",
              "      <td>down</td>\n",
              "      <td>Breast Neoplasms</td>\n",
              "      <td>-0.333333</td>\n",
              "      <td>https://meshb.nlm.nih.gov/record/ui?ui=D001943</td>\n",
              "    </tr>\n",
              "    <tr>\n",
              "      <th>4</th>\n",
              "      <td>hsa-miR-125b-5p</td>\n",
              "      <td>UCCCUGAGACCCUAACUUGUGA</td>\n",
              "      <td>hsa-mir-125b-2</td>\n",
              "      <td>down</td>\n",
              "      <td>Breast Neoplasms</td>\n",
              "      <td>-0.250000</td>\n",
              "      <td>https://meshb.nlm.nih.gov/record/ui?ui=D001943</td>\n",
              "    </tr>\n",
              "    <tr>\n",
              "      <th>...</th>\n",
              "      <td>...</td>\n",
              "      <td>...</td>\n",
              "      <td>...</td>\n",
              "      <td>...</td>\n",
              "      <td>...</td>\n",
              "      <td>...</td>\n",
              "      <td>...</td>\n",
              "    </tr>\n",
              "    <tr>\n",
              "      <th>20814</th>\n",
              "      <td>hsa-miR-27b-3p</td>\n",
              "      <td>UUCACAGUGGCUAAGUUCUGC</td>\n",
              "      <td>hsa-mir-27b</td>\n",
              "      <td>down</td>\n",
              "      <td>Atrial Fibrillation</td>\n",
              "      <td>-1.000000</td>\n",
              "      <td>https://meshb.nlm.nih.gov/record/ui?ui=D001281</td>\n",
              "    </tr>\n",
              "    <tr>\n",
              "      <th>20815</th>\n",
              "      <td>hsa-miR-140-5p</td>\n",
              "      <td>CAGUGGUUUUACCCUAUGGUAG</td>\n",
              "      <td>hsa-mir-140</td>\n",
              "      <td>down</td>\n",
              "      <td>Intervertebral Disc Degeneration</td>\n",
              "      <td>-1.000000</td>\n",
              "      <td>https://meshb.nlm.nih.gov/record/ui?ui=D055959</td>\n",
              "    </tr>\n",
              "    <tr>\n",
              "      <th>20816</th>\n",
              "      <td>hsa-miR-140-3p</td>\n",
              "      <td>UACCACAGGGUAGAACCACGG</td>\n",
              "      <td>hsa-mir-140</td>\n",
              "      <td>down</td>\n",
              "      <td>Intervertebral Disc Degeneration</td>\n",
              "      <td>-1.000000</td>\n",
              "      <td>https://meshb.nlm.nih.gov/record/ui?ui=D055959</td>\n",
              "    </tr>\n",
              "    <tr>\n",
              "      <th>20817</th>\n",
              "      <td>hsa-miR-410-5p</td>\n",
              "      <td>AGGUUGUCUGUGAUGAGUUCG</td>\n",
              "      <td>hsa-mir-410</td>\n",
              "      <td>down</td>\n",
              "      <td>Carcinoma, Hepatocellular</td>\n",
              "      <td>-1.000000</td>\n",
              "      <td>https://meshb.nlm.nih.gov/record/ui?ui=D006528</td>\n",
              "    </tr>\n",
              "    <tr>\n",
              "      <th>20818</th>\n",
              "      <td>hsa-miR-410-3p</td>\n",
              "      <td>AAUAUAACACAGAUGGCCUGU</td>\n",
              "      <td>hsa-mir-410</td>\n",
              "      <td>down</td>\n",
              "      <td>Carcinoma, Hepatocellular</td>\n",
              "      <td>-1.000000</td>\n",
              "      <td>https://meshb.nlm.nih.gov/record/ui?ui=D006528</td>\n",
              "    </tr>\n",
              "  </tbody>\n",
              "</table>\n",
              "<p>20819 rows × 7 columns</p>\n",
              "</div>\n",
              "      <button class=\"colab-df-convert\" onclick=\"convertToInteractive('df-b23cba70-c9fc-423a-83b9-202cc0736430')\"\n",
              "              title=\"Convert this dataframe to an interactive table.\"\n",
              "              style=\"display:none;\">\n",
              "        \n",
              "  <svg xmlns=\"http://www.w3.org/2000/svg\" height=\"24px\"viewBox=\"0 0 24 24\"\n",
              "       width=\"24px\">\n",
              "    <path d=\"M0 0h24v24H0V0z\" fill=\"none\"/>\n",
              "    <path d=\"M18.56 5.44l.94 2.06.94-2.06 2.06-.94-2.06-.94-.94-2.06-.94 2.06-2.06.94zm-11 1L8.5 8.5l.94-2.06 2.06-.94-2.06-.94L8.5 2.5l-.94 2.06-2.06.94zm10 10l.94 2.06.94-2.06 2.06-.94-2.06-.94-.94-2.06-.94 2.06-2.06.94z\"/><path d=\"M17.41 7.96l-1.37-1.37c-.4-.4-.92-.59-1.43-.59-.52 0-1.04.2-1.43.59L10.3 9.45l-7.72 7.72c-.78.78-.78 2.05 0 2.83L4 21.41c.39.39.9.59 1.41.59.51 0 1.02-.2 1.41-.59l7.78-7.78 2.81-2.81c.8-.78.8-2.07 0-2.86zM5.41 20L4 18.59l7.72-7.72 1.47 1.35L5.41 20z\"/>\n",
              "  </svg>\n",
              "      </button>\n",
              "      \n",
              "  <style>\n",
              "    .colab-df-container {\n",
              "      display:flex;\n",
              "      flex-wrap:wrap;\n",
              "      gap: 12px;\n",
              "    }\n",
              "\n",
              "    .colab-df-convert {\n",
              "      background-color: #E8F0FE;\n",
              "      border: none;\n",
              "      border-radius: 50%;\n",
              "      cursor: pointer;\n",
              "      display: none;\n",
              "      fill: #1967D2;\n",
              "      height: 32px;\n",
              "      padding: 0 0 0 0;\n",
              "      width: 32px;\n",
              "    }\n",
              "\n",
              "    .colab-df-convert:hover {\n",
              "      background-color: #E2EBFA;\n",
              "      box-shadow: 0px 1px 2px rgba(60, 64, 67, 0.3), 0px 1px 3px 1px rgba(60, 64, 67, 0.15);\n",
              "      fill: #174EA6;\n",
              "    }\n",
              "\n",
              "    [theme=dark] .colab-df-convert {\n",
              "      background-color: #3B4455;\n",
              "      fill: #D2E3FC;\n",
              "    }\n",
              "\n",
              "    [theme=dark] .colab-df-convert:hover {\n",
              "      background-color: #434B5C;\n",
              "      box-shadow: 0px 1px 3px 1px rgba(0, 0, 0, 0.15);\n",
              "      filter: drop-shadow(0px 1px 2px rgba(0, 0, 0, 0.3));\n",
              "      fill: #FFFFFF;\n",
              "    }\n",
              "  </style>\n",
              "\n",
              "      <script>\n",
              "        const buttonEl =\n",
              "          document.querySelector('#df-b23cba70-c9fc-423a-83b9-202cc0736430 button.colab-df-convert');\n",
              "        buttonEl.style.display =\n",
              "          google.colab.kernel.accessAllowed ? 'block' : 'none';\n",
              "\n",
              "        async function convertToInteractive(key) {\n",
              "          const element = document.querySelector('#df-b23cba70-c9fc-423a-83b9-202cc0736430');\n",
              "          const dataTable =\n",
              "            await google.colab.kernel.invokeFunction('convertToInteractive',\n",
              "                                                     [key], {});\n",
              "          if (!dataTable) return;\n",
              "\n",
              "          const docLinkHtml = 'Like what you see? Visit the ' +\n",
              "            '<a target=\"_blank\" href=https://colab.research.google.com/notebooks/data_table.ipynb>data table notebook</a>'\n",
              "            + ' to learn more about interactive tables.';\n",
              "          element.innerHTML = '';\n",
              "          dataTable['output_type'] = 'display_data';\n",
              "          await google.colab.output.renderOutput(dataTable, element);\n",
              "          const docLink = document.createElement('div');\n",
              "          docLink.innerHTML = docLinkHtml;\n",
              "          element.appendChild(docLink);\n",
              "        }\n",
              "      </script>\n",
              "    </div>\n",
              "  </div>\n",
              "  "
            ]
          },
          "metadata": {},
          "execution_count": 11
        }
      ]
    },
    {
      "cell_type": "code",
      "source": [
        "count = 0\n",
        "for i in range(len(df_cir_full)):\n",
        "  if df_cir_full.iloc[i]['site'] == \"\": count += 1\n",
        "\n",
        "count"
      ],
      "metadata": {
        "colab": {
          "base_uri": "https://localhost:8080/"
        },
        "id": "4B-UA4xvPB_W",
        "outputId": "623850d2-da48-4451-80b9-8084dbcb37e0"
      },
      "execution_count": null,
      "outputs": [
        {
          "output_type": "execute_result",
          "data": {
            "text/plain": [
              "3893"
            ]
          },
          "metadata": {},
          "execution_count": 12
        }
      ]
    },
    {
      "cell_type": "code",
      "source": [
        "import re"
      ],
      "metadata": {
        "id": "IGAngYklpQmV"
      },
      "execution_count": null,
      "outputs": []
    },
    {
      "cell_type": "code",
      "source": [
        "def getAllDiscriptor(num, soup, discriptor_num, discriptor_name):\n",
        "  data = soup.find(id=\"treesTabContent\").get_text().split('\\n')\n",
        "  data = list(filter(None, data))\n",
        "  \n",
        "  for i in range(len(data)):\n",
        "    discriptor = data[i].split('[')\n",
        "    discriptor[1] = discriptor[1].replace(']', \"\")\n",
        "    if discriptor[1] in num and discriptor[1] not in discriptor_num:\n",
        "      discriptor_num.append(discriptor[1].strip())\n",
        "      discriptor_name.append(discriptor[0].strip())\n",
        "  return discriptor_num, discriptor_name\n",
        "discriptor_num = []\n",
        "discriptor_name = []\n",
        "response = requests.get(\"https://meshb.nlm.nih.gov/record/ui?ui=D003110\")\n",
        "soup = BeautifulSoup(response.text, \"html.parser\")\n",
        "getAllDiscriptor('C04.588.274.476.411.307.180', soup, discriptor_num, discriptor_name)\n"
      ],
      "metadata": {
        "colab": {
          "base_uri": "https://localhost:8080/"
        },
        "id": "dNXty5NhWIxT",
        "outputId": "dd212878-2485-400b-ce3a-36d180fe157b"
      },
      "execution_count": null,
      "outputs": [
        {
          "output_type": "execute_result",
          "data": {
            "text/plain": [
              "(['C04',\n",
              "  'C04.588',\n",
              "  'C04.588.274',\n",
              "  'C04.588.274.476',\n",
              "  'C04.588.274.476.411',\n",
              "  'C04.588.274.476.411.307',\n",
              "  'C04.588.274.476.411.307.180'],\n",
              " ['Neoplasms',\n",
              "  'Neoplasms by Site',\n",
              "  'Digestive System Neoplasms',\n",
              "  'Gastrointestinal Neoplasms',\n",
              "  'Intestinal Neoplasms',\n",
              "  'Colorectal Neoplasms',\n",
              "  'Colonic Neoplasms'])"
            ]
          },
          "metadata": {},
          "execution_count": 14
        }
      ]
    },
    {
      "cell_type": "code",
      "source": [
        "def getDiscriptorBySite(site, root_disease):  \n",
        "  response = requests.get(site)\n",
        "  soup = BeautifulSoup(response.text, \"html.parser\")\n",
        "  discriptors = soup.findAll('strong')\n",
        "  # trees = soup.findAll(id=re.compile('treeNumber'))\n",
        "  discriptor_name = []\n",
        "  discriptor_num = []\n",
        "  \n",
        "  root_name = []\n",
        "  root_num = []\n",
        "  for discriptor in discriptors:\n",
        "    discriptor = discriptor.get_text()\n",
        "    discriptor = discriptor.split('[')\n",
        "    discriptor[1] = discriptor[1].replace(']', \"\")\n",
        "    discriptor_num.append(discriptor[1].strip())\n",
        "    discriptor_name.append(discriptor[0].strip())\n",
        "    root_num.append(discriptor[1].strip())\n",
        "  # print(discriptor_name, discriptor_num)\n",
        "  for num in root_num:\n",
        "    # print(num)\n",
        "    discriptor_num, discriptor_name,  = getAllDiscriptor(num, soup, discriptor_num, discriptor_name)\n",
        "  root_disease_list = [ root_disease for i in discriptor_name]\n",
        "  return root_disease_list, discriptor_name, discriptor_num\n",
        "\n",
        "\n",
        "\n",
        "root_disease_list, discriptor_name, discriptor_num = getDiscriptorBySite('https://meshb.nlm.nih.gov/record/ui?ui=D003110', \"name\")\n",
        "for i in range(len(root_disease_list)):\n",
        "  print(\"root: {}\\t name: {}\\t\\t\\t\\t\\t\\t number: {}\\t\".format(root_disease_list[i], discriptor_name[i], discriptor_num[i]))"
      ],
      "metadata": {
        "id": "RqnxA9vxlp4w",
        "colab": {
          "base_uri": "https://localhost:8080/"
        },
        "outputId": "77aa9ad7-2cbf-4628-9528-e91a00bcf33e"
      },
      "execution_count": null,
      "outputs": [
        {
          "output_type": "stream",
          "name": "stdout",
          "text": [
            "root: name\t name: Colonic Neoplasms\t\t\t\t\t\t number: C04.588.274.476.411.307.180\t\n",
            "root: name\t name: Colonic Neoplasms\t\t\t\t\t\t number: C06.301.371.411.307.180\t\n",
            "root: name\t name: Colonic Neoplasms\t\t\t\t\t\t number: C06.405.249.411.307.180\t\n",
            "root: name\t name: Colonic Neoplasms\t\t\t\t\t\t number: C06.405.469.158.356.180\t\n",
            "root: name\t name: Colonic Neoplasms\t\t\t\t\t\t number: C06.405.469.491.307.180\t\n",
            "root: name\t name: Neoplasms\t\t\t\t\t\t number: C04\t\n",
            "root: name\t name: Neoplasms by Site\t\t\t\t\t\t number: C04.588\t\n",
            "root: name\t name: Digestive System Neoplasms\t\t\t\t\t\t number: C04.588.274\t\n",
            "root: name\t name: Gastrointestinal Neoplasms\t\t\t\t\t\t number: C04.588.274.476\t\n",
            "root: name\t name: Intestinal Neoplasms\t\t\t\t\t\t number: C04.588.274.476.411\t\n",
            "root: name\t name: Colorectal Neoplasms\t\t\t\t\t\t number: C04.588.274.476.411.307\t\n",
            "root: name\t name: Digestive System Diseases\t\t\t\t\t\t number: C06\t\n",
            "root: name\t name: Digestive System Neoplasms\t\t\t\t\t\t number: C06.301\t\n",
            "root: name\t name: Gastrointestinal Neoplasms\t\t\t\t\t\t number: C06.301.371\t\n",
            "root: name\t name: Intestinal Neoplasms\t\t\t\t\t\t number: C06.301.371.411\t\n",
            "root: name\t name: Colorectal Neoplasms\t\t\t\t\t\t number: C06.301.371.411.307\t\n",
            "root: name\t name: Gastrointestinal Diseases\t\t\t\t\t\t number: C06.405\t\n",
            "root: name\t name: Gastrointestinal Neoplasms\t\t\t\t\t\t number: C06.405.249\t\n",
            "root: name\t name: Intestinal Neoplasms\t\t\t\t\t\t number: C06.405.249.411\t\n",
            "root: name\t name: Colorectal Neoplasms\t\t\t\t\t\t number: C06.405.249.411.307\t\n",
            "root: name\t name: Intestinal Diseases\t\t\t\t\t\t number: C06.405.469\t\n",
            "root: name\t name: Colonic Diseases\t\t\t\t\t\t number: C06.405.469.158\t\n",
            "root: name\t name: Colorectal Neoplasms\t\t\t\t\t\t number: C06.405.469.158.356\t\n",
            "root: name\t name: Intestinal Neoplasms\t\t\t\t\t\t number: C06.405.469.491\t\n",
            "root: name\t name: Colorectal Neoplasms\t\t\t\t\t\t number: C06.405.469.491.307\t\n"
          ]
        }
      ]
    },
    {
      "cell_type": "code",
      "source": [
        "all_root_disease = []\n",
        "all_discriptor_name = []\n",
        "all_discriptor_num = []\n",
        "for i, (k, v) in tqdm(enumerate(site_dictionary.items())):\n",
        "  root_disease = k\n",
        "  site = v\n",
        "  if site != \"\":\n",
        "    root_disease_list, discriptor_name, discriptor_num = getDiscriptorBySite(site, root_disease)\n",
        "    all_root_disease.extend(root_disease_list)\n",
        "    all_discriptor_name.extend(discriptor_name)\n",
        "    all_discriptor_num.extend(discriptor_num)\n",
        "\n",
        "d = {'root_disease': all_root_disease, 'discriptor_name': all_discriptor_name, 'all_discriptor_num': all_discriptor_num}\n",
        "df = pd.DataFrame(data=d)\n",
        "df"
      ],
      "metadata": {
        "colab": {
          "base_uri": "https://localhost:8080/",
          "height": 441
        },
        "id": "G33od80goP1w",
        "outputId": "1c55b863-d488-4a4c-838c-598a9e5bec7c"
      },
      "execution_count": null,
      "outputs": [
        {
          "output_type": "stream",
          "name": "stderr",
          "text": [
            "629it [10:03,  1.04it/s]\n"
          ]
        },
        {
          "output_type": "execute_result",
          "data": {
            "text/plain": [
              "          root_disease                      discriptor_name all_discriptor_num\n",
              "0     Breast Neoplasms                     Breast Neoplasms        C04.588.180\n",
              "1     Breast Neoplasms                     Breast Neoplasms    C17.800.090.500\n",
              "2     Breast Neoplasms                            Neoplasms                C04\n",
              "3     Breast Neoplasms                    Neoplasms by Site            C04.588\n",
              "4     Breast Neoplasms  Skin and Connective Tissue Diseases                C17\n",
              "...                ...                                  ...                ...\n",
              "5193      Chronic Pain                   Signs and Symptoms            C23.888\n",
              "5194      Chronic Pain            Neurologic Manifestations        C23.888.592\n",
              "5195      Chronic Pain                                 Pain    C23.888.592.612\n",
              "5196           Allergy                     Hypersensitivity            C20.543\n",
              "5197           Allergy               Immune System Diseases                C20\n",
              "\n",
              "[5198 rows x 3 columns]"
            ],
            "text/html": [
              "\n",
              "  <div id=\"df-9229b4c4-9ec5-4528-971b-31e96abf8200\">\n",
              "    <div class=\"colab-df-container\">\n",
              "      <div>\n",
              "<style scoped>\n",
              "    .dataframe tbody tr th:only-of-type {\n",
              "        vertical-align: middle;\n",
              "    }\n",
              "\n",
              "    .dataframe tbody tr th {\n",
              "        vertical-align: top;\n",
              "    }\n",
              "\n",
              "    .dataframe thead th {\n",
              "        text-align: right;\n",
              "    }\n",
              "</style>\n",
              "<table border=\"1\" class=\"dataframe\">\n",
              "  <thead>\n",
              "    <tr style=\"text-align: right;\">\n",
              "      <th></th>\n",
              "      <th>root_disease</th>\n",
              "      <th>discriptor_name</th>\n",
              "      <th>all_discriptor_num</th>\n",
              "    </tr>\n",
              "  </thead>\n",
              "  <tbody>\n",
              "    <tr>\n",
              "      <th>0</th>\n",
              "      <td>Breast Neoplasms</td>\n",
              "      <td>Breast Neoplasms</td>\n",
              "      <td>C04.588.180</td>\n",
              "    </tr>\n",
              "    <tr>\n",
              "      <th>1</th>\n",
              "      <td>Breast Neoplasms</td>\n",
              "      <td>Breast Neoplasms</td>\n",
              "      <td>C17.800.090.500</td>\n",
              "    </tr>\n",
              "    <tr>\n",
              "      <th>2</th>\n",
              "      <td>Breast Neoplasms</td>\n",
              "      <td>Neoplasms</td>\n",
              "      <td>C04</td>\n",
              "    </tr>\n",
              "    <tr>\n",
              "      <th>3</th>\n",
              "      <td>Breast Neoplasms</td>\n",
              "      <td>Neoplasms by Site</td>\n",
              "      <td>C04.588</td>\n",
              "    </tr>\n",
              "    <tr>\n",
              "      <th>4</th>\n",
              "      <td>Breast Neoplasms</td>\n",
              "      <td>Skin and Connective Tissue Diseases</td>\n",
              "      <td>C17</td>\n",
              "    </tr>\n",
              "    <tr>\n",
              "      <th>...</th>\n",
              "      <td>...</td>\n",
              "      <td>...</td>\n",
              "      <td>...</td>\n",
              "    </tr>\n",
              "    <tr>\n",
              "      <th>5193</th>\n",
              "      <td>Chronic Pain</td>\n",
              "      <td>Signs and Symptoms</td>\n",
              "      <td>C23.888</td>\n",
              "    </tr>\n",
              "    <tr>\n",
              "      <th>5194</th>\n",
              "      <td>Chronic Pain</td>\n",
              "      <td>Neurologic Manifestations</td>\n",
              "      <td>C23.888.592</td>\n",
              "    </tr>\n",
              "    <tr>\n",
              "      <th>5195</th>\n",
              "      <td>Chronic Pain</td>\n",
              "      <td>Pain</td>\n",
              "      <td>C23.888.592.612</td>\n",
              "    </tr>\n",
              "    <tr>\n",
              "      <th>5196</th>\n",
              "      <td>Allergy</td>\n",
              "      <td>Hypersensitivity</td>\n",
              "      <td>C20.543</td>\n",
              "    </tr>\n",
              "    <tr>\n",
              "      <th>5197</th>\n",
              "      <td>Allergy</td>\n",
              "      <td>Immune System Diseases</td>\n",
              "      <td>C20</td>\n",
              "    </tr>\n",
              "  </tbody>\n",
              "</table>\n",
              "<p>5198 rows × 3 columns</p>\n",
              "</div>\n",
              "      <button class=\"colab-df-convert\" onclick=\"convertToInteractive('df-9229b4c4-9ec5-4528-971b-31e96abf8200')\"\n",
              "              title=\"Convert this dataframe to an interactive table.\"\n",
              "              style=\"display:none;\">\n",
              "        \n",
              "  <svg xmlns=\"http://www.w3.org/2000/svg\" height=\"24px\"viewBox=\"0 0 24 24\"\n",
              "       width=\"24px\">\n",
              "    <path d=\"M0 0h24v24H0V0z\" fill=\"none\"/>\n",
              "    <path d=\"M18.56 5.44l.94 2.06.94-2.06 2.06-.94-2.06-.94-.94-2.06-.94 2.06-2.06.94zm-11 1L8.5 8.5l.94-2.06 2.06-.94-2.06-.94L8.5 2.5l-.94 2.06-2.06.94zm10 10l.94 2.06.94-2.06 2.06-.94-2.06-.94-.94-2.06-.94 2.06-2.06.94z\"/><path d=\"M17.41 7.96l-1.37-1.37c-.4-.4-.92-.59-1.43-.59-.52 0-1.04.2-1.43.59L10.3 9.45l-7.72 7.72c-.78.78-.78 2.05 0 2.83L4 21.41c.39.39.9.59 1.41.59.51 0 1.02-.2 1.41-.59l7.78-7.78 2.81-2.81c.8-.78.8-2.07 0-2.86zM5.41 20L4 18.59l7.72-7.72 1.47 1.35L5.41 20z\"/>\n",
              "  </svg>\n",
              "      </button>\n",
              "      \n",
              "  <style>\n",
              "    .colab-df-container {\n",
              "      display:flex;\n",
              "      flex-wrap:wrap;\n",
              "      gap: 12px;\n",
              "    }\n",
              "\n",
              "    .colab-df-convert {\n",
              "      background-color: #E8F0FE;\n",
              "      border: none;\n",
              "      border-radius: 50%;\n",
              "      cursor: pointer;\n",
              "      display: none;\n",
              "      fill: #1967D2;\n",
              "      height: 32px;\n",
              "      padding: 0 0 0 0;\n",
              "      width: 32px;\n",
              "    }\n",
              "\n",
              "    .colab-df-convert:hover {\n",
              "      background-color: #E2EBFA;\n",
              "      box-shadow: 0px 1px 2px rgba(60, 64, 67, 0.3), 0px 1px 3px 1px rgba(60, 64, 67, 0.15);\n",
              "      fill: #174EA6;\n",
              "    }\n",
              "\n",
              "    [theme=dark] .colab-df-convert {\n",
              "      background-color: #3B4455;\n",
              "      fill: #D2E3FC;\n",
              "    }\n",
              "\n",
              "    [theme=dark] .colab-df-convert:hover {\n",
              "      background-color: #434B5C;\n",
              "      box-shadow: 0px 1px 3px 1px rgba(0, 0, 0, 0.15);\n",
              "      filter: drop-shadow(0px 1px 2px rgba(0, 0, 0, 0.3));\n",
              "      fill: #FFFFFF;\n",
              "    }\n",
              "  </style>\n",
              "\n",
              "      <script>\n",
              "        const buttonEl =\n",
              "          document.querySelector('#df-9229b4c4-9ec5-4528-971b-31e96abf8200 button.colab-df-convert');\n",
              "        buttonEl.style.display =\n",
              "          google.colab.kernel.accessAllowed ? 'block' : 'none';\n",
              "\n",
              "        async function convertToInteractive(key) {\n",
              "          const element = document.querySelector('#df-9229b4c4-9ec5-4528-971b-31e96abf8200');\n",
              "          const dataTable =\n",
              "            await google.colab.kernel.invokeFunction('convertToInteractive',\n",
              "                                                     [key], {});\n",
              "          if (!dataTable) return;\n",
              "\n",
              "          const docLinkHtml = 'Like what you see? Visit the ' +\n",
              "            '<a target=\"_blank\" href=https://colab.research.google.com/notebooks/data_table.ipynb>data table notebook</a>'\n",
              "            + ' to learn more about interactive tables.';\n",
              "          element.innerHTML = '';\n",
              "          dataTable['output_type'] = 'display_data';\n",
              "          await google.colab.output.renderOutput(dataTable, element);\n",
              "          const docLink = document.createElement('div');\n",
              "          docLink.innerHTML = docLinkHtml;\n",
              "          element.appendChild(docLink);\n",
              "        }\n",
              "      </script>\n",
              "    </div>\n",
              "  </div>\n",
              "  "
            ]
          },
          "metadata": {},
          "execution_count": 16
        }
      ]
    },
    {
      "cell_type": "code",
      "source": [
        "df.to_csv(r\"/content/drive/MyDrive/miRNA/Circulation_data_seq/mesh.csv\", index=False)"
      ],
      "metadata": {
        "id": "SL065GVyt0T5"
      },
      "execution_count": null,
      "outputs": []
    },
    {
      "cell_type": "code",
      "source": [],
      "metadata": {
        "id": "4JWYcgRmuyNP"
      },
      "execution_count": null,
      "outputs": []
    }
  ]
}